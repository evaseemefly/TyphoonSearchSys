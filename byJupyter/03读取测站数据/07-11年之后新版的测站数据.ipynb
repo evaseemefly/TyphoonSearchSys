{
 "cells": [
  {
   "cell_type": "code",
   "execution_count": 1,
   "metadata": {
    "collapsed": true
   },
   "outputs": [],
   "source": [
    "from mongoengine import *\n",
    "import os\n",
    "import pandas as pd\n",
    "from pandas import Series,DataFrame\n",
    "import datetime"
   ]
  },
  {
   "cell_type": "markdown",
   "metadata": {},
   "source": [
    "# 1 读取文件"
   ]
  },
  {
   "cell_type": "markdown",
   "metadata": {},
   "source": [
    "### 读取方式1：使用pandas"
   ]
  },
  {
   "cell_type": "code",
   "execution_count": 5,
   "metadata": {
    "collapsed": true
   },
   "outputs": [],
   "source": [
    "targetfilename=r\"1409.txt\"\n",
    "# 家中mac\n",
    "# targetpath=r\"/Users/casablanca/03project/typhoonSearchSys/demo_data\"\n",
    "# 单位mac\n",
    "# targetpath=r\"/Users/liusihan/Documents/01project/TyphoonSearchSys/demo_data\"\n",
    "targetpath=r\"/Users/liusihan/Documents/01project/TyphoonSearchSys/data/station/2014\"\n",
    "# mac16\n",
    "# targetpath=r\"/Users/drno/Documents/01proj/TyphoonSearchSys/data/station/2014\"\n",
    "fullname=os.path.join(targetpath,targetfilename)"
   ]
  },
  {
   "cell_type": "code",
   "execution_count": 6,
   "metadata": {},
   "outputs": [
    {
     "data": {
      "text/plain": [
       "'/Users/liusihan/Documents/01project/TyphoonSearchSys/data/station/2014/1409.txt'"
      ]
     },
     "execution_count": 6,
     "metadata": {},
     "output_type": "execute_result"
    }
   ],
   "source": [
    "fullname"
   ]
  },
  {
   "cell_type": "markdown",
   "metadata": {},
   "source": [
    "不使用pandas的read_table"
   ]
  },
  {
   "cell_type": "code",
   "execution_count": 7,
   "metadata": {},
   "outputs": [
    {
     "name": "stdout",
     "output_type": "stream",
     "text": [
      "读取成功\n"
     ]
    }
   ],
   "source": [
    "with open(fullname,'rb') as f:\n",
    "    data=pd.read_table(f,sep='\\n',encoding='utf-8',header=None,infer_datetime_format=False)\n",
    "    print('读取成功')"
   ]
  },
  {
   "cell_type": "code",
   "execution_count": 9,
   "metadata": {},
   "outputs": [
    {
     "data": {
      "text/html": [
       "<div>\n",
       "<style>\n",
       "    .dataframe thead tr:only-child th {\n",
       "        text-align: right;\n",
       "    }\n",
       "\n",
       "    .dataframe thead th {\n",
       "        text-align: left;\n",
       "    }\n",
       "\n",
       "    .dataframe tbody tr th {\n",
       "        vertical-align: top;\n",
       "    }\n",
       "</style>\n",
       "<table border=\"1\" class=\"dataframe\">\n",
       "  <thead>\n",
       "    <tr style=\"text-align: right;\">\n",
       "      <th></th>\n",
       "      <th>0</th>\n",
       "    </tr>\n",
       "  </thead>\n",
       "  <tbody>\n",
       "    <tr>\n",
       "      <th>0</th>\n",
       "      <td>\u00011</td>\n",
       "    </tr>\n",
       "    <tr>\n",
       "      <th>1</th>\n",
       "      <td>TP: 1409      S.N.    745   XISHA          ...</td>\n",
       "    </tr>\n",
       "    <tr>\n",
       "      <th>2</th>\n",
       "      <td>0    1    2    3    4    5    6    7 ...</td>\n",
       "    </tr>\n",
       "    <tr>\n",
       "      <th>3</th>\n",
       "      <td>+</td>\n",
       "    </tr>\n",
       "    <tr>\n",
       "      <th>4</th>\n",
       "      <td>130  139  146  148  143  141  143  150 ...</td>\n",
       "    </tr>\n",
       "    <tr>\n",
       "      <th>5</th>\n",
       "      <td>716  106  118  127  131  132  131  131  133 ...</td>\n",
       "    </tr>\n",
       "    <tr>\n",
       "      <th>6</th>\n",
       "      <td>24   21   19   17   11   10   12   17 ...</td>\n",
       "    </tr>\n",
       "    <tr>\n",
       "      <th>7</th>\n",
       "      <td>133  145  156  158  155  152  150  146 ...</td>\n",
       "    </tr>\n",
       "  </tbody>\n",
       "</table>\n",
       "</div>"
      ],
      "text/plain": [
       "                                                   0\n",
       "0                                                 \u00011\n",
       "1     TP: 1409      S.N.    745   XISHA          ...\n",
       "2           0    1    2    3    4    5    6    7 ...\n",
       "3                                                  +\n",
       "4         130  139  146  148  143  141  143  150 ...\n",
       "5    716  106  118  127  131  132  131  131  133 ...\n",
       "6          24   21   19   17   11   10   12   17 ...\n",
       "7         133  145  156  158  155  152  150  146 ..."
      ]
     },
     "execution_count": 9,
     "metadata": {},
     "output_type": "execute_result"
    }
   ],
   "source": [
    "data.head(8)"
   ]
  },
  {
   "cell_type": "code",
   "execution_count": 10,
   "metadata": {},
   "outputs": [
    {
     "data": {
      "text/html": [
       "<div>\n",
       "<style>\n",
       "    .dataframe thead tr:only-child th {\n",
       "        text-align: right;\n",
       "    }\n",
       "\n",
       "    .dataframe thead th {\n",
       "        text-align: left;\n",
       "    }\n",
       "\n",
       "    .dataframe tbody tr th {\n",
       "        vertical-align: top;\n",
       "    }\n",
       "</style>\n",
       "<table border=\"1\" class=\"dataframe\">\n",
       "  <thead>\n",
       "    <tr style=\"text-align: right;\">\n",
       "      <th></th>\n",
       "      <th>0</th>\n",
       "    </tr>\n",
       "  </thead>\n",
       "  <tbody>\n",
       "    <tr>\n",
       "      <th>0</th>\n",
       "      <td>\u00011</td>\n",
       "    </tr>\n",
       "    <tr>\n",
       "      <th>1</th>\n",
       "      <td>TP: 1409      S.N.    745   XISHA          ...</td>\n",
       "    </tr>\n",
       "    <tr>\n",
       "      <th>2</th>\n",
       "      <td>0    1    2    3    4    5    6    7 ...</td>\n",
       "    </tr>\n",
       "    <tr>\n",
       "      <th>3</th>\n",
       "      <td>+</td>\n",
       "    </tr>\n",
       "    <tr>\n",
       "      <th>4</th>\n",
       "      <td>130  139  146  148  143  141  143  150 ...</td>\n",
       "    </tr>\n",
       "    <tr>\n",
       "      <th>5</th>\n",
       "      <td>716  106  118  127  131  132  131  131  133 ...</td>\n",
       "    </tr>\n",
       "    <tr>\n",
       "      <th>6</th>\n",
       "      <td>24   21   19   17   11   10   12   17 ...</td>\n",
       "    </tr>\n",
       "    <tr>\n",
       "      <th>7</th>\n",
       "      <td>133  145  156  158  155  152  150  146 ...</td>\n",
       "    </tr>\n",
       "    <tr>\n",
       "      <th>8</th>\n",
       "      <td>717  107  119  129  136  138  136  133  130 ...</td>\n",
       "    </tr>\n",
       "    <tr>\n",
       "      <th>9</th>\n",
       "      <td>26   26   27   22   17   16   17   16 ...</td>\n",
       "    </tr>\n",
       "    <tr>\n",
       "      <th>10</th>\n",
       "      <td>142  156  164  177  176  170  159  159 ...</td>\n",
       "    </tr>\n",
       "    <tr>\n",
       "      <th>11</th>\n",
       "      <td>718  109  121  133  141  145  144  140  135 ...</td>\n",
       "    </tr>\n",
       "    <tr>\n",
       "      <th>12</th>\n",
       "      <td>33   35   31   36   31   26   19   24 ...</td>\n",
       "    </tr>\n",
       "    <tr>\n",
       "      <th>13</th>\n",
       "      <td>134  149  161  170  173  173  168  162 ...</td>\n",
       "    </tr>\n",
       "    <tr>\n",
       "      <th>14</th>\n",
       "      <td>719  113  124  135  145  152  153  150  144 ...</td>\n",
       "    </tr>\n",
       "    <tr>\n",
       "      <th>15</th>\n",
       "      <td>21   25   26   25   21   20   18   18 ...</td>\n",
       "    </tr>\n",
       "    <tr>\n",
       "      <th>16</th>\n",
       "      <td>1</td>\n",
       "    </tr>\n",
       "    <tr>\n",
       "      <th>17</th>\n",
       "      <td>TP: 1409      S.N.  10723   FANGCG         ...</td>\n",
       "    </tr>\n",
       "    <tr>\n",
       "      <th>18</th>\n",
       "      <td>0    1    2    3    4    5    6    7 ...</td>\n",
       "    </tr>\n",
       "    <tr>\n",
       "      <th>19</th>\n",
       "      <td>+</td>\n",
       "    </tr>\n",
       "    <tr>\n",
       "      <th>20</th>\n",
       "      <td>348  292  240  191  161  139  136  142 ...</td>\n",
       "    </tr>\n",
       "    <tr>\n",
       "      <th>21</th>\n",
       "      <td>717  327  283  239  199  169  150  145  152 ...</td>\n",
       "    </tr>\n",
       "    <tr>\n",
       "      <th>22</th>\n",
       "      <td>21    9    1   -8   -8  -11   -9  -10 ...</td>\n",
       "    </tr>\n",
       "    <tr>\n",
       "      <th>23</th>\n",
       "      <td>359  322  276  226  180  156  144  155 ...</td>\n",
       "    </tr>\n",
       "    <tr>\n",
       "      <th>24</th>\n",
       "      <td>718  328  294  257  222  192  174  169  176 ...</td>\n",
       "    </tr>\n",
       "    <tr>\n",
       "      <th>25</th>\n",
       "      <td>31   28   19    4  -12  -18  -25  -21 ...</td>\n",
       "    </tr>\n",
       "    <tr>\n",
       "      <th>26</th>\n",
       "      <td>283  236  206  176  143  131  131  165 ...</td>\n",
       "    </tr>\n",
       "    <tr>\n",
       "      <th>27</th>\n",
       "      <td>719  305  284  258  230  205  188  183  192 ...</td>\n",
       "    </tr>\n",
       "    <tr>\n",
       "      <th>28</th>\n",
       "      <td>-22  -48  -52  -54  -62  -57  -52  -27 ...</td>\n",
       "    </tr>\n",
       "    <tr>\n",
       "      <th>29</th>\n",
       "      <td>...</td>\n",
       "    </tr>\n",
       "    <tr>\n",
       "      <th>...</th>\n",
       "      <td>...</td>\n",
       "    </tr>\n",
       "    <tr>\n",
       "      <th>336</th>\n",
       "      <td>+</td>\n",
       "    </tr>\n",
       "    <tr>\n",
       "      <th>337</th>\n",
       "      <td>188  217  225  212  191  168  143  158 ...</td>\n",
       "    </tr>\n",
       "    <tr>\n",
       "      <th>338</th>\n",
       "      <td>717  198  219  214  195  180  162  144  151 ...</td>\n",
       "    </tr>\n",
       "    <tr>\n",
       "      <th>339</th>\n",
       "      <td>-10   -2   11   17   11    6   -1    7 ...</td>\n",
       "    </tr>\n",
       "    <tr>\n",
       "      <th>340</th>\n",
       "      <td>201  228  243  259  242  216  209  188 ...</td>\n",
       "    </tr>\n",
       "    <tr>\n",
       "      <th>341</th>\n",
       "      <td>718  184  206  223  217  201  184  163  144 ...</td>\n",
       "    </tr>\n",
       "    <tr>\n",
       "      <th>342</th>\n",
       "      <td>17   22   20   42   41   32   46   44 ...</td>\n",
       "    </tr>\n",
       "    <tr>\n",
       "      <th>343</th>\n",
       "      <td>204  199  224  231  236  231  205  182 ...</td>\n",
       "    </tr>\n",
       "    <tr>\n",
       "      <th>344</th>\n",
       "      <td>719  189  195  214  228  224  209  188  164 ...</td>\n",
       "    </tr>\n",
       "    <tr>\n",
       "      <th>345</th>\n",
       "      <td>15    4   10    3   12   22   17   18 ...</td>\n",
       "    </tr>\n",
       "    <tr>\n",
       "      <th>346</th>\n",
       "      <td>212  209  208  223  240  242  225  201 ...</td>\n",
       "    </tr>\n",
       "    <tr>\n",
       "      <th>347</th>\n",
       "      <td>720  199  198  205  222  236  233  216  191 ...</td>\n",
       "    </tr>\n",
       "    <tr>\n",
       "      <th>348</th>\n",
       "      <td>13   11    3    1    4    9    9   10 ...</td>\n",
       "    </tr>\n",
       "    <tr>\n",
       "      <th>349</th>\n",
       "      <td>1</td>\n",
       "    </tr>\n",
       "    <tr>\n",
       "      <th>350</th>\n",
       "      <td>TP: 1409      S.N.    733   CHIWANH        ...</td>\n",
       "    </tr>\n",
       "    <tr>\n",
       "      <th>351</th>\n",
       "      <td>0    1    2    3    4    5    6    7 ...</td>\n",
       "    </tr>\n",
       "    <tr>\n",
       "      <th>352</th>\n",
       "      <td>+</td>\n",
       "    </tr>\n",
       "    <tr>\n",
       "      <th>353</th>\n",
       "      <td>295  319  328  328  314  290  264  235 ...</td>\n",
       "    </tr>\n",
       "    <tr>\n",
       "      <th>354</th>\n",
       "      <td>717  262  283  290  287  273  247  215  187 ...</td>\n",
       "    </tr>\n",
       "    <tr>\n",
       "      <th>355</th>\n",
       "      <td>33   36   38   41   41   43   49   48 ...</td>\n",
       "    </tr>\n",
       "    <tr>\n",
       "      <th>356</th>\n",
       "      <td>306  335  352  358  356  342  313  290 ...</td>\n",
       "    </tr>\n",
       "    <tr>\n",
       "      <th>357</th>\n",
       "      <td>718  245  274  289  292  287  273  247  216 ...</td>\n",
       "    </tr>\n",
       "    <tr>\n",
       "      <th>358</th>\n",
       "      <td>61   61   63   66   69   69   66   74 ...</td>\n",
       "    </tr>\n",
       "    <tr>\n",
       "      <th>359</th>\n",
       "      <td>...</td>\n",
       "    </tr>\n",
       "    <tr>\n",
       "      <th>360</th>\n",
       "      <td>276  309  337  342  340  335  320  300 ...</td>\n",
       "    </tr>\n",
       "    <tr>\n",
       "      <th>361</th>\n",
       "      <td>719  224  259  281  291  293  288  273  249 ...</td>\n",
       "    </tr>\n",
       "    <tr>\n",
       "      <th>362</th>\n",
       "      <td>52   50   56   51   47   47   47   51 ...</td>\n",
       "    </tr>\n",
       "    <tr>\n",
       "      <th>363</th>\n",
       "      <td>253  287  315  332  337  334  329  316 ...</td>\n",
       "    </tr>\n",
       "    <tr>\n",
       "      <th>364</th>\n",
       "      <td>720  207  239  267  285  293  294  289  275 ...</td>\n",
       "    </tr>\n",
       "    <tr>\n",
       "      <th>365</th>\n",
       "      <td>46   48   48   47   44   40   40   41 ...</td>\n",
       "    </tr>\n",
       "  </tbody>\n",
       "</table>\n",
       "<p>366 rows × 1 columns</p>\n",
       "</div>"
      ],
      "text/plain": [
       "                                                     0\n",
       "0                                                   \u00011\n",
       "1       TP: 1409      S.N.    745   XISHA          ...\n",
       "2             0    1    2    3    4    5    6    7 ...\n",
       "3                                                    +\n",
       "4           130  139  146  148  143  141  143  150 ...\n",
       "5      716  106  118  127  131  132  131  131  133 ...\n",
       "6            24   21   19   17   11   10   12   17 ...\n",
       "7           133  145  156  158  155  152  150  146 ...\n",
       "8      717  107  119  129  136  138  136  133  130 ...\n",
       "9            26   26   27   22   17   16   17   16 ...\n",
       "10          142  156  164  177  176  170  159  159 ...\n",
       "11     718  109  121  133  141  145  144  140  135 ...\n",
       "12           33   35   31   36   31   26   19   24 ...\n",
       "13          134  149  161  170  173  173  168  162 ...\n",
       "14     719  113  124  135  145  152  153  150  144 ...\n",
       "15           21   25   26   25   21   20   18   18 ...\n",
       "16                                                   1\n",
       "17      TP: 1409      S.N.  10723   FANGCG         ...\n",
       "18            0    1    2    3    4    5    6    7 ...\n",
       "19                                                   +\n",
       "20          348  292  240  191  161  139  136  142 ...\n",
       "21     717  327  283  239  199  169  150  145  152 ...\n",
       "22           21    9    1   -8   -8  -11   -9  -10 ...\n",
       "23          359  322  276  226  180  156  144  155 ...\n",
       "24     718  328  294  257  222  192  174  169  176 ...\n",
       "25           31   28   19    4  -12  -18  -25  -21 ...\n",
       "26          283  236  206  176  143  131  131  165 ...\n",
       "27     719  305  284  258  230  205  188  183  192 ...\n",
       "28          -22  -48  -52  -54  -62  -57  -52  -27 ...\n",
       "29                                                 ...\n",
       "..                                                 ...\n",
       "336                                                  +\n",
       "337         188  217  225  212  191  168  143  158 ...\n",
       "338    717  198  219  214  195  180  162  144  151 ...\n",
       "339         -10   -2   11   17   11    6   -1    7 ...\n",
       "340         201  228  243  259  242  216  209  188 ...\n",
       "341    718  184  206  223  217  201  184  163  144 ...\n",
       "342          17   22   20   42   41   32   46   44 ...\n",
       "343         204  199  224  231  236  231  205  182 ...\n",
       "344    719  189  195  214  228  224  209  188  164 ...\n",
       "345          15    4   10    3   12   22   17   18 ...\n",
       "346         212  209  208  223  240  242  225  201 ...\n",
       "347    720  199  198  205  222  236  233  216  191 ...\n",
       "348          13   11    3    1    4    9    9   10 ...\n",
       "349                                                  1\n",
       "350     TP: 1409      S.N.    733   CHIWANH        ...\n",
       "351           0    1    2    3    4    5    6    7 ...\n",
       "352                                                  +\n",
       "353         295  319  328  328  314  290  264  235 ...\n",
       "354    717  262  283  290  287  273  247  215  187 ...\n",
       "355          33   36   38   41   41   43   49   48 ...\n",
       "356         306  335  352  358  356  342  313  290 ...\n",
       "357    718  245  274  289  292  287  273  247  216 ...\n",
       "358          61   61   63   66   69   69   66   74 ...\n",
       "359                                                ...\n",
       "360         276  309  337  342  340  335  320  300 ...\n",
       "361    719  224  259  281  291  293  288  273  249 ...\n",
       "362          52   50   56   51   47   47   47   51 ...\n",
       "363         253  287  315  332  337  334  329  316 ...\n",
       "364    720  207  239  267  285  293  294  289  275 ...\n",
       "365          46   48   48   47   44   40   40   41 ...\n",
       "\n",
       "[366 rows x 1 columns]"
      ]
     },
     "execution_count": 10,
     "metadata": {},
     "output_type": "execute_result"
    }
   ],
   "source": [
    "data"
   ]
  },
  {
   "cell_type": "code",
   "execution_count": 11,
   "metadata": {
    "collapsed": true
   },
   "outputs": [],
   "source": [
    "# 找到标志位\n",
    "mark_list=[]\n",
    "for index in range(len(data)):\n",
    "#     temp= data.iloc[index][0]\n",
    "    temp=data.iloc[index][0].split()[0]\n",
    "#     print(temp)\n",
    "    if temp=='+':\n",
    "        mark_list.append(index)"
   ]
  },
  {
   "cell_type": "code",
   "execution_count": 12,
   "metadata": {},
   "outputs": [
    {
     "data": {
      "text/plain": [
       "[3,\n",
       " 19,\n",
       " 36,\n",
       " 53,\n",
       " 70,\n",
       " 87,\n",
       " 104,\n",
       " 120,\n",
       " 136,\n",
       " 152,\n",
       " 169,\n",
       " 186,\n",
       " 203,\n",
       " 220,\n",
       " 237,\n",
       " 254,\n",
       " 271,\n",
       " 288,\n",
       " 304,\n",
       " 320,\n",
       " 336,\n",
       " 352]"
      ]
     },
     "execution_count": 12,
     "metadata": {},
     "output_type": "execute_result"
    }
   ],
   "source": [
    "mark_list"
   ]
  },
  {
   "cell_type": "code",
   "execution_count": 13,
   "metadata": {},
   "outputs": [
    {
     "data": {
      "text/plain": [
       "0    +\n",
       "Name: 3, dtype: object"
      ]
     },
     "execution_count": 13,
     "metadata": {},
     "output_type": "execute_result"
    }
   ],
   "source": [
    "data.iloc[3]"
   ]
  },
  {
   "cell_type": "code",
   "execution_count": 14,
   "metadata": {},
   "outputs": [
    {
     "data": {
      "text/plain": [
       "0       TP: 1409      S.N.    745   XISHA          ...\n",
       "Name: 1, dtype: object"
      ]
     },
     "execution_count": 14,
     "metadata": {},
     "output_type": "execute_result"
    }
   ],
   "source": [
    "data.iloc[1]"
   ]
  },
  {
   "cell_type": "markdown",
   "metadata": {},
   "source": [
    "---"
   ]
  },
  {
   "cell_type": "markdown",
   "metadata": {},
   "source": [
    "# 2 获取测站name以及经纬度信息等要素"
   ]
  },
  {
   "cell_type": "code",
   "execution_count": 15,
   "metadata": {},
   "outputs": [
    {
     "data": {
      "text/plain": [
       "0            TP:\n",
       "1           1409\n",
       "2           S.N.\n",
       "3            745\n",
       "4          XISHA\n",
       "5           LAT.\n",
       "6         16.50'\n",
       "7           LON.\n",
       "8        112.20'\n",
       "9          2014.\n",
       "10          LEV.\n",
       "11           121\n",
       "12          W.L.\n",
       "13             0\n",
       "14    H.G.Y.2006\n",
       "dtype: object"
      ]
     },
     "execution_count": 15,
     "metadata": {},
     "output_type": "execute_result"
    }
   ],
   "source": [
    "data_base=Series(data.iloc[1][0].split())\n",
    "data_base"
   ]
  },
  {
   "cell_type": "markdown",
   "metadata": {},
   "source": [
    "注意base行有可能有一个`tp:1419`的编号  \n",
    "该编号为台风编号"
   ]
  },
  {
   "cell_type": "markdown",
   "metadata": {},
   "source": [
    "### 2.1 获取经纬度数据"
   ]
  },
  {
   "cell_type": "markdown",
   "metadata": {},
   "source": [
    "- 注意此处的经纬度实际小数点后面是分，所以需要进行一个转换"
   ]
  },
  {
   "cell_type": "code",
   "execution_count": 16,
   "metadata": {},
   "outputs": [],
   "source": [
    "# 查找经纬度的标志位\n",
    "lat_index=data_base[data_base=='LAT.'].index[0]\n",
    "lon_index=data_base[data_base=='LON.'].index[0]"
   ]
  },
  {
   "cell_type": "code",
   "execution_count": 19,
   "metadata": {},
   "outputs": [
    {
     "data": {
      "text/plain": [
       "16.5"
      ]
     },
     "execution_count": 19,
     "metadata": {},
     "output_type": "execute_result"
    }
   ],
   "source": [
    "# 获取lat\n",
    "float(data_base.iloc[lat_index+1][:-1])"
   ]
  },
  {
   "cell_type": "code",
   "execution_count": 23,
   "metadata": {},
   "outputs": [],
   "source": [
    "str_lat=data_base.iloc[lat_index+1][:-1]"
   ]
  },
  {
   "cell_type": "code",
   "execution_count": 24,
   "metadata": {},
   "outputs": [],
   "source": [
    "index_point=str_lat.index('.')"
   ]
  },
  {
   "cell_type": "code",
   "execution_count": 25,
   "metadata": {},
   "outputs": [
    {
     "data": {
      "text/plain": [
       "'16'"
      ]
     },
     "execution_count": 25,
     "metadata": {},
     "output_type": "execute_result"
    }
   ],
   "source": [
    "str_lat[:index_point]"
   ]
  },
  {
   "cell_type": "code",
   "execution_count": 30,
   "metadata": {},
   "outputs": [],
   "source": [
    "float_lat=round(int(str_lat[index_point+1:])/60,2)"
   ]
  },
  {
   "cell_type": "code",
   "execution_count": 31,
   "metadata": {},
   "outputs": [
    {
     "data": {
      "text/plain": [
       "16.83"
      ]
     },
     "execution_count": 31,
     "metadata": {},
     "output_type": "execute_result"
    }
   ],
   "source": [
    "# 注意此处为最终修改 by 19-06-19\n",
    "int(str_lat[:index_point])+float_lat"
   ]
  },
  {
   "cell_type": "code",
   "execution_count": 18,
   "metadata": {},
   "outputs": [
    {
     "data": {
      "text/plain": [
       "112.2"
      ]
     },
     "execution_count": 18,
     "metadata": {},
     "output_type": "execute_result"
    }
   ],
   "source": [
    "# 获取lon\n",
    "float(data_base.iloc[lon_index+1][:-1])"
   ]
  },
  {
   "cell_type": "markdown",
   "metadata": {},
   "source": [
    "### 尝试找到tp标记位"
   ]
  },
  {
   "cell_type": "code",
   "execution_count": 32,
   "metadata": {},
   "outputs": [
    {
     "data": {
      "text/plain": [
       "True"
      ]
     },
     "execution_count": 32,
     "metadata": {},
     "output_type": "execute_result"
    }
   ],
   "source": [
    "data_base[data_base=='TP:'].count()==1"
   ]
  },
  {
   "cell_type": "code",
   "execution_count": 33,
   "metadata": {},
   "outputs": [
    {
     "data": {
      "text/plain": [
       "0"
      ]
     },
     "execution_count": 33,
     "metadata": {},
     "output_type": "execute_result"
    }
   ],
   "source": [
    "data_base[data_base=='TP:'].index[0]"
   ]
  },
  {
   "cell_type": "code",
   "execution_count": 34,
   "metadata": {},
   "outputs": [
    {
     "data": {
      "text/plain": [
       "'1409'"
      ]
     },
     "execution_count": 34,
     "metadata": {},
     "output_type": "execute_result"
    }
   ],
   "source": [
    "data_base.iloc[1]"
   ]
  },
  {
   "cell_type": "markdown",
   "metadata": {},
   "source": [
    "### 2.2 获取测站名称"
   ]
  },
  {
   "cell_type": "code",
   "execution_count": 36,
   "metadata": {},
   "outputs": [
    {
     "data": {
      "text/plain": [
       "'745'"
      ]
     },
     "execution_count": 36,
     "metadata": {},
     "output_type": "execute_result"
    }
   ],
   "source": [
    "data_base[data_base[data_base=='TP:'].index[0]+3]"
   ]
  },
  {
   "cell_type": "markdown",
   "metadata": {},
   "source": [
    "### 找到code（字符串）以及num（数字）"
   ]
  },
  {
   "cell_type": "code",
   "execution_count": 44,
   "metadata": {},
   "outputs": [
    {
     "data": {
      "text/plain": [
       "0            TP:\n",
       "1           1409\n",
       "2           S.N.\n",
       "3            745\n",
       "4          XISHA\n",
       "5           LAT.\n",
       "6         16.50'\n",
       "7           LON.\n",
       "8        112.20'\n",
       "9          2014.\n",
       "10          LEV.\n",
       "11           121\n",
       "12          W.L.\n",
       "13             0\n",
       "14    H.G.Y.2006\n",
       "dtype: object"
      ]
     },
     "execution_count": 44,
     "metadata": {},
     "output_type": "execute_result"
    }
   ],
   "source": [
    "data_base"
   ]
  },
  {
   "cell_type": "code",
   "execution_count": 43,
   "metadata": {},
   "outputs": [
    {
     "data": {
      "text/plain": [
       "2    S.N.\n",
       "dtype: object"
      ]
     },
     "execution_count": 43,
     "metadata": {},
     "output_type": "execute_result"
    }
   ],
   "source": [
    "data_base[data_base=='S.N.']"
   ]
  },
  {
   "cell_type": "code",
   "execution_count": 46,
   "metadata": {},
   "outputs": [
    {
     "data": {
      "text/plain": [
       "'XISHA'"
      ]
     },
     "execution_count": 46,
     "metadata": {},
     "output_type": "execute_result"
    }
   ],
   "source": [
    "# 找到code（字符串）\n",
    "data_base[data_base[data_base=='S.N.'].index[0]+2]"
   ]
  },
  {
   "cell_type": "markdown",
   "metadata": {},
   "source": [
    "### 2.3 平均海平面与警戒潮位等其他数据"
   ]
  },
  {
   "cell_type": "code",
   "execution_count": 38,
   "metadata": {},
   "outputs": [
    {
     "data": {
      "text/plain": [
       "10"
      ]
     },
     "execution_count": 38,
     "metadata": {},
     "output_type": "execute_result"
    }
   ],
   "source": [
    "lev_index=data_base[data_base=='LEV.'].index[0]\n",
    "lev_index"
   ]
  },
  {
   "cell_type": "code",
   "execution_count": 39,
   "metadata": {},
   "outputs": [
    {
     "data": {
      "text/plain": [
       "12"
      ]
     },
     "execution_count": 39,
     "metadata": {},
     "output_type": "execute_result"
    }
   ],
   "source": [
    "wl_index=data_base[data_base=='W.L.'].index[0]\n",
    "wl_index"
   ]
  },
  {
   "cell_type": "code",
   "execution_count": 40,
   "metadata": {},
   "outputs": [
    {
     "data": {
      "text/plain": [
       "'121'"
      ]
     },
     "execution_count": 40,
     "metadata": {},
     "output_type": "execute_result"
    }
   ],
   "source": [
    "# 获取lev\n",
    "data_base.iloc[lev_index+1]"
   ]
  },
  {
   "cell_type": "code",
   "execution_count": 41,
   "metadata": {},
   "outputs": [
    {
     "data": {
      "text/plain": [
       "'0'"
      ]
     },
     "execution_count": 41,
     "metadata": {},
     "output_type": "execute_result"
    }
   ],
   "source": [
    "# 获取wl\n",
    "data_base.iloc[wl_index+1]"
   ]
  },
  {
   "cell_type": "code",
   "execution_count": 42,
   "metadata": {},
   "outputs": [
    {
     "data": {
      "text/plain": [
       "'H.G.Y.2006'"
      ]
     },
     "execution_count": 42,
     "metadata": {},
     "output_type": "execute_result"
    }
   ],
   "source": [
    "# 获取调和函数\n",
    "data_base.iloc[wl_index+2]"
   ]
  },
  {
   "cell_type": "markdown",
   "metadata": {},
   "source": [
    "### startdate  \n",
    "注意旧版本的起始时间包含在报头里  \n",
    "新版本里不含起始时间  \n",
    "新版本的起始时间在数据里面"
   ]
  },
  {
   "cell_type": "markdown",
   "metadata": {},
   "source": [
    "---"
   ]
  },
  {
   "cell_type": "markdown",
   "metadata": {},
   "source": [
    "# 3 读取实际观测值  \n",
    "与之前老的格式无区别  \n",
    "由于新版本的数据数据中不包含时间了，所以需要提取时间的标记位之后的第一行第一列的数据"
   ]
  },
  {
   "cell_type": "code",
   "execution_count": 58,
   "metadata": {},
   "outputs": [
    {
     "data": {
      "text/plain": [
       "'716'"
      ]
     },
     "execution_count": 58,
     "metadata": {},
     "output_type": "execute_result"
    }
   ],
   "source": [
    "startdate_str=data.iloc[5][0].split()[0]\n",
    "startdate_str"
   ]
  },
  {
   "cell_type": "code",
   "execution_count": 59,
   "metadata": {},
   "outputs": [
    {
     "data": {
      "text/plain": [
       "'7'"
      ]
     },
     "execution_count": 59,
     "metadata": {},
     "output_type": "execute_result"
    }
   ],
   "source": [
    "startdate_str[:-2]"
   ]
  },
  {
   "cell_type": "code",
   "execution_count": 60,
   "metadata": {},
   "outputs": [
    {
     "data": {
      "text/plain": [
       "'16'"
      ]
     },
     "execution_count": 60,
     "metadata": {},
     "output_type": "execute_result"
    }
   ],
   "source": [
    "startdate_str[-2:]"
   ]
  },
  {
   "cell_type": "code",
   "execution_count": 103,
   "metadata": {},
   "outputs": [
    {
     "data": {
      "text/plain": [
       "['716',\n",
       " '106',\n",
       " '118',\n",
       " '127',\n",
       " '131',\n",
       " '132',\n",
       " '131',\n",
       " '131',\n",
       " '133',\n",
       " '139',\n",
       " '148',\n",
       " '160',\n",
       " '171',\n",
       " '180',\n",
       " '184',\n",
       " '181',\n",
       " '170',\n",
       " '154',\n",
       " '134',\n",
       " '114',\n",
       " '97',\n",
       " '86',\n",
       " '82',\n",
       " '85',\n",
       " '95',\n",
       " '402',\n",
       " '132',\n",
       " '1301',\n",
       " '184',\n",
       " '539',\n",
       " '131',\n",
       " '2101',\n",
       " '82']"
      ]
     },
     "execution_count": 103,
     "metadata": {},
     "output_type": "execute_result"
    }
   ],
   "source": [
    "data.iloc[5][0].split()"
   ]
  },
  {
   "cell_type": "code",
   "execution_count": 105,
   "metadata": {},
   "outputs": [
    {
     "data": {
      "text/plain": [
       "'  716  106  118  127  131  132  131  131  133  139  148  160  171  180  184  181  170  154  134  114   97   86   82   85   95  402  132 1301  184  539  131 2101   82'"
      ]
     },
     "execution_count": 105,
     "metadata": {},
     "output_type": "execute_result"
    }
   ],
   "source": [
    "data.iloc[5][0]"
   ]
  },
  {
   "cell_type": "code",
   "execution_count": 106,
   "metadata": {
    "collapsed": true
   },
   "outputs": [],
   "source": [
    "val_temp='  716  106  118  127  131  132  131  131  133  139  148  160  171  180  184  181  170  154  134  114   97   86   82   85   95  402  132 1301  184  539  131 2101   82'"
   ]
  },
  {
   "cell_type": "code",
   "execution_count": 107,
   "metadata": {},
   "outputs": [
    {
     "data": {
      "text/plain": [
       "'  716  106  118  127  131  132  131  131  133  139  148  160  171  180  184  181  170  154  134  114   97   86   82   85   95  402  132 1301  184  539  131 2101   82'"
      ]
     },
     "execution_count": 107,
     "metadata": {},
     "output_type": "execute_result"
    }
   ],
   "source": [
    "val_temp"
   ]
  },
  {
   "cell_type": "code",
   "execution_count": 108,
   "metadata": {},
   "outputs": [
    {
     "data": {
      "text/plain": [
       "'106 '"
      ]
     },
     "execution_count": 108,
     "metadata": {},
     "output_type": "execute_result"
    }
   ],
   "source": [
    "val_temp[7:11]"
   ]
  },
  {
   "cell_type": "markdown",
   "metadata": {
    "collapsed": true
   },
   "source": [
    "### 切分0-23时的数据"
   ]
  },
  {
   "cell_type": "code",
   "execution_count": 109,
   "metadata": {
    "collapsed": true
   },
   "outputs": [],
   "source": [
    "realdata_arr=[]"
   ]
  },
  {
   "cell_type": "code",
   "execution_count": 110,
   "metadata": {},
   "outputs": [
    {
     "name": "stdout",
     "output_type": "stream",
     "text": [
      "0\n",
      "num:1\n",
      "start:6|end:11\n",
      " 106 \n",
      "----\n",
      "1\n",
      "num:2\n",
      "start:11|end:16\n",
      " 118 \n",
      "----\n",
      "2\n",
      "num:3\n",
      "start:16|end:21\n",
      " 127 \n",
      "----\n",
      "3\n",
      "num:4\n",
      "start:21|end:26\n",
      " 131 \n",
      "----\n",
      "4\n",
      "num:5\n",
      "start:26|end:31\n",
      " 132 \n",
      "----\n",
      "5\n",
      "num:6\n",
      "start:31|end:36\n",
      " 131 \n",
      "----\n",
      "6\n",
      "num:7\n",
      "start:36|end:41\n",
      " 131 \n",
      "----\n",
      "7\n",
      "num:8\n",
      "start:41|end:46\n",
      " 133 \n",
      "----\n",
      "8\n",
      "num:9\n",
      "start:46|end:51\n",
      " 139 \n",
      "----\n",
      "9\n",
      "num:10\n",
      "start:51|end:56\n",
      " 148 \n",
      "----\n",
      "10\n",
      "num:11\n",
      "start:56|end:61\n",
      " 160 \n",
      "----\n",
      "11\n",
      "num:12\n",
      "start:61|end:66\n",
      " 171 \n",
      "----\n",
      "12\n",
      "num:13\n",
      "start:66|end:71\n",
      " 180 \n",
      "----\n",
      "13\n",
      "num:14\n",
      "start:71|end:76\n",
      " 184 \n",
      "----\n",
      "14\n",
      "num:15\n",
      "start:76|end:81\n",
      " 181 \n",
      "----\n",
      "15\n",
      "num:16\n",
      "start:81|end:86\n",
      " 170 \n",
      "----\n",
      "16\n",
      "num:17\n",
      "start:86|end:91\n",
      " 154 \n",
      "----\n",
      "17\n",
      "num:18\n",
      "start:91|end:96\n",
      " 134 \n",
      "----\n",
      "18\n",
      "num:19\n",
      "start:96|end:101\n",
      " 114 \n",
      "----\n",
      "19\n",
      "num:20\n",
      "start:101|end:106\n",
      "  97 \n",
      "----\n",
      "20\n",
      "num:21\n",
      "start:106|end:111\n",
      "  86 \n",
      "----\n",
      "21\n",
      "num:22\n",
      "start:111|end:116\n",
      "  82 \n",
      "----\n",
      "22\n",
      "num:23\n",
      "start:116|end:121\n",
      "  85 \n",
      "----\n",
      "23\n",
      "num:24\n",
      "start:121|end:126\n",
      "  95 \n",
      "----\n",
      "24\n",
      "25\n",
      "26\n",
      "27\n",
      "28\n",
      "29\n",
      "30\n",
      "31\n"
     ]
    }
   ],
   "source": [
    "for i,val in enumerate(range(6,len(val_temp),5)):\n",
    "    print(i)\n",
    "    if i<24:\n",
    "        print(f'num:{i+1}')\n",
    "        print(f'start:{val}|end:{val+5}')\n",
    "        print(val_temp[val:val+5])\n",
    "#         realdata_arr.append(int(temp[val:val+5]))\n",
    "        print('----')"
   ]
  },
  {
   "cell_type": "markdown",
   "metadata": {},
   "source": [
    "### 切分后面的高低潮"
   ]
  },
  {
   "cell_type": "code",
   "execution_count": 120,
   "metadata": {
    "collapsed": true
   },
   "outputs": [],
   "source": [
    "index_2=126\n",
    "step_2=10\n",
    "year=1958\n",
    "month=9\n",
    "day=4\n",
    "index=126\n",
    "step=5"
   ]
  },
  {
   "cell_type": "code",
   "execution_count": 121,
   "metadata": {},
   "outputs": [
    {
     "data": {
      "text/plain": [
       "' 402  132 '"
      ]
     },
     "execution_count": 121,
     "metadata": {},
     "output_type": "execute_result"
    }
   ],
   "source": [
    "val_temp[index:index+step_2]"
   ]
  },
  {
   "cell_type": "markdown",
   "metadata": {},
   "source": [
    "* 最终截取数据的方式——可行"
   ]
  },
  {
   "cell_type": "code",
   "execution_count": 124,
   "metadata": {},
   "outputs": [
    {
     "name": "stdout",
     "output_type": "stream",
     "text": [
      "num:1\n",
      "start:126|end:136\n",
      "val: 402 |val2: 132 \n",
      "hour:4|min:2\n",
      "num:2\n",
      "start:136|end:146\n",
      "val:1301 |val2: 184 \n",
      "hour:13|min:1\n",
      "num:3\n",
      "start:146|end:156\n",
      "val: 539 |val2: 131 \n",
      "hour:5|min:39\n",
      "num:4\n",
      "start:156|end:166\n",
      "val:2101 |val2:  82\n",
      "hour:21|min:1\n"
     ]
    }
   ],
   "source": [
    "for i,val in enumerate(range(index_2,len(val_temp),step_2)):\n",
    "#     print(i)\n",
    "    if i<24:\n",
    "        print(f'num:{i+1}')\n",
    "        print(f'start:{val}|end:{val+step_2}')\n",
    "        print(f'val:{val_temp[val:val+step]}|val2:{val_temp[val+step:val+step*2]}')\n",
    "        print(f'hour:{int(val_temp[val:val+step][:2])}|min:{int(val_temp[val:val+step][2:])}')"
   ]
  },
  {
   "cell_type": "code",
   "execution_count": null,
   "metadata": {
    "collapsed": true
   },
   "outputs": [],
   "source": []
  }
 ],
 "metadata": {
  "kernelspec": {
   "display_name": "Python 3",
   "language": "python",
   "name": "python3"
  },
  "language_info": {
   "codemirror_mode": {
    "name": "ipython",
    "version": 3
   },
   "file_extension": ".py",
   "mimetype": "text/x-python",
   "name": "python",
   "nbconvert_exporter": "python",
   "pygments_lexer": "ipython3",
   "version": "3.6.3"
  }
 },
 "nbformat": 4,
 "nbformat_minor": 2
}
