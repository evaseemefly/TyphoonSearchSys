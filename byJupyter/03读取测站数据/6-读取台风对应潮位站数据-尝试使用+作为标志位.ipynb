{
 "cells": [
  {
   "cell_type": "code",
   "execution_count": 1,
   "metadata": {
    "collapsed": true
   },
   "outputs": [],
   "source": [
    "from mongoengine import *\n",
    "import os\n",
    "import pandas as pd\n",
    "from pandas import Series,DataFrame"
   ]
  },
  {
   "cell_type": "markdown",
   "metadata": {},
   "source": [
    "## 1 读取文件"
   ]
  },
  {
   "cell_type": "markdown",
   "metadata": {},
   "source": [
    "### 读取方式1：使用pandas"
   ]
  },
  {
   "cell_type": "code",
   "execution_count": 4,
   "metadata": {
    "collapsed": true
   },
   "outputs": [],
   "source": [
    "targetfilename=r\"5622.txt\"\n",
    "# 家中mac\n",
    "# targetpath=r\"/Users/casablanca/03project/typhoonSearchSys/demo_data\"\n",
    "# 单位mac\n",
    "targetpath=r\"/Users/liusihan/Documents/01project/TyphoonSearchSys/demo_data\"\n",
    "fullname=os.path.join(targetpath,targetfilename)"
   ]
  },
  {
   "cell_type": "code",
   "execution_count": 5,
   "metadata": {},
   "outputs": [
    {
     "data": {
      "text/plain": [
       "'/Users/liusihan/Documents/01project/TyphoonSearchSys/demo_data/5622.txt'"
      ]
     },
     "execution_count": 5,
     "metadata": {},
     "output_type": "execute_result"
    }
   ],
   "source": [
    "fullname"
   ]
  },
  {
   "cell_type": "markdown",
   "metadata": {},
   "source": [
    "不使用pandas的read_table"
   ]
  },
  {
   "cell_type": "code",
   "execution_count": 6,
   "metadata": {},
   "outputs": [
    {
     "name": "stdout",
     "output_type": "stream",
     "text": [
      "读取成功\n"
     ]
    }
   ],
   "source": [
    "with open(fullname,'rb') as f:\n",
    "    data=pd.read_table(f,sep='\\n',encoding='utf-8',header=None,infer_datetime_format=False)\n",
    "    print('读取成功')"
   ]
  },
  {
   "cell_type": "code",
   "execution_count": 7,
   "metadata": {},
   "outputs": [
    {
     "data": {
      "text/html": [
       "<div>\n",
       "<style>\n",
       "    .dataframe thead tr:only-child th {\n",
       "        text-align: right;\n",
       "    }\n",
       "\n",
       "    .dataframe thead th {\n",
       "        text-align: left;\n",
       "    }\n",
       "\n",
       "    .dataframe tbody tr th {\n",
       "        vertical-align: top;\n",
       "    }\n",
       "</style>\n",
       "<table border=\"1\" class=\"dataframe\">\n",
       "  <thead>\n",
       "    <tr style=\"text-align: right;\">\n",
       "      <th></th>\n",
       "      <th>0</th>\n",
       "    </tr>\n",
       "  </thead>\n",
       "  <tbody>\n",
       "    <tr>\n",
       "      <th>0</th>\n",
       "      <td>1</td>\n",
       "    </tr>\n",
       "    <tr>\n",
       "      <th>1</th>\n",
       "      <td>S.N.   122      5622      9   4     QI...</td>\n",
       "    </tr>\n",
       "    <tr>\n",
       "      <th>2</th>\n",
       "      <td>0   1   2   3   4   5   6   7   8   9 ...</td>\n",
       "    </tr>\n",
       "    <tr>\n",
       "      <th>3</th>\n",
       "      <td>+                                             ...</td>\n",
       "    </tr>\n",
       "    <tr>\n",
       "      <th>4</th>\n",
       "      <td>9   159 156 135 107  90  93 110 123 145 141 ...</td>\n",
       "    </tr>\n",
       "    <tr>\n",
       "      <th>5</th>\n",
       "      <td>4   121 109  90  71  58  53  59  73  87  96 ...</td>\n",
       "    </tr>\n",
       "    <tr>\n",
       "      <th>6</th>\n",
       "      <td>30    38  47  45  36  32  40  51  50  58  45 ...</td>\n",
       "    </tr>\n",
       "    <tr>\n",
       "      <th>7</th>\n",
       "      <td>9   156 159 142 126 106 100  98  --  --  -- ...</td>\n",
       "    </tr>\n",
       "  </tbody>\n",
       "</table>\n",
       "</div>"
      ],
      "text/plain": [
       "                                                   0\n",
       "0                                                  1\n",
       "1          S.N.   122      5622      9   4     QI...\n",
       "2          0   1   2   3   4   5   6   7   8   9 ...\n",
       "3  +                                             ...\n",
       "4    9   159 156 135 107  90  93 110 123 145 141 ...\n",
       "5    4   121 109  90  71  58  53  59  73  87  96 ...\n",
       "6   30    38  47  45  36  32  40  51  50  58  45 ...\n",
       "7    9   156 159 142 126 106 100  98  --  --  -- ..."
      ]
     },
     "execution_count": 7,
     "metadata": {},
     "output_type": "execute_result"
    }
   ],
   "source": [
    "data.head(8)"
   ]
  },
  {
   "cell_type": "code",
   "execution_count": 12,
   "metadata": {},
   "outputs": [
    {
     "data": {
      "text/plain": [
       "'+'"
      ]
     },
     "execution_count": 12,
     "metadata": {},
     "output_type": "execute_result"
    }
   ],
   "source": [
    "data.iloc[3][0].split()[0]"
   ]
  },
  {
   "cell_type": "code",
   "execution_count": 20,
   "metadata": {},
   "outputs": [
    {
     "data": {
      "text/plain": [
       "329"
      ]
     },
     "execution_count": 20,
     "metadata": {},
     "output_type": "execute_result"
    }
   ],
   "source": [
    "# 获取总共数据的长度\n",
    "len(data)"
   ]
  },
  {
   "cell_type": "markdown",
   "metadata": {},
   "source": [
    "** 注意标志位已改为  + **"
   ]
  },
  {
   "cell_type": "code",
   "execution_count": 13,
   "metadata": {
    "collapsed": true
   },
   "outputs": [],
   "source": [
    "# 找到标志位\n",
    "mark_list=[]\n",
    "for index in range(len(data)):\n",
    "#     temp= data.iloc[index][0]\n",
    "    temp=data.iloc[index][0].split()[0]\n",
    "#     print(temp)\n",
    "    if temp=='+':\n",
    "        mark_list.append(index)"
   ]
  },
  {
   "cell_type": "code",
   "execution_count": 14,
   "metadata": {},
   "outputs": [
    {
     "data": {
      "text/plain": [
       "[3,\n",
       " 21,\n",
       " 37,\n",
       " 54,\n",
       " 72,\n",
       " 89,\n",
       " 107,\n",
       " 124,\n",
       " 142,\n",
       " 159,\n",
       " 176,\n",
       " 193,\n",
       " 210,\n",
       " 227,\n",
       " 244,\n",
       " 262,\n",
       " 279,\n",
       " 297,\n",
       " 314]"
      ]
     },
     "execution_count": 14,
     "metadata": {},
     "output_type": "execute_result"
    }
   ],
   "source": [
    "mark_list"
   ]
  },
  {
   "cell_type": "code",
   "execution_count": 15,
   "metadata": {},
   "outputs": [
    {
     "data": {
      "text/plain": [
       "19"
      ]
     },
     "execution_count": 15,
     "metadata": {},
     "output_type": "execute_result"
    }
   ],
   "source": [
    "len(mark_list)"
   ]
  },
  {
   "cell_type": "markdown",
   "metadata": {},
   "source": [
    "-----"
   ]
  },
  {
   "cell_type": "code",
   "execution_count": 36,
   "metadata": {},
   "outputs": [
    {
     "data": {
      "text/plain": [
       "'1'"
      ]
     },
     "execution_count": 36,
     "metadata": {},
     "output_type": "execute_result"
    }
   ],
   "source": [
    "data.iloc[0][0]"
   ]
  },
  {
   "cell_type": "code",
   "execution_count": 23,
   "metadata": {},
   "outputs": [
    {
     "data": {
      "text/plain": [
       "'1'"
      ]
     },
     "execution_count": 23,
     "metadata": {},
     "output_type": "execute_result"
    }
   ],
   "source": [
    "data.iloc[0][0]"
   ]
  },
  {
   "cell_type": "code",
   "execution_count": 24,
   "metadata": {},
   "outputs": [
    {
     "data": {
      "text/plain": [
       "1"
      ]
     },
     "execution_count": 24,
     "metadata": {},
     "output_type": "execute_result"
    }
   ],
   "source": [
    "len(data.iloc[1])"
   ]
  },
  {
   "cell_type": "code",
   "execution_count": 28,
   "metadata": {},
   "outputs": [
    {
     "data": {
      "text/plain": [
       "Int64Index([0], dtype='int64')"
      ]
     },
     "execution_count": 28,
     "metadata": {},
     "output_type": "execute_result"
    }
   ],
   "source": [
    "data.iloc[1].index"
   ]
  },
  {
   "cell_type": "code",
   "execution_count": 30,
   "metadata": {
    "collapsed": true
   },
   "outputs": [],
   "source": [
    "# data.iloc[1]"
   ]
  },
  {
   "cell_type": "code",
   "execution_count": 25,
   "metadata": {},
   "outputs": [
    {
     "data": {
      "text/plain": [
       "0            S.N.   122      5622      9   4     QI...\n",
       "Name: 1, dtype: object"
      ]
     },
     "execution_count": 25,
     "metadata": {},
     "output_type": "execute_result"
    }
   ],
   "source": [
    "data.iloc[1]"
   ]
  },
  {
   "cell_type": "code",
   "execution_count": 32,
   "metadata": {},
   "outputs": [
    {
     "data": {
      "text/plain": [
       "1"
      ]
     },
     "execution_count": 32,
     "metadata": {},
     "output_type": "execute_result"
    }
   ],
   "source": [
    "data.iloc[1].size"
   ]
  },
  {
   "cell_type": "code",
   "execution_count": 33,
   "metadata": {},
   "outputs": [
    {
     "data": {
      "text/plain": [
       "'        S.N.   122      5622      9   4     QINHUANG            Lon  11937   Lat  3955    Lev    89    JW   220    H.G.Y.1975'"
      ]
     },
     "execution_count": 33,
     "metadata": {},
     "output_type": "execute_result"
    }
   ],
   "source": [
    "data.iloc[1][0]"
   ]
  },
  {
   "cell_type": "code",
   "execution_count": 31,
   "metadata": {},
   "outputs": [
    {
     "data": {
      "text/plain": [
       "pandas.core.series.Series"
      ]
     },
     "execution_count": 31,
     "metadata": {},
     "output_type": "execute_result"
    }
   ],
   "source": [
    "type(data.iloc[1])"
   ]
  },
  {
   "cell_type": "code",
   "execution_count": 54,
   "metadata": {},
   "outputs": [
    {
     "name": "stdout",
     "output_type": "stream",
     "text": [
      "<class 'numpy.int64'>\n",
      "66666\n"
     ]
    }
   ],
   "source": [
    "print(type(data.iloc[0][0]))\n",
    "print(data.iloc[0][0])"
   ]
  },
  {
   "cell_type": "code",
   "execution_count": 55,
   "metadata": {},
   "outputs": [
    {
     "data": {
      "text/plain": [
       "True"
      ]
     },
     "execution_count": 55,
     "metadata": {},
     "output_type": "execute_result"
    }
   ],
   "source": [
    "data.iloc[0][0]==66666"
   ]
  },
  {
   "cell_type": "markdown",
   "metadata": {},
   "source": [
    "--------"
   ]
  },
  {
   "cell_type": "markdown",
   "metadata": {},
   "source": [
    "### 2 获取截取的内容"
   ]
  },
  {
   "cell_type": "code",
   "execution_count": 40,
   "metadata": {},
   "outputs": [
    {
     "data": {
      "text/plain": [
       "[0, 18, 69, 104, 139, 224, 259, 294]"
      ]
     },
     "execution_count": 40,
     "metadata": {},
     "output_type": "execute_result"
    }
   ],
   "source": [
    "mark_list"
   ]
  },
  {
   "cell_type": "code",
   "execution_count": 65,
   "metadata": {},
   "outputs": [
    {
     "data": {
      "text/html": [
       "<div>\n",
       "<style>\n",
       "    .dataframe thead tr:only-child th {\n",
       "        text-align: right;\n",
       "    }\n",
       "\n",
       "    .dataframe thead th {\n",
       "        text-align: left;\n",
       "    }\n",
       "\n",
       "    .dataframe tbody tr th {\n",
       "        vertical-align: top;\n",
       "    }\n",
       "</style>\n",
       "<table border=\"1\" class=\"dataframe\">\n",
       "  <thead>\n",
       "    <tr style=\"text-align: right;\">\n",
       "      <th></th>\n",
       "      <th>0</th>\n",
       "    </tr>\n",
       "  </thead>\n",
       "  <tbody>\n",
       "    <tr>\n",
       "      <th>0</th>\n",
       "      <td>1</td>\n",
       "    </tr>\n",
       "    <tr>\n",
       "      <th>1</th>\n",
       "      <td>S.N.   122      5622      9   4     QI...</td>\n",
       "    </tr>\n",
       "    <tr>\n",
       "      <th>2</th>\n",
       "      <td>0   1   2   3   4   5   6   7   8   9 ...</td>\n",
       "    </tr>\n",
       "    <tr>\n",
       "      <th>3</th>\n",
       "      <td>+                                             ...</td>\n",
       "    </tr>\n",
       "    <tr>\n",
       "      <th>4</th>\n",
       "      <td>9   159 156 135 107  90  93 110 123 145 141 ...</td>\n",
       "    </tr>\n",
       "    <tr>\n",
       "      <th>5</th>\n",
       "      <td>4   121 109  90  71  58  53  59  73  87  96 ...</td>\n",
       "    </tr>\n",
       "    <tr>\n",
       "      <th>6</th>\n",
       "      <td>30    38  47  45  36  32  40  51  50  58  45 ...</td>\n",
       "    </tr>\n",
       "    <tr>\n",
       "      <th>7</th>\n",
       "      <td>9   156 159 142 126 106 100  98  --  --  -- ...</td>\n",
       "    </tr>\n",
       "    <tr>\n",
       "      <th>8</th>\n",
       "      <td>5   130 129 115  95  77  67  65  74  89 101 ...</td>\n",
       "    </tr>\n",
       "    <tr>\n",
       "      <th>9</th>\n",
       "      <td>HM    26  30  27  31  29  33  33  --  --  -- ...</td>\n",
       "    </tr>\n",
       "    <tr>\n",
       "      <th>10</th>\n",
       "      <td>...</td>\n",
       "    </tr>\n",
       "    <tr>\n",
       "      <th>11</th>\n",
       "      <td>9   188 193 187 165 139 122 111 110 115 111 ...</td>\n",
       "    </tr>\n",
       "    <tr>\n",
       "      <th>12</th>\n",
       "      <td>6   131 137 135 119  99  84  78  81  93 108 ...</td>\n",
       "    </tr>\n",
       "    <tr>\n",
       "      <th>13</th>\n",
       "      <td>02    57  56  52  46  40  38  33  29  22   3 ...</td>\n",
       "    </tr>\n",
       "    <tr>\n",
       "      <th>14</th>\n",
       "      <td>...</td>\n",
       "    </tr>\n",
       "    <tr>\n",
       "      <th>15</th>\n",
       "      <td>9    --  --  --  --  --  --  --  --  --  -- ...</td>\n",
       "    </tr>\n",
       "    <tr>\n",
       "      <th>16</th>\n",
       "      <td>7   127 132 140 135 118 100  92  91  98 112 ...</td>\n",
       "    </tr>\n",
       "  </tbody>\n",
       "</table>\n",
       "</div>"
      ],
      "text/plain": [
       "                                                    0\n",
       "0                                                   1\n",
       "1           S.N.   122      5622      9   4     QI...\n",
       "2           0   1   2   3   4   5   6   7   8   9 ...\n",
       "3   +                                             ...\n",
       "4     9   159 156 135 107  90  93 110 123 145 141 ...\n",
       "5     4   121 109  90  71  58  53  59  73  87  96 ...\n",
       "6    30    38  47  45  36  32  40  51  50  58  45 ...\n",
       "7     9   156 159 142 126 106 100  98  --  --  -- ...\n",
       "8     5   130 129 115  95  77  67  65  74  89 101 ...\n",
       "9    HM    26  30  27  31  29  33  33  --  --  -- ...\n",
       "10                                                ...\n",
       "11    9   188 193 187 165 139 122 111 110 115 111 ...\n",
       "12    6   131 137 135 119  99  84  78  81  93 108 ...\n",
       "13   02    57  56  52  46  40  38  33  29  22   3 ...\n",
       "14                                                ...\n",
       "15    9    --  --  --  --  --  --  --  --  --  -- ...\n",
       "16    7   127 132 140 135 118 100  92  91  98 112 ..."
      ]
     },
     "execution_count": 65,
     "metadata": {},
     "output_type": "execute_result"
    }
   ],
   "source": [
    "# 先根据标志位截取一段df\n",
    "data.iloc[0:17]"
   ]
  },
  {
   "cell_type": "markdown",
   "metadata": {},
   "source": [
    "对于截取的内容  \n",
    "index：0：基本信息（包含经纬度信息）"
   ]
  },
  {
   "cell_type": "markdown",
   "metadata": {},
   "source": [
    "### 2.1 获取台风编号-测站name-经纬度信息"
   ]
  },
  {
   "cell_type": "code",
   "execution_count": 69,
   "metadata": {},
   "outputs": [
    {
     "data": {
      "text/plain": [
       "0           S.N.\n",
       "1            122\n",
       "2           5622\n",
       "3              9\n",
       "4              4\n",
       "5       QINHUANG\n",
       "6            Lon\n",
       "7          11937\n",
       "8            Lat\n",
       "9           3955\n",
       "10           Lev\n",
       "11            89\n",
       "12            JW\n",
       "13           220\n",
       "14    H.G.Y.1975\n",
       "dtype: object"
      ]
     },
     "execution_count": 69,
     "metadata": {},
     "output_type": "execute_result"
    }
   ],
   "source": [
    "data_base=Series(data.iloc[1][0].split())\n",
    "data_base"
   ]
  },
  {
   "cell_type": "code",
   "execution_count": 73,
   "metadata": {
    "collapsed": true
   },
   "outputs": [],
   "source": [
    "# 注意此处需要对经纬度做一个处理（后2位为小数位）"
   ]
  },
  {
   "cell_type": "code",
   "execution_count": 74,
   "metadata": {},
   "outputs": [
    {
     "data": {
      "text/plain": [
       "'119'"
      ]
     },
     "execution_count": 74,
     "metadata": {},
     "output_type": "execute_result"
    }
   ],
   "source": [
    "data_base[7][:-2]"
   ]
  },
  {
   "cell_type": "code",
   "execution_count": 75,
   "metadata": {},
   "outputs": [
    {
     "data": {
      "text/plain": [
       "'37'"
      ]
     },
     "execution_count": 75,
     "metadata": {},
     "output_type": "execute_result"
    }
   ],
   "source": [
    "data_base[7][-2:]"
   ]
  },
  {
   "cell_type": "code",
   "execution_count": 76,
   "metadata": {},
   "outputs": [
    {
     "data": {
      "text/plain": [
       "119.37"
      ]
     },
     "execution_count": 76,
     "metadata": {},
     "output_type": "execute_result"
    }
   ],
   "source": [
    "#拼接成小数\n",
    "float(f\"{data_base[7][:-2]}.{data_base[7][-2:]}\")"
   ]
  },
  {
   "cell_type": "code",
   "execution_count": 77,
   "metadata": {
    "collapsed": true
   },
   "outputs": [],
   "source": [
    "# 先获取台风编号-测站名称-经纬度信息\n",
    "name=data_base[5]\n",
    "code=data_base[2]\n",
    "latlon=[float(f\"{data_base[9][:-2]}.{data_base[9][-2:]}\"),float(f\"{data_base[7][:-2]}.{data_base[7][-2:]}\")]"
   ]
  },
  {
   "cell_type": "code",
   "execution_count": 78,
   "metadata": {},
   "outputs": [
    {
     "name": "stdout",
     "output_type": "stream",
     "text": [
      "QINHUANG\n",
      "5622\n",
      "[39.55, 119.37]\n"
     ]
    }
   ],
   "source": [
    "print(name)\n",
    "print(code)\n",
    "print(latlon)"
   ]
  },
  {
   "cell_type": "code",
   "execution_count": 47,
   "metadata": {},
   "outputs": [
    {
     "data": {
      "text/plain": [
       "'        0   1   2   3   4   5   6   7   8   9  10  11  12  13  14  15  16  17  18  19  20  21  22  23'"
      ]
     },
     "execution_count": 47,
     "metadata": {},
     "output_type": "execute_result"
    }
   ],
   "source": [
    "data.iloc[2][0]"
   ]
  },
  {
   "cell_type": "code",
   "execution_count": 56,
   "metadata": {},
   "outputs": [
    {
     "data": {
      "text/plain": [
       "str"
      ]
     },
     "execution_count": 56,
     "metadata": {},
     "output_type": "execute_result"
    }
   ],
   "source": [
    "type(data.iloc[2][0])"
   ]
  },
  {
   "cell_type": "code",
   "execution_count": 59,
   "metadata": {},
   "outputs": [
    {
     "data": {
      "text/plain": [
       "['0', '1', '2', '3', '4']"
      ]
     },
     "execution_count": 59,
     "metadata": {},
     "output_type": "execute_result"
    }
   ],
   "source": [
    "data.iloc[2][0].split()[:5]"
   ]
  },
  {
   "cell_type": "code",
   "execution_count": 79,
   "metadata": {},
   "outputs": [
    {
     "data": {
      "text/plain": [
       "0      0\n",
       "1      1\n",
       "2      2\n",
       "3      3\n",
       "4      4\n",
       "5      5\n",
       "6      6\n",
       "7      7\n",
       "8      8\n",
       "9      9\n",
       "10    10\n",
       "11    11\n",
       "12    12\n",
       "13    13\n",
       "14    14\n",
       "15    15\n",
       "16    16\n",
       "17    17\n",
       "18    18\n",
       "19    19\n",
       "20    20\n",
       "21    21\n",
       "22    22\n",
       "23    23\n",
       "dtype: object"
      ]
     },
     "execution_count": 79,
     "metadata": {},
     "output_type": "execute_result"
    }
   ],
   "source": [
    "# 转成series\n",
    "Series(data.iloc[2][0].split())"
   ]
  },
  {
   "cell_type": "markdown",
   "metadata": {},
   "source": [
    "### 2.2 获取'+'标志位（不用找了）位置固定"
   ]
  },
  {
   "cell_type": "code",
   "execution_count": 83,
   "metadata": {},
   "outputs": [
    {
     "data": {
      "text/plain": [
       "'+'"
      ]
     },
     "execution_count": 83,
     "metadata": {},
     "output_type": "execute_result"
    }
   ],
   "source": [
    "data.iloc[3][0].split()[0]"
   ]
  },
  {
   "cell_type": "markdown",
   "metadata": {},
   "source": [
    "### 2.3 获取极大值序列与极小值序列  \n",
    "        差值不要"
   ]
  },
  {
   "cell_type": "code",
   "execution_count": 92,
   "metadata": {},
   "outputs": [
    {
     "data": {
      "text/plain": [
       "0      9\n",
       "1    159\n",
       "2    156\n",
       "3    135\n",
       "4    107\n",
       "dtype: object"
      ]
     },
     "execution_count": 92,
     "metadata": {},
     "output_type": "execute_result"
    }
   ],
   "source": [
    "max_arr=Series(data.iloc[4][0].split())\n",
    "max_arr.head()"
   ]
  },
  {
   "cell_type": "code",
   "execution_count": 89,
   "metadata": {},
   "outputs": [
    {
     "data": {
      "text/plain": [
       "1     159\n",
       "2     156\n",
       "3     135\n",
       "4     107\n",
       "5      90\n",
       "6      93\n",
       "7     110\n",
       "8     123\n",
       "9     145\n",
       "10    141\n",
       "11    155\n",
       "12    163\n",
       "13    166\n",
       "14    175\n",
       "15    165\n",
       "16    154\n",
       "17    157\n",
       "18    185\n",
       "19    203\n",
       "20    204\n",
       "21    197\n",
       "22    184\n",
       "23    160\n",
       "24    149\n",
       "dtype: object"
      ]
     },
     "execution_count": 89,
     "metadata": {},
     "output_type": "execute_result"
    }
   ],
   "source": [
    "# 9月4日的 24小时极大值序列\n",
    "max_arr[1:25]"
   ]
  },
  {
   "cell_type": "code",
   "execution_count": 93,
   "metadata": {},
   "outputs": [
    {
     "data": {
      "text/plain": [
       "0      4\n",
       "1    121\n",
       "2    109\n",
       "3     90\n",
       "4     71\n",
       "dtype: object"
      ]
     },
     "execution_count": 93,
     "metadata": {},
     "output_type": "execute_result"
    }
   ],
   "source": [
    "# 极小值序列\n",
    "min_arr=Series(data.iloc[5][0].split())\n",
    "min_arr.head()"
   ]
  },
  {
   "cell_type": "code",
   "execution_count": 95,
   "metadata": {},
   "outputs": [
    {
     "data": {
      "text/plain": [
       "1     121\n",
       "2     109\n",
       "3      90\n",
       "4      71\n",
       "5      58\n",
       "6      53\n",
       "7      59\n",
       "8      73\n",
       "9      87\n",
       "10     96\n",
       "11    106\n",
       "12    121\n",
       "13    136\n",
       "14    140\n",
       "15    135\n",
       "16    130\n",
       "17    132\n",
       "18    139\n",
       "19    147\n",
       "20    154\n",
       "21    156\n",
       "22    148\n",
       "23    135\n",
       "24    128\n",
       "dtype: object"
      ]
     },
     "execution_count": 95,
     "metadata": {},
     "output_type": "execute_result"
    }
   ],
   "source": [
    "# 获取24小时的极小值序列\n",
    "min_arr[1:25]"
   ]
  },
  {
   "cell_type": "markdown",
   "metadata": {},
   "source": [
    "### 2.3 获取共有几日的观测数据"
   ]
  },
  {
   "cell_type": "code",
   "execution_count": 96,
   "metadata": {},
   "outputs": [
    {
     "data": {
      "text/plain": [
       "17"
      ]
     },
     "execution_count": 96,
     "metadata": {},
     "output_type": "execute_result"
    }
   ],
   "source": [
    "len(data.iloc[0:17])"
   ]
  },
  {
   "cell_type": "code",
   "execution_count": 98,
   "metadata": {},
   "outputs": [
    {
     "data": {
      "text/plain": [
       "0                                                  ...\n",
       "Name: 10, dtype: object"
      ]
     },
     "execution_count": 98,
     "metadata": {},
     "output_type": "execute_result"
    }
   ],
   "source": [
    "data.iloc[0:17].iloc[10]"
   ]
  },
  {
   "cell_type": "code",
   "execution_count": 99,
   "metadata": {},
   "outputs": [
    {
     "data": {
      "text/plain": [
       "0     HM    26  30  27  31  29  33  33  --  --  -- ...\n",
       "Name: 9, dtype: object"
      ]
     },
     "execution_count": 99,
     "metadata": {},
     "output_type": "execute_result"
    }
   ],
   "source": [
    "data.iloc[0:17].iloc[9]"
   ]
  },
  {
   "cell_type": "code",
   "execution_count": 100,
   "metadata": {},
   "outputs": [
    {
     "data": {
      "text/plain": [
       "0                                                  ...\n",
       "Name: 14, dtype: object"
      ]
     },
     "execution_count": 100,
     "metadata": {},
     "output_type": "execute_result"
    }
   ],
   "source": [
    "data.iloc[0:17].iloc[14]"
   ]
  },
  {
   "cell_type": "code",
   "execution_count": 101,
   "metadata": {},
   "outputs": [
    {
     "data": {
      "text/plain": [
       "'                                                                                                                                      MIN     '"
      ]
     },
     "execution_count": 101,
     "metadata": {},
     "output_type": "execute_result"
    }
   ],
   "source": [
    "data.iloc[0:17].iloc[14][0]"
   ]
  },
  {
   "cell_type": "code",
   "execution_count": 103,
   "metadata": {},
   "outputs": [
    {
     "data": {
      "text/plain": [
       "['MIN']"
      ]
     },
     "execution_count": 103,
     "metadata": {},
     "output_type": "execute_result"
    }
   ],
   "source": [
    "data.iloc[0:17].iloc[14][0].split()"
   ]
  },
  {
   "cell_type": "code",
   "execution_count": 102,
   "metadata": {},
   "outputs": [
    {
     "data": {
      "text/plain": [
       "'                                                                                                  MAX                                         '"
      ]
     },
     "execution_count": 102,
     "metadata": {},
     "output_type": "execute_result"
    }
   ],
   "source": [
    "data.iloc[0:17].iloc[10][0]"
   ]
  },
  {
   "cell_type": "code",
   "execution_count": 104,
   "metadata": {},
   "outputs": [
    {
     "data": {
      "text/plain": [
       "['MAX']"
      ]
     },
     "execution_count": 104,
     "metadata": {},
     "output_type": "execute_result"
    }
   ],
   "source": [
    "data.iloc[0:17].iloc[10][0].split()"
   ]
  },
  {
   "cell_type": "markdown",
   "metadata": {},
   "source": [
    "### 2.4 获取极值"
   ]
  },
  {
   "cell_type": "code",
   "execution_count": 97,
   "metadata": {},
   "outputs": [
    {
     "data": {
      "text/plain": [
       "0        9\n",
       "1      159\n",
       "2      156\n",
       "3      135\n",
       "4      107\n",
       "5       90\n",
       "6       93\n",
       "7      110\n",
       "8      123\n",
       "9      145\n",
       "10     141\n",
       "11     155\n",
       "12     163\n",
       "13     166\n",
       "14     175\n",
       "15     165\n",
       "16     154\n",
       "17     157\n",
       "18     185\n",
       "19     203\n",
       "20     204\n",
       "21     197\n",
       "22     184\n",
       "23     160\n",
       "24     149\n",
       "25    1240\n",
       "26     180\n",
       "27    1910\n",
       "28     211\n",
       "29    0430\n",
       "30      89\n",
       "31    1510\n",
       "32     153\n",
       "dtype: object"
      ]
     },
     "execution_count": 97,
     "metadata": {},
     "output_type": "execute_result"
    }
   ],
   "source": [
    "max_ser=Series(data.iloc[0:17].iloc[4][0].split())\n",
    "max_ser"
   ]
  },
  {
   "cell_type": "code",
   "execution_count": 99,
   "metadata": {},
   "outputs": [
    {
     "data": {
      "text/plain": [
       "25    1240\n",
       "26     180\n",
       "dtype: object"
      ]
     },
     "execution_count": 99,
     "metadata": {},
     "output_type": "execute_result"
    }
   ],
   "source": [
    "max_ser[25:27]"
   ]
  },
  {
   "cell_type": "markdown",
   "metadata": {},
   "source": [
    "----"
   ]
  },
  {
   "cell_type": "markdown",
   "metadata": {
    "collapsed": true
   },
   "source": [
    "## 3 封装成方法  \n",
    "- 获取所有的需要截取的标志位（即** + **出现的位置）  \n",
    "- 根据窃取的标志位进行按日进行截取（此处需要判断 该站位，对应的台风 共有几日的观测数据）"
   ]
  },
  {
   "cell_type": "code",
   "execution_count": 8,
   "metadata": {
    "collapsed": true
   },
   "outputs": [],
   "source": [
    "checkpoint_arr=[]\n",
    "def getCheckPointList():\n",
    "    '''\n",
    "        获取标志位的列表\n",
    "    '''    \n",
    "    for index in range(len(data)):\n",
    "    #     temp= data.iloc[index][0]\n",
    "        temp=data.iloc[index][0].split()[0]\n",
    "    #     print(temp)\n",
    "        if temp=='+':\n",
    "            checkpoint_arr.append(index)"
   ]
  },
  {
   "cell_type": "code",
   "execution_count": 9,
   "metadata": {
    "collapsed": true
   },
   "outputs": [],
   "source": [
    "getCheckPointList()"
   ]
  },
  {
   "cell_type": "code",
   "execution_count": 10,
   "metadata": {},
   "outputs": [
    {
     "data": {
      "text/plain": [
       "[3,\n",
       " 21,\n",
       " 37,\n",
       " 54,\n",
       " 72,\n",
       " 89,\n",
       " 107,\n",
       " 124,\n",
       " 142,\n",
       " 159,\n",
       " 176,\n",
       " 193,\n",
       " 210,\n",
       " 227,\n",
       " 244,\n",
       " 262,\n",
       " 279,\n",
       " 297,\n",
       " 314]"
      ]
     },
     "execution_count": 10,
     "metadata": {},
     "output_type": "execute_result"
    }
   ],
   "source": [
    "checkpoint_arr"
   ]
  },
  {
   "cell_type": "code",
   "execution_count": 31,
   "metadata": {},
   "outputs": [
    {
     "data": {
      "text/plain": [
       "0           S.N.\n",
       "1            122\n",
       "2           5622\n",
       "3              9\n",
       "4              4\n",
       "5       QINHUANG\n",
       "6            Lon\n",
       "7          11937\n",
       "8            Lat\n",
       "9           3955\n",
       "10           Lev\n",
       "11            89\n",
       "12            JW\n",
       "13           220\n",
       "14    H.G.Y.1975\n",
       "dtype: object"
      ]
     },
     "execution_count": 31,
     "metadata": {},
     "output_type": "execute_result"
    }
   ],
   "source": [
    "# 获取日期所在位置\n",
    "Series(data.iloc[3-2][0].split())"
   ]
  },
  {
   "cell_type": "code",
   "execution_count": 34,
   "metadata": {},
   "outputs": [
    {
     "data": {
      "text/html": [
       "<div>\n",
       "<style>\n",
       "    .dataframe thead tr:only-child th {\n",
       "        text-align: right;\n",
       "    }\n",
       "\n",
       "    .dataframe thead th {\n",
       "        text-align: left;\n",
       "    }\n",
       "\n",
       "    .dataframe tbody tr th {\n",
       "        vertical-align: top;\n",
       "    }\n",
       "</style>\n",
       "<table border=\"1\" class=\"dataframe\">\n",
       "  <thead>\n",
       "    <tr style=\"text-align: right;\">\n",
       "      <th></th>\n",
       "      <th>0</th>\n",
       "    </tr>\n",
       "  </thead>\n",
       "  <tbody>\n",
       "    <tr>\n",
       "      <th>1</th>\n",
       "      <td>S.N.   122      5622      9   4     QI...</td>\n",
       "    </tr>\n",
       "    <tr>\n",
       "      <th>2</th>\n",
       "      <td>0   1   2   3   4   5   6   7   8   9 ...</td>\n",
       "    </tr>\n",
       "    <tr>\n",
       "      <th>3</th>\n",
       "      <td>+                                             ...</td>\n",
       "    </tr>\n",
       "    <tr>\n",
       "      <th>4</th>\n",
       "      <td>9   159 156 135 107  90  93 110 123 145 141 ...</td>\n",
       "    </tr>\n",
       "    <tr>\n",
       "      <th>5</th>\n",
       "      <td>4   121 109  90  71  58  53  59  73  87  96 ...</td>\n",
       "    </tr>\n",
       "    <tr>\n",
       "      <th>6</th>\n",
       "      <td>30    38  47  45  36  32  40  51  50  58  45 ...</td>\n",
       "    </tr>\n",
       "    <tr>\n",
       "      <th>7</th>\n",
       "      <td>9   156 159 142 126 106 100  98  --  --  -- ...</td>\n",
       "    </tr>\n",
       "    <tr>\n",
       "      <th>8</th>\n",
       "      <td>5   130 129 115  95  77  67  65  74  89 101 ...</td>\n",
       "    </tr>\n",
       "    <tr>\n",
       "      <th>9</th>\n",
       "      <td>HM    26  30  27  31  29  33  33  --  --  -- ...</td>\n",
       "    </tr>\n",
       "    <tr>\n",
       "      <th>10</th>\n",
       "      <td>...</td>\n",
       "    </tr>\n",
       "    <tr>\n",
       "      <th>11</th>\n",
       "      <td>9   188 193 187 165 139 122 111 110 115 111 ...</td>\n",
       "    </tr>\n",
       "    <tr>\n",
       "      <th>12</th>\n",
       "      <td>6   131 137 135 119  99  84  78  81  93 108 ...</td>\n",
       "    </tr>\n",
       "    <tr>\n",
       "      <th>13</th>\n",
       "      <td>02    57  56  52  46  40  38  33  29  22   3 ...</td>\n",
       "    </tr>\n",
       "    <tr>\n",
       "      <th>14</th>\n",
       "      <td>...</td>\n",
       "    </tr>\n",
       "    <tr>\n",
       "      <th>15</th>\n",
       "      <td>9    --  --  --  --  --  --  --  --  --  -- ...</td>\n",
       "    </tr>\n",
       "    <tr>\n",
       "      <th>16</th>\n",
       "      <td>7   127 132 140 135 118 100  92  91  98 112 ...</td>\n",
       "    </tr>\n",
       "    <tr>\n",
       "      <th>17</th>\n",
       "      <td>03    --  --  --  --  --  --  --  --  --  -- ...</td>\n",
       "    </tr>\n",
       "  </tbody>\n",
       "</table>\n",
       "</div>"
      ],
      "text/plain": [
       "                                                    0\n",
       "1           S.N.   122      5622      9   4     QI...\n",
       "2           0   1   2   3   4   5   6   7   8   9 ...\n",
       "3   +                                             ...\n",
       "4     9   159 156 135 107  90  93 110 123 145 141 ...\n",
       "5     4   121 109  90  71  58  53  59  73  87  96 ...\n",
       "6    30    38  47  45  36  32  40  51  50  58  45 ...\n",
       "7     9   156 159 142 126 106 100  98  --  --  -- ...\n",
       "8     5   130 129 115  95  77  67  65  74  89 101 ...\n",
       "9    HM    26  30  27  31  29  33  33  --  --  -- ...\n",
       "10                                                ...\n",
       "11    9   188 193 187 165 139 122 111 110 115 111 ...\n",
       "12    6   131 137 135 119  99  84  78  81  93 108 ...\n",
       "13   02    57  56  52  46  40  38  33  29  22   3 ...\n",
       "14                                                ...\n",
       "15    9    --  --  --  --  --  --  --  --  --  -- ...\n",
       "16    7   127 132 140 135 118 100  92  91  98 112 ...\n",
       "17   03    --  --  --  --  --  --  --  --  --  -- ..."
      ]
     },
     "execution_count": 34,
     "metadata": {},
     "output_type": "execute_result"
    }
   ],
   "source": [
    "data.iloc[3-2:21-3]"
   ]
  },
  {
   "cell_type": "code",
   "execution_count": 44,
   "metadata": {},
   "outputs": [
    {
     "data": {
      "text/plain": [
       "33"
      ]
     },
     "execution_count": 44,
     "metadata": {},
     "output_type": "execute_result"
    }
   ],
   "source": [
    "len(data.iloc[7][0].split())"
   ]
  },
  {
   "cell_type": "code",
   "execution_count": 46,
   "metadata": {},
   "outputs": [
    {
     "data": {
      "text/plain": [
       "'MAX'"
      ]
     },
     "execution_count": 46,
     "metadata": {},
     "output_type": "execute_result"
    }
   ],
   "source": [
    "data.iloc[10][0].split()[0]"
   ]
  },
  {
   "cell_type": "code",
   "execution_count": 11,
   "metadata": {
    "collapsed": true
   },
   "outputs": [],
   "source": [
    "# 获取下一个日期的起始位置\n",
    "def checkIsNextDateDataPoint(index:int):\n",
    "    '''\n",
    "        判断是否为日期的标志点\n",
    "    '''\n",
    "    \n",
    "    if len(data.iloc[index][0].split())==1:\n",
    "        if data.iloc[index][0].split()[0] in [\"MAX\",\"MIN\"]:\n",
    "            return True\n",
    "    else:\n",
    "        return False"
   ]
  },
  {
   "cell_type": "code",
   "execution_count": 12,
   "metadata": {},
   "outputs": [
    {
     "data": {
      "text/plain": [
       "False"
      ]
     },
     "execution_count": 12,
     "metadata": {},
     "output_type": "execute_result"
    }
   ],
   "source": [
    "checkIsNextDateDataPoint(3)"
   ]
  },
  {
   "cell_type": "code",
   "execution_count": 13,
   "metadata": {},
   "outputs": [
    {
     "data": {
      "text/plain": [
       "True"
      ]
     },
     "execution_count": 13,
     "metadata": {},
     "output_type": "execute_result"
    }
   ],
   "source": [
    "checkIsNextDateDataPoint(10)"
   ]
  },
  {
   "cell_type": "code",
   "execution_count": 14,
   "metadata": {},
   "outputs": [
    {
     "data": {
      "text/plain": [
       "True"
      ]
     },
     "execution_count": 14,
     "metadata": {},
     "output_type": "execute_result"
    }
   ],
   "source": [
    "checkIsNextDateDataPoint(14)"
   ]
  },
  {
   "cell_type": "markdown",
   "metadata": {},
   "source": [
    "### 对于站位基本信息的封装"
   ]
  },
  {
   "cell_type": "code",
   "execution_count": 20,
   "metadata": {
    "collapsed": true
   },
   "outputs": [],
   "source": [
    "import datetime"
   ]
  },
  {
   "cell_type": "code",
   "execution_count": 22,
   "metadata": {},
   "outputs": [
    {
     "data": {
      "text/plain": [
       "datetime.date(1958, 1, 1)"
      ]
     },
     "execution_count": 22,
     "metadata": {},
     "output_type": "execute_result"
    }
   ],
   "source": [
    "datetime.date(1958,1,1)"
   ]
  },
  {
   "cell_type": "markdown",
   "metadata": {},
   "source": [
    "### 3.2 model设计"
   ]
  },
  {
   "cell_type": "code",
   "execution_count": 90,
   "metadata": {
    "collapsed": true
   },
   "outputs": [],
   "source": [
    "class Extremum(EmbeddedDocument):\n",
    "    '''\n",
    "        极值\n",
    "    '''\n",
    "    occurredTime=DateTimeField()\n",
    "    val=FloatField()\n",
    "    \n",
    "class TideData(EmbeddedDocument):\n",
    "    '''\n",
    "        测站数据\n",
    "    '''\n",
    "    # 极大值的24小时观测数组\n",
    "    max_arr=ListField(FloatField())\n",
    "    # 极小值得24小时观测数组\n",
    "    min_arr=ListField(FloatField())\n",
    "    # 目标日期（年-月-日）\n",
    "#     targetdate=DateTimeField()\n",
    "    targetdate=DateField()\n",
    "    heigh_heigh=EmbeddedDocumentField(Extremum)\n",
    "    heigh_low=EmbeddedDocumentField(Extremum)\n",
    "    low_heigh=EmbeddedDocumentField(Extremum)\n",
    "    low_low=EmbeddedDocumentField(Extremum)\n",
    "\n",
    "class StationTideData(Document):\n",
    "    '''\n",
    "        测站潮位数据\n",
    "    '''\n",
    "    # 测站代码\n",
    "    code=StringField(max_length=10)\n",
    "#     起始时间\n",
    "    startdate=DateTimeField()\n",
    "#     测站名称\n",
    "    stationname=StringField(max_length=10)\n",
    "#     gesjon数据\n",
    "    point=PointField()\n",
    "#     平均海平面\n",
    "    lev=IntField()\n",
    "#     警戒潮位\n",
    "    jw=IntField()\n",
    "#     潮汐调和常数\n",
    "    harmonicconstant=StringField()\n",
    "#     潮位数据\n",
    "    tideDataMax=EmbeddedDocumentField(TideData)\n",
    "    tideDataMin=EmbeddedDocumentField(TideData)"
   ]
  },
  {
   "cell_type": "markdown",
   "metadata": {},
   "source": [
    "- （1）获取测站基础信息"
   ]
  },
  {
   "cell_type": "code",
   "execution_count": 108,
   "metadata": {
    "collapsed": true
   },
   "outputs": [],
   "source": [
    "\n",
    "def convert2StationBaseModel(ser:Series=None,**kwargs):\n",
    "    '''\n",
    "        根据传入的series，根据指定位置进行截取\n",
    "    '''\n",
    "    # 获取年份\n",
    "    year=int(kwargs.get('year'))\n",
    "    latlon=[float(f\"{ser[9][:-2]}.{ser[9][-2:]}\"),float(f\"{ser[7][:-2]}.{ser[7][-2:]}\")]\n",
    "    code=ser[2]\n",
    "    # 起始时间\n",
    "    startdate=datetime.date(year,int(ser[3]),int(ser[4]))\n",
    "    stationname=ser[5]\n",
    "#     print(stationname)\n",
    "#     print(kwargs.get('index'))\n",
    "    if stationname=='SHACHENG':\n",
    "        print(kwargs.get('index'))\n",
    "    lev=int(ser[11])\n",
    "    jw=int(ser[13])\n",
    "    harmonicconstant=ser[14]\n",
    "    point=[latlon[1],latlon[0]]  \n",
    "    stationtidedata=StationTideData(code=code,\n",
    "                                   startdate=startdate,\n",
    "                                   stationname=stationname,\n",
    "                                   lev=lev,\n",
    "                                   jw=jw,\n",
    "                                   harmonicconstant=harmonicconstant,\n",
    "                                   point=point)\n",
    "    return stationtidedata"
   ]
  },
  {
   "cell_type": "code",
   "execution_count": 36,
   "metadata": {
    "collapsed": true
   },
   "outputs": [],
   "source": [
    "# test\n",
    "temp_station_tide=convert2StationBaseModel(Series(data.iloc[1][0].split()),year='1958')"
   ]
  },
  {
   "cell_type": "code",
   "execution_count": 37,
   "metadata": {},
   "outputs": [
    {
     "data": {
      "text/plain": [
       "<StationTideData: StationTideData object>"
      ]
     },
     "execution_count": 37,
     "metadata": {},
     "output_type": "execute_result"
    }
   ],
   "source": [
    "temp_station_tide"
   ]
  },
  {
   "cell_type": "markdown",
   "metadata": {},
   "source": [
    "- （2）获取极值"
   ]
  },
  {
   "cell_type": "code",
   "execution_count": 84,
   "metadata": {
    "collapsed": true
   },
   "outputs": [],
   "source": [
    "def convert2Extremum():\n",
    "    pass"
   ]
  },
  {
   "cell_type": "markdown",
   "metadata": {},
   "source": [
    "- (3)获取连续测值"
   ]
  },
  {
   "cell_type": "code",
   "execution_count": 89,
   "metadata": {
    "collapsed": true
   },
   "outputs": [],
   "source": [
    "def convert2RealData(index:int,dt:DataFrame=None,**kwargs):\n",
    "    # 极大值序列\n",
    "    max_ser= Series(dt.iloc[index][0].split())\n",
    "    # 极小值序列\n",
    "    min_ser=Series(dt.iloc[index+1][0].split())\n",
    "    # 从极大致序列与极小值序列中提取时间（月-日）\n",
    "    month=max_ser[0]\n",
    "    day=min_ser[0]\n",
    "    year=int(kwargs.get('year'))\n",
    "    target_date=datetime.date(year,month,day)\n",
    "    # 获取极大值数组\n",
    "    max_arr=max_ser[1:25]\n",
    "    # 获取极小值数组\n",
    "    min_arr=min_ser[1:25] \n",
    "    max_1=max_ser[25,27]\n",
    "    max_2=max_ser\n",
    "    pass"
   ]
  },
  {
   "cell_type": "markdown",
   "metadata": {
    "collapsed": true
   },
   "source": [
    "### 3.3 数据读取并转换"
   ]
  },
  {
   "cell_type": "code",
   "execution_count": 17,
   "metadata": {},
   "outputs": [
    {
     "data": {
      "text/plain": [
       "[3, 21, 37, 54, 72]"
      ]
     },
     "execution_count": 17,
     "metadata": {},
     "output_type": "execute_result"
    }
   ],
   "source": [
    "# 1 获取’+‘标志位\n",
    "getCheckPointList()\n",
    "checkpoint_arr[:5]"
   ]
  },
  {
   "cell_type": "code",
   "execution_count": 19,
   "metadata": {},
   "outputs": [
    {
     "data": {
      "text/plain": [
       "57"
      ]
     },
     "execution_count": 19,
     "metadata": {},
     "output_type": "execute_result"
    }
   ],
   "source": [
    "# 查看一下数组长度\n",
    "len(checkpoint_arr)"
   ]
  },
  {
   "cell_type": "code",
   "execution_count": 38,
   "metadata": {},
   "outputs": [
    {
     "ename": "TypeError",
     "evalue": "'int' object is not iterable",
     "output_type": "error",
     "traceback": [
      "\u001b[0;31m---------------------------------------------------------------------------\u001b[0m",
      "\u001b[0;31mTypeError\u001b[0m                                 Traceback (most recent call last)",
      "\u001b[0;32m<ipython-input-38-a5bd116b29fb>\u001b[0m in \u001b[0;36m<module>\u001b[0;34m()\u001b[0m\n\u001b[1;32m      1\u001b[0m \u001b[0;31m# 2循环遍历标志位\u001b[0m\u001b[0;34m\u001b[0m\u001b[0;34m\u001b[0m\u001b[0m\n\u001b[0;32m----> 2\u001b[0;31m \u001b[0;32mfor\u001b[0m \u001b[0mi\u001b[0m\u001b[0;34m,\u001b[0m\u001b[0mval\u001b[0m \u001b[0;32min\u001b[0m \u001b[0mcheckpoint_arr\u001b[0m\u001b[0;34m:\u001b[0m\u001b[0;34m\u001b[0m\u001b[0m\n\u001b[0m\u001b[1;32m      3\u001b[0m     \u001b[0;31m# 2.1 对于当前标志位，根据标志位的位置获取到单个站位的日期以及基本信息\u001b[0m\u001b[0;34m\u001b[0m\u001b[0;34m\u001b[0m\u001b[0m\n\u001b[1;32m      4\u001b[0m     \u001b[0mprint\u001b[0m\u001b[0;34m(\u001b[0m\u001b[0;34m'index:{i}|val:{val}'\u001b[0m\u001b[0;34m)\u001b[0m\u001b[0;34m\u001b[0m\u001b[0m\n",
      "\u001b[0;31mTypeError\u001b[0m: 'int' object is not iterable"
     ]
    }
   ],
   "source": [
    "# 2循环遍历标志位\n",
    "for i,val in checkpoint_arr:\n",
    "    # 2.1 对于当前标志位，根据标志位的位置获取到单个站位的日期以及基本信息\n",
    "    print('index:{i}|val:{val}')"
   ]
  },
  {
   "cell_type": "code",
   "execution_count": 44,
   "metadata": {},
   "outputs": [
    {
     "data": {
      "text/html": [
       "<div>\n",
       "<style>\n",
       "    .dataframe thead tr:only-child th {\n",
       "        text-align: right;\n",
       "    }\n",
       "\n",
       "    .dataframe thead th {\n",
       "        text-align: left;\n",
       "    }\n",
       "\n",
       "    .dataframe tbody tr th {\n",
       "        vertical-align: top;\n",
       "    }\n",
       "</style>\n",
       "<table border=\"1\" class=\"dataframe\">\n",
       "  <thead>\n",
       "    <tr style=\"text-align: right;\">\n",
       "      <th></th>\n",
       "      <th>0</th>\n",
       "    </tr>\n",
       "  </thead>\n",
       "  <tbody>\n",
       "    <tr>\n",
       "      <th>0</th>\n",
       "      <td>1</td>\n",
       "    </tr>\n",
       "    <tr>\n",
       "      <th>1</th>\n",
       "      <td>S.N.   122      5622      9   4     QI...</td>\n",
       "    </tr>\n",
       "    <tr>\n",
       "      <th>2</th>\n",
       "      <td>0   1   2   3   4   5   6   7   8   9 ...</td>\n",
       "    </tr>\n",
       "    <tr>\n",
       "      <th>3</th>\n",
       "      <td>+                                             ...</td>\n",
       "    </tr>\n",
       "    <tr>\n",
       "      <th>4</th>\n",
       "      <td>9   159 156 135 107  90  93 110 123 145 141 ...</td>\n",
       "    </tr>\n",
       "  </tbody>\n",
       "</table>\n",
       "</div>"
      ],
      "text/plain": [
       "                                                   0\n",
       "0                                                  1\n",
       "1          S.N.   122      5622      9   4     QI...\n",
       "2          0   1   2   3   4   5   6   7   8   9 ...\n",
       "3  +                                             ...\n",
       "4    9   159 156 135 107  90  93 110 123 145 141 ..."
      ]
     },
     "execution_count": 44,
     "metadata": {},
     "output_type": "execute_result"
    }
   ],
   "source": [
    "data.head()"
   ]
  },
  {
   "cell_type": "code",
   "execution_count": 55,
   "metadata": {},
   "outputs": [
    {
     "data": {
      "text/plain": [
       "[297, 314]"
      ]
     },
     "execution_count": 55,
     "metadata": {},
     "output_type": "execute_result"
    }
   ],
   "source": [
    "checkpoint_arr[-2:]"
   ]
  },
  {
   "cell_type": "code",
   "execution_count": 109,
   "metadata": {},
   "outputs": [
    {
     "name": "stdout",
     "output_type": "stream",
     "text": [
      "StationTideData object\n",
      "StationTideData object\n",
      "StationTideData object\n",
      "StationTideData object\n",
      "StationTideData object\n",
      "StationTideData object\n",
      "StationTideData object\n",
      "StationTideData object\n",
      "StationTideData object\n",
      "StationTideData object\n",
      "StationTideData object\n",
      "StationTideData object\n",
      "210\n",
      "StationTideData object\n",
      "StationTideData object\n",
      "StationTideData object\n",
      "StationTideData object\n",
      "StationTideData object\n",
      "StationTideData object\n",
      "StationTideData object\n",
      "StationTideData object\n",
      "StationTideData object\n",
      "StationTideData object\n",
      "StationTideData object\n",
      "StationTideData object\n",
      "StationTideData object\n",
      "StationTideData object\n",
      "StationTideData object\n",
      "StationTideData object\n",
      "StationTideData object\n",
      "StationTideData object\n",
      "StationTideData object\n",
      "210\n",
      "StationTideData object\n",
      "StationTideData object\n",
      "StationTideData object\n",
      "StationTideData object\n",
      "StationTideData object\n",
      "StationTideData object\n",
      "StationTideData object\n",
      "StationTideData object\n",
      "StationTideData object\n",
      "StationTideData object\n",
      "StationTideData object\n",
      "StationTideData object\n",
      "StationTideData object\n",
      "StationTideData object\n",
      "StationTideData object\n",
      "StationTideData object\n",
      "StationTideData object\n",
      "StationTideData object\n",
      "StationTideData object\n",
      "210\n",
      "StationTideData object\n",
      "StationTideData object\n",
      "StationTideData object\n",
      "StationTideData object\n",
      "StationTideData object\n",
      "StationTideData object\n",
      "StationTideData object\n"
     ]
    }
   ],
   "source": [
    "model_arr=[]\n",
    "for i,val in enumerate(checkpoint_arr):\n",
    "    start,end=-1,-1\n",
    "    # 2.1 对于当前标志位，根据标志位的位置获取到单个站位的日期以及基本信息\n",
    "    # 获取起始及结束位置\n",
    "#     print(f'序号:{i}')\n",
    "#     print(f'start:{start}|end:{end}')\n",
    "    try:\n",
    "        start,end=null=checkpoint_arr[i:i+2]\n",
    "    except:\n",
    "        start=checkpoint_arr[i:i+2][0]\n",
    "    # 获取海洋站基本位置所在位置\n",
    "    index_station_base=start-2\n",
    "    ser_station_base=Series(data.iloc[index_station_base][0].split())\n",
    "    # 获取测站基本信息\n",
    "    temp_model= convert2StationBaseModel(ser_station_base,year='1958',index=val)\n",
    "#     model_arr.append(temp_model)\n",
    "    # 2.2 获取极值序列\n",
    "    \n",
    "    print(temp_model)\n",
    "    \n",
    "#     print(f'index:{i}|val:{val}')\n",
    "#     print(f'下次要出现的值:{checkpoint_arr[i+1]}')"
   ]
  },
  {
   "cell_type": "code",
   "execution_count": 80,
   "metadata": {
    "collapsed": true
   },
   "outputs": [],
   "source": [
    "start,end=-1,-1\n",
    "try:\n",
    "    start,end=checkpoint_arr[56:58]\n",
    "except:\n",
    "    start=checkpoint_arr[56:58][0]\n",
    "    pass\n"
   ]
  },
  {
   "cell_type": "code",
   "execution_count": 81,
   "metadata": {},
   "outputs": [
    {
     "data": {
      "text/plain": [
       "(314, -1)"
      ]
     },
     "execution_count": 81,
     "metadata": {},
     "output_type": "execute_result"
    }
   ],
   "source": [
    "start,end"
   ]
  },
  {
   "cell_type": "markdown",
   "metadata": {},
   "source": [
    "## 问题汇总："
   ]
  },
  {
   "cell_type": "markdown",
   "metadata": {},
   "source": [
    "### S1 对于部分数据由于四位会导致间隔没有空格  \n",
    "发现 210 SHACHENG 存在这个问题"
   ]
  },
  {
   "cell_type": "code",
   "execution_count": 113,
   "metadata": {},
   "outputs": [
    {
     "data": {
      "text/plain": [
       "['+', 'H', 'H', 'L', 'L']"
      ]
     },
     "execution_count": 113,
     "metadata": {},
     "output_type": "execute_result"
    }
   ],
   "source": [
    "data.iloc[210][0].split()"
   ]
  },
  {
   "cell_type": "code",
   "execution_count": 115,
   "metadata": {},
   "outputs": [
    {
     "data": {
      "text/html": [
       "<div>\n",
       "<style>\n",
       "    .dataframe thead tr:only-child th {\n",
       "        text-align: right;\n",
       "    }\n",
       "\n",
       "    .dataframe thead th {\n",
       "        text-align: left;\n",
       "    }\n",
       "\n",
       "    .dataframe tbody tr th {\n",
       "        vertical-align: top;\n",
       "    }\n",
       "</style>\n",
       "<table border=\"1\" class=\"dataframe\">\n",
       "  <thead>\n",
       "    <tr style=\"text-align: right;\">\n",
       "      <th></th>\n",
       "      <th>0</th>\n",
       "    </tr>\n",
       "  </thead>\n",
       "  <tbody>\n",
       "    <tr>\n",
       "      <th>210</th>\n",
       "      <td>+                                             ...</td>\n",
       "    </tr>\n",
       "    <tr>\n",
       "      <th>211</th>\n",
       "      <td>9   600 570 592 651 736 830 895 927 915 848 ...</td>\n",
       "    </tr>\n",
       "    <tr>\n",
       "      <th>212</th>\n",
       "      <td>2   609 576 592 650 731 817 885 914 897 834 ...</td>\n",
       "    </tr>\n",
       "    <tr>\n",
       "      <th>213</th>\n",
       "      <td>27    -9  -6   0   1   5  13  10  13  18  14 ...</td>\n",
       "    </tr>\n",
       "    <tr>\n",
       "      <th>214</th>\n",
       "      <td>9   681 596 591 642 752 862 946 990 976 902 ...</td>\n",
       "    </tr>\n",
       "    <tr>\n",
       "      <th>215</th>\n",
       "      <td>3   655 571 533 556 631 733 838 917 950 928 ...</td>\n",
       "    </tr>\n",
       "    <tr>\n",
       "      <th>216</th>\n",
       "      <td>28    26  25  58  86 121 129 108  73  26 -26 ...</td>\n",
       "    </tr>\n",
       "    <tr>\n",
       "      <th>217</th>\n",
       "      <td>MAX                 ...</td>\n",
       "    </tr>\n",
       "    <tr>\n",
       "      <th>218</th>\n",
       "      <td>9   829 680 626 555 547 644 776 913 9851035 ...</td>\n",
       "    </tr>\n",
       "    <tr>\n",
       "      <th>219</th>\n",
       "      <td>4   733 614 523 494 537 635 758 874 956 983 ...</td>\n",
       "    </tr>\n",
       "    <tr>\n",
       "      <th>220</th>\n",
       "      <td>29    96  66 103  61  10   9  18  39  29  52 ...</td>\n",
       "    </tr>\n",
       "    <tr>\n",
       "      <th>221</th>\n",
       "      <td>9   808 668 532 432 415 507 624 760 886 971 ...</td>\n",
       "    </tr>\n",
       "    <tr>\n",
       "      <th>222</th>\n",
       "      <td>5   821 689 563 478 469 538 659 796 915 9901...</td>\n",
       "    </tr>\n",
       "    <tr>\n",
       "      <th>223</th>\n",
       "      <td>30   -13 -21 -31 -46 -54 -31 -35 -36 -29 -19 ...</td>\n",
       "    </tr>\n",
       "    <tr>\n",
       "      <th>224</th>\n",
       "      <td>1</td>\n",
       "    </tr>\n",
       "    <tr>\n",
       "      <th>225</th>\n",
       "      <td>S.N. 73806      5622      9   2     BA...</td>\n",
       "    </tr>\n",
       "    <tr>\n",
       "      <th>226</th>\n",
       "      <td>0   1   2   3   4   5   6   7   8   9 ...</td>\n",
       "    </tr>\n",
       "  </tbody>\n",
       "</table>\n",
       "</div>"
      ],
      "text/plain": [
       "                                                     0\n",
       "210  +                                             ...\n",
       "211    9   600 570 592 651 736 830 895 927 915 848 ...\n",
       "212    2   609 576 592 650 731 817 885 914 897 834 ...\n",
       "213   27    -9  -6   0   1   5  13  10  13  18  14 ...\n",
       "214    9   681 596 591 642 752 862 946 990 976 902 ...\n",
       "215    3   655 571 533 556 631 733 838 917 950 928 ...\n",
       "216   28    26  25  58  86 121 129 108  73  26 -26 ...\n",
       "217                            MAX                 ...\n",
       "218    9   829 680 626 555 547 644 776 913 9851035 ...\n",
       "219    4   733 614 523 494 537 635 758 874 956 983 ...\n",
       "220   29    96  66 103  61  10   9  18  39  29  52 ...\n",
       "221    9   808 668 532 432 415 507 624 760 886 971 ...\n",
       "222    5   821 689 563 478 469 538 659 796 915 9901...\n",
       "223   30   -13 -21 -31 -46 -54 -31 -35 -36 -29 -19 ...\n",
       "224                                                  1\n",
       "225          S.N. 73806      5622      9   2     BA...\n",
       "226          0   1   2   3   4   5   6   7   8   9 ..."
      ]
     },
     "execution_count": 115,
     "metadata": {},
     "output_type": "execute_result"
    }
   ],
   "source": [
    "data.iloc[210:227]"
   ]
  },
  {
   "cell_type": "code",
   "execution_count": 116,
   "metadata": {},
   "outputs": [
    {
     "data": {
      "text/plain": [
       "['9',\n",
       " '829',\n",
       " '680',\n",
       " '626',\n",
       " '555',\n",
       " '547',\n",
       " '644',\n",
       " '776',\n",
       " '913',\n",
       " '9851035',\n",
       " '981',\n",
       " '879',\n",
       " '764',\n",
       " '616',\n",
       " '477',\n",
       " '407',\n",
       " '426',\n",
       " '505',\n",
       " '671',\n",
       " '824',\n",
       " '94710061003',\n",
       " '928',\n",
       " '08451035',\n",
       " '21301020',\n",
       " '0330',\n",
       " '532',\n",
       " '1515',\n",
       " '402']"
      ]
     },
     "execution_count": 116,
     "metadata": {},
     "output_type": "execute_result"
    }
   ],
   "source": [
    "data.iloc[218][0].split()"
   ]
  },
  {
   "cell_type": "code",
   "execution_count": 117,
   "metadata": {},
   "outputs": [
    {
     "data": {
      "text/plain": [
       "0      9   829 680 626 555 547 644 776 913 9851035 ...\n",
       "Name: 218, dtype: object"
      ]
     },
     "execution_count": 117,
     "metadata": {},
     "output_type": "execute_result"
    }
   ],
   "source": [
    "data.iloc[218]"
   ]
  },
  {
   "cell_type": "code",
   "execution_count": null,
   "metadata": {
    "collapsed": true
   },
   "outputs": [],
   "source": []
  }
 ],
 "metadata": {
  "kernelspec": {
   "display_name": "Python 3",
   "language": "python",
   "name": "python3"
  },
  "language_info": {
   "codemirror_mode": {
    "name": "ipython",
    "version": 3
   },
   "file_extension": ".py",
   "mimetype": "text/x-python",
   "name": "python",
   "nbconvert_exporter": "python",
   "pygments_lexer": "ipython3",
   "version": "3.6.3"
  }
 },
 "nbformat": 4,
 "nbformat_minor": 2
}
