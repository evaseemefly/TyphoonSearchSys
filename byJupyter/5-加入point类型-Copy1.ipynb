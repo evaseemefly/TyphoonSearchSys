{
 "cells": [
  {
   "cell_type": "code",
   "execution_count": 1,
   "metadata": {
    "collapsed": true
   },
   "outputs": [],
   "source": [
    "from mongoengine import *\n",
    "import os\n",
    "import pandas as pd\n",
    "import numpy as np\n",
    "import re\n",
    "from datetime import datetime"
   ]
  },
  {
   "cell_type": "code",
   "execution_count": 2,
   "metadata": {},
   "outputs": [
    {
     "data": {
      "text/plain": [
       "MongoClient(host=['localhost:27017'], document_class=dict, tz_aware=False, connect=True, read_preference=Primary())"
      ]
     },
     "execution_count": 2,
     "metadata": {},
     "output_type": "execute_result"
    }
   ],
   "source": [
    "connect('typhoon')"
   ]
  },
  {
   "cell_type": "markdown",
   "metadata": {},
   "source": [
    "## 1- 创建PointField 类型  \n",
    "[参考网站](https://github.com/MongoEngine/mongoengine/issues/488)  \n",
    "[官网](http://docs.mongoengine.org/apireference.html#mongoengine.fields.GeoPointField)"
   ]
  },
  {
   "cell_type": "code",
   "execution_count": 3,
   "metadata": {
    "collapsed": true
   },
   "outputs": [],
   "source": [
    "class GeoTyphoonRealData(Document):\n",
    "    '''\n",
    "        支持geojson的存储至mongodb的model\n",
    "    '''\n",
    "    code=StringField(max_length=10)\n",
    "    date=DateTimeField()\n",
    "    bp=FloatField()\n",
    "    wsm=FloatField()\n",
    "    # 注意此处与django中的类型不同，django的类型为IntegerField，mongoengine为IntField！\n",
    "    level=IntField()\n",
    "    # latlon=models.ForeignKey(Point,on_delete=models.CASCADE)\n",
    "    latlon=PointField()\n",
    "    meta = {'collection': 'geotyphoonrealdata'}"
   ]
  },
  {
   "cell_type": "markdown",
   "metadata": {},
   "source": [
    "<code>`\n",
    "ORMClassname(location=[<long>, <lat>]).save()\n",
    "`<pre>  \n",
    "\n",
    "生成的对象类型：\n",
    "<code>`\n",
    "{type: \"Point\", coordinates: [<long>, <lat>]}\n",
    "`<pre>  \n"
   ]
  },
  {
   "cell_type": "markdown",
   "metadata": {},
   "source": [
    "## 2- 使用near查询PointFiled类型  \n",
    "[参考官网](http://docs.mongoengine.org/guide/querying.html?highlight=PointField)"
   ]
  },
  {
   "cell_type": "code",
   "execution_count": 4,
   "metadata": {},
   "outputs": [
    {
     "data": {
      "text/plain": [
       "[<GeoTyphoonRealData: GeoTyphoonRealData object>]"
      ]
     },
     "execution_count": 4,
     "metadata": {},
     "output_type": "execute_result"
    }
   ],
   "source": [
    "GeoTyphoonRealData.objects(latlon__near=[97.9,18.2],latlon__max_distance=10000)"
   ]
  },
  {
   "cell_type": "code",
   "execution_count": 5,
   "metadata": {},
   "outputs": [
    {
     "data": {
      "text/plain": [
       "[<GeoTyphoonRealData: GeoTyphoonRealData object>]"
      ]
     },
     "execution_count": 5,
     "metadata": {},
     "output_type": "execute_result"
    }
   ],
   "source": [
    "list(GeoTyphoonRealData.objects(latlon__near=[97.9,18.2],latlon__max_distance=1000))"
   ]
  },
  {
   "cell_type": "code",
   "execution_count": null,
   "metadata": {
    "collapsed": true
   },
   "outputs": [],
   "source": []
  },
  {
   "cell_type": "code",
   "execution_count": 7,
   "metadata": {},
   "outputs": [
    {
     "data": {
      "text/plain": [
       "[<GeoTyphoonRealData: GeoTyphoonRealData object>, <GeoTyphoonRealData: GeoTyphoonRealData object>, <GeoTyphoonRealData: GeoTyphoonRealData object>, <GeoTyphoonRealData: GeoTyphoonRealData object>, <GeoTyphoonRealData: GeoTyphoonRealData object>, <GeoTyphoonRealData: GeoTyphoonRealData object>, <GeoTyphoonRealData: GeoTyphoonRealData object>, <GeoTyphoonRealData: GeoTyphoonRealData object>, <GeoTyphoonRealData: GeoTyphoonRealData object>, <GeoTyphoonRealData: GeoTyphoonRealData object>, <GeoTyphoonRealData: GeoTyphoonRealData object>, <GeoTyphoonRealData: GeoTyphoonRealData object>, <GeoTyphoonRealData: GeoTyphoonRealData object>, <GeoTyphoonRealData: GeoTyphoonRealData object>, <GeoTyphoonRealData: GeoTyphoonRealData object>, <GeoTyphoonRealData: GeoTyphoonRealData object>, <GeoTyphoonRealData: GeoTyphoonRealData object>, <GeoTyphoonRealData: GeoTyphoonRealData object>, <GeoTyphoonRealData: GeoTyphoonRealData object>, <GeoTyphoonRealData: GeoTyphoonRealData object>, '...(remaining elements truncated)...']"
      ]
     },
     "execution_count": 7,
     "metadata": {},
     "output_type": "execute_result"
    }
   ],
   "source": [
    "GeoTyphoonRealData.objects(latlon__near=[97.9,18.2],latlon__max_distance=1000000)"
   ]
  },
  {
   "cell_type": "code",
   "execution_count": 8,
   "metadata": {},
   "outputs": [
    {
     "data": {
      "text/plain": [
       "['', 'TALAS', 'DOKSURI', '(nameless)', 'SONCA', 'HATO', 'DAMREY']"
      ]
     },
     "execution_count": 8,
     "metadata": {},
     "output_type": "execute_result"
    }
   ],
   "source": [
    "GeoTyphoonRealData.objects(latlon__near=[97.9,18.2],latlon__max_distance=1000000).distinct('code')"
   ]
  },
  {
   "cell_type": "code",
   "execution_count": null,
   "metadata": {
    "collapsed": true
   },
   "outputs": [],
   "source": []
  }
 ],
 "metadata": {
  "kernelspec": {
   "display_name": "Python 3",
   "language": "python",
   "name": "python3"
  },
  "language_info": {
   "codemirror_mode": {
    "name": "ipython",
    "version": 3
   },
   "file_extension": ".py",
   "mimetype": "text/x-python",
   "name": "python",
   "nbconvert_exporter": "python",
   "pygments_lexer": "ipython3",
   "version": "3.6.3"
  }
 },
 "nbformat": 4,
 "nbformat_minor": 2
}
