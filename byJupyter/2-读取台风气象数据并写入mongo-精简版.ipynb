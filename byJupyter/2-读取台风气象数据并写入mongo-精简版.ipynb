{
 "cells": [
  {
   "cell_type": "code",
   "execution_count": 2,
   "metadata": {
    "collapsed": true
   },
   "outputs": [],
   "source": [
    "from mongoengine import *\n",
    "import os\n",
    "import pandas as pd\n",
    "import numpy as np\n",
    "import re\n",
    "from datetime import datetime"
   ]
  },
  {
   "cell_type": "markdown",
   "metadata": {},
   "source": [
    "使用** mongoengine **  \n",
    "[connect](http://docs.mongoengine.org/guide/connecting.html#guide-connecting)进行数据库连接"
   ]
  },
  {
   "cell_type": "code",
   "execution_count": 3,
   "metadata": {},
   "outputs": [
    {
     "data": {
      "text/plain": [
       "MongoClient(host=['localhost:27017'], document_class=dict, tz_aware=False, connect=True, read_preference=Primary())"
      ]
     },
     "execution_count": 3,
     "metadata": {},
     "output_type": "execute_result"
    }
   ],
   "source": [
    "connect('typhoon')"
   ]
  },
  {
   "cell_type": "markdown",
   "metadata": {},
   "source": [
    "## 1 读取文件"
   ]
  },
  {
   "cell_type": "markdown",
   "metadata": {},
   "source": [
    "### 读取方式1：使用pandas"
   ]
  },
  {
   "cell_type": "code",
   "execution_count": 4,
   "metadata": {
    "collapsed": true
   },
   "outputs": [],
   "source": [
    "targetfilename=r\"CH1956BST.txt\"\n",
    "# mac 16\n",
    "# targetpath=r\"/Users/casablanca/03project/typhoonSearchSys/demo_data\"\n",
    "# mac 15\n",
    "targetpath=r\"/Users/liusihan/Documents/01project/TyphoonSearchSys/demo_data\"\n",
    "fullname=os.path.join(targetpath,targetfilename)"
   ]
  },
  {
   "cell_type": "code",
   "execution_count": 5,
   "metadata": {},
   "outputs": [
    {
     "data": {
      "text/plain": [
       "'/Users/liusihan/Documents/01project/TyphoonSearchSys/demo_data/CH1956BST.txt'"
      ]
     },
     "execution_count": 5,
     "metadata": {},
     "output_type": "execute_result"
    }
   ],
   "source": [
    "fullname"
   ]
  },
  {
   "cell_type": "markdown",
   "metadata": {},
   "source": [
    "不使用pandas的read_table"
   ]
  },
  {
   "cell_type": "code",
   "execution_count": 6,
   "metadata": {},
   "outputs": [
    {
     "name": "stdout",
     "output_type": "stream",
     "text": [
      "读取成功\n"
     ]
    }
   ],
   "source": [
    "with open(fullname,'rb') as f:\n",
    "    data=pd.read_table(f,sep='\\s+',encoding='utf-8',header=None,infer_datetime_format=False)\n",
    "    print('读取成功')"
   ]
  },
  {
   "cell_type": "markdown",
   "metadata": {},
   "source": [
    "--------"
   ]
  },
  {
   "cell_type": "markdown",
   "metadata": {},
   "source": [
    "## 2 判断标志位的方式（必须同时满足），并获取标志位所在位置的数组（mark_indexs）"
   ]
  },
  {
   "cell_type": "markdown",
   "metadata": {},
   "source": [
    "1-第一位是否为66666"
   ]
  },
  {
   "cell_type": "markdown",
   "metadata": {},
   "source": [
    "2- 第7位是否不为Nan"
   ]
  },
  {
   "cell_type": "code",
   "execution_count": 7,
   "metadata": {},
   "outputs": [
    {
     "data": {
      "text/plain": [
       "True"
      ]
     },
     "execution_count": 7,
     "metadata": {},
     "output_type": "execute_result"
    }
   ],
   "source": [
    "data.iloc[0][0]==66666 and data.iloc[0][7]!=np.nan"
   ]
  },
  {
   "cell_type": "markdown",
   "metadata": {},
   "source": [
    "### 写成方法："
   ]
  },
  {
   "cell_type": "code",
   "execution_count": 8,
   "metadata": {
    "collapsed": true
   },
   "outputs": [],
   "source": [
    "def checkMark(index):\n",
    "    '''\n",
    "        判断是否为标志位\n",
    "    '''\n",
    "    return data.iloc[index][0]==66666 and data.iloc[index][7]!=np.nan"
   ]
  },
  {
   "cell_type": "markdown",
   "metadata": {},
   "source": [
    "找到标志位所在的位置"
   ]
  },
  {
   "cell_type": "code",
   "execution_count": 9,
   "metadata": {
    "collapsed": true
   },
   "outputs": [],
   "source": [
    "mark_indexs=[]\n",
    "for i in range(len(data)):\n",
    "#     print(i)\n",
    "    if checkMark(i):\n",
    "        mark_indexs.append(i)"
   ]
  },
  {
   "cell_type": "markdown",
   "metadata": {},
   "source": [
    "--------"
   ]
  },
  {
   "cell_type": "markdown",
   "metadata": {},
   "source": [
    "## 3 获取观测值并写入mongoDB（暂时先写在list中）"
   ]
  },
  {
   "cell_type": "code",
   "execution_count": 10,
   "metadata": {
    "collapsed": true
   },
   "outputs": [],
   "source": [
    "# 保存起止数组的数组\n",
    "list_startend=[]\n",
    "index=0\n",
    "for val in mark_indexs:\n",
    "#     list_startend.append(mark_indexs[index:2])\n",
    "#     print(mark_indexs[index:index+2])\n",
    "    list_startend.append(mark_indexs[index:index+2])\n",
    "    index=index+1\n",
    "#     print(index)"
   ]
  },
  {
   "cell_type": "markdown",
   "metadata": {},
   "source": [
    "[[789, 830], [830]]  \n",
    "注意最后的数组是长度为1的数组，因为最后一次出现标志位后出现的都是观测数据，便结束了"
   ]
  },
  {
   "cell_type": "markdown",
   "metadata": {},
   "source": [
    "----"
   ]
  },
  {
   "cell_type": "markdown",
   "metadata": {},
   "source": [
    "## 4 使用mongoEngine"
   ]
  },
  {
   "cell_type": "code",
   "execution_count": 11,
   "metadata": {
    "collapsed": true
   },
   "outputs": [],
   "source": [
    "from mongoengine import *"
   ]
  },
  {
   "cell_type": "code",
   "execution_count": 12,
   "metadata": {},
   "outputs": [
    {
     "data": {
      "text/plain": [
       "MongoClient(host=['localhost:27017'], document_class=dict, tz_aware=False, connect=True, read_preference=Primary())"
      ]
     },
     "execution_count": 12,
     "metadata": {},
     "output_type": "execute_result"
    }
   ],
   "source": [
    "connect('typhoon')"
   ]
  },
  {
   "cell_type": "markdown",
   "metadata": {},
   "source": [
    "定义 mongodb中的存储对象（ORM）"
   ]
  },
  {
   "cell_type": "code",
   "execution_count": 13,
   "metadata": {
    "collapsed": true
   },
   "outputs": [],
   "source": [
    "class GeoTyphoonRealData(Document):\n",
    "    '''\n",
    "        支持geojson的存储至mongodb的model\n",
    "    '''\n",
    "    code=StringField(max_length=10)\n",
    "    num=IntField()\n",
    "    date=DateTimeField()\n",
    "    bp=FloatField()\n",
    "    wsm=FloatField()\n",
    "    # 注意此处与django中的类型不同，django的类型为IntegerField，mongoengine为IntField！\n",
    "    level=IntField()\n",
    "    # latlon=models.ForeignKey(Point,on_delete=models.CASCADE)\n",
    "    latlon=PointField()\n",
    "    meta = {'collection': 'geotyphoonrealdata'}"
   ]
  },
  {
   "cell_type": "code",
   "execution_count": 14,
   "metadata": {
    "collapsed": true
   },
   "outputs": [],
   "source": [
    "import datetime"
   ]
  },
  {
   "cell_type": "markdown",
   "metadata": {},
   "source": [
    "** 提示错误如下 **:  \n",
    "NotUniqueError: Tried to save duplicate unique keys (E11000 duplicate key error collection: typhoon.Typhoon_geotyphoonrealdata index: __primary_key__ dup key: { : null })  \n",
    "是mongodb中的对应document中可能设置了__primary_key__，我的解决办法是 ** 删除掉 ** "
   ]
  },
  {
   "cell_type": "markdown",
   "metadata": {
    "collapsed": true
   },
   "source": [
    "### S1 根据标志位遍历df"
   ]
  },
  {
   "cell_type": "markdown",
   "metadata": {},
   "source": [
    "循环遍历list_startend"
   ]
  },
  {
   "cell_type": "code",
   "execution_count": 14,
   "metadata": {},
   "outputs": [
    {
     "name": "stdout",
     "output_type": "stream",
     "text": [
      "起始0——终止10\n",
      "起始11——终止58\n",
      "起始59——终止80\n",
      "起始81——终止117\n",
      "起始118——终止126\n",
      "起始127——终止148\n",
      "起始149——终止158\n",
      "起始159——终止168\n",
      "起始169——终止186\n",
      "起始187——终止196\n",
      "起始197——终止218\n",
      "起始219——终止223\n",
      "起始224——终止270\n",
      "起始271——终止286\n",
      "起始287——终止298\n",
      "起始299——终止309\n",
      "起始310——终止323\n",
      "起始324——终止335\n",
      "起始336——终止371\n",
      "起始372——终止384\n",
      "起始385——终止396\n",
      "起始397——终止428\n",
      "起始429——终止463\n",
      "起始464——终止504\n",
      "起始505——终止520\n",
      "起始521——终止535\n",
      "起始536——终止586\n",
      "起始587——终止622\n",
      "起始623——终止659\n",
      "起始660——终止680\n",
      "起始681——终止697\n",
      "起始698——终止744\n",
      "起始745——终止803\n",
      "起始804——终止817\n",
      "起始818——终止831\n",
      "起始832——终止850\n",
      "起始851——终止865\n",
      "起始866\n"
     ]
    }
   ],
   "source": [
    "for val in list_startend:\n",
    "    if len(val)>1:        \n",
    "        print(f\"起始{val[0]}——终止{val[1]-1}\")\n",
    "    elif len(val)==1:\n",
    "        print(f\"起始{val[0]}\")"
   ]
  },
  {
   "cell_type": "code",
   "execution_count": 15,
   "metadata": {
    "collapsed": true
   },
   "outputs": [],
   "source": [
    "def getHeaderBody(start,end=None):\n",
    "    '''\n",
    "        根据df的起止位置截取其中的头部（66666\t0\t25\t0\t1\t0\t6.0\t(nameless)\t20180501.0），\n",
    "        以及数据内容body（2017041406\t0\t109\t1302\t1010\t10）\n",
    "    '''\n",
    "    header=data.iloc[start-1]\n",
    "    body=data.iloc[start:end,0:6]\n",
    "    return header,body"
   ]
  },
  {
   "cell_type": "code",
   "execution_count": 16,
   "metadata": {
    "collapsed": true
   },
   "outputs": [],
   "source": [
    "from datetime import datetime"
   ]
  },
  {
   "cell_type": "markdown",
   "metadata": {},
   "source": [
    "- 19-04-03 此处加入一个新的需求，加入对于 **台风 数字编号 **的获取"
   ]
  },
  {
   "cell_type": "code",
   "execution_count": 19,
   "metadata": {},
   "outputs": [
    {
     "data": {
      "text/plain": [
       "0          66666\n",
       "1              0\n",
       "2             10\n",
       "3              1\n",
       "4              0\n",
       "5              0\n",
       "6              6\n",
       "7     (nameless)\n",
       "8    2.01107e+07\n",
       "Name: 0, dtype: object"
      ]
     },
     "execution_count": 19,
     "metadata": {},
     "output_type": "execute_result"
    }
   ],
   "source": [
    "data.iloc[0]"
   ]
  },
  {
   "cell_type": "code",
   "execution_count": 17,
   "metadata": {
    "collapsed": true
   },
   "outputs": [],
   "source": [
    "def convert2Typhoon(obj,code):\n",
    "    '''\n",
    "        根据传入的series将其转为typhoob Model\n",
    "    '''\n",
    "    lat=float(f\"{str(obj[2])[:-1]}.{str(obj[2])[-1:]}\")\n",
    "    lon=float(f\"{str(obj[3])[:-1]}.{str(obj[3])[-1:]}\")\n",
    "    stamp_str=obj[0]\n",
    "    stamp=datetime.strptime(str(stamp_str),'%Y%m%d%H%M')\n",
    "    typhoon_temp=GeoTyphoonRealData(code=code,\n",
    "                                date=stamp,\n",
    "                                bp=obj[4],\n",
    "                                wsm=obj[5],\n",
    "                                level=obj[1],\n",
    "                                latlon=[lon,lat])\n",
    "    return typhoon_temp"
   ]
  },
  {
   "cell_type": "markdown",
   "metadata": {},
   "source": [
    "### S2 拼接经纬度\n",
    "获取经纬度：  \n",
    "    - 将字符串转成float，并且最后一位为小数点后一位"
   ]
  },
  {
   "cell_type": "markdown",
   "metadata": {},
   "source": [
    "### S3 获取当前时间"
   ]
  },
  {
   "cell_type": "markdown",
   "metadata": {},
   "source": [
    "### S4 写入mongodb"
   ]
  },
  {
   "cell_type": "markdown",
   "metadata": {},
   "source": [
    "### S5 遍历起始list，自动获取header以及body"
   ]
  },
  {
   "cell_type": "code",
   "execution_count": 1,
   "metadata": {},
   "outputs": [
    {
     "ename": "NameError",
     "evalue": "name 'list_startend' is not defined",
     "output_type": "error",
     "traceback": [
      "\u001b[1;31m---------------------------------------------------------------------------\u001b[0m",
      "\u001b[1;31mNameError\u001b[0m                                 Traceback (most recent call last)",
      "\u001b[1;32m<ipython-input-1-b80919fc4d10>\u001b[0m in \u001b[0;36m<module>\u001b[1;34m\u001b[0m\n\u001b[0;32m      1\u001b[0m \u001b[0mtyphoon_list\u001b[0m\u001b[1;33m=\u001b[0m\u001b[1;33m[\u001b[0m\u001b[1;33m]\u001b[0m\u001b[1;33m\u001b[0m\u001b[1;33m\u001b[0m\u001b[0m\n\u001b[1;32m----> 2\u001b[1;33m \u001b[1;32mfor\u001b[0m \u001b[0mstart\u001b[0m \u001b[1;32min\u001b[0m \u001b[0mlist_startend\u001b[0m\u001b[1;33m:\u001b[0m\u001b[1;33m\u001b[0m\u001b[1;33m\u001b[0m\u001b[0m\n\u001b[0m\u001b[0;32m      3\u001b[0m     \u001b[0mstart_index\u001b[0m\u001b[1;33m=\u001b[0m\u001b[0mstart\u001b[0m\u001b[1;33m[\u001b[0m\u001b[1;36m0\u001b[0m\u001b[1;33m]\u001b[0m\u001b[1;33m\u001b[0m\u001b[1;33m\u001b[0m\u001b[0m\n\u001b[0;32m      4\u001b[0m     \u001b[0mend_index\u001b[0m\u001b[1;33m=\u001b[0m\u001b[1;32mNone\u001b[0m\u001b[1;33m\u001b[0m\u001b[1;33m\u001b[0m\u001b[0m\n\u001b[0;32m      5\u001b[0m     \u001b[1;32mif\u001b[0m \u001b[0mlen\u001b[0m\u001b[1;33m(\u001b[0m\u001b[0mstart\u001b[0m\u001b[1;33m)\u001b[0m\u001b[1;33m==\u001b[0m\u001b[1;36m1\u001b[0m\u001b[1;33m:\u001b[0m\u001b[1;33m\u001b[0m\u001b[1;33m\u001b[0m\u001b[0m\n",
      "\u001b[1;31mNameError\u001b[0m: name 'list_startend' is not defined"
     ]
    }
   ],
   "source": [
    "typhoon_list=[]\n",
    "for start in list_startend:\n",
    "    start_index=start[0]\n",
    "    end_index=None\n",
    "    if len(start)==1:        \n",
    "        end_index=None\n",
    "    else:\n",
    "#         start_index=start[0]\n",
    "        end_index=start[1]\n",
    "    # 获取header与body\n",
    "#     header,body=None\n",
    "    header,body=getHeaderBody(start_index+1,end_index)\n",
    "    # 从header中获取name\n",
    "    typhoon_name=header[7]\n",
    "    \n",
    "    print(f\"当前body长度{len(body)}\")\n",
    "    for i in range(len(body)):\n",
    "        if i>=len(body)-1:\n",
    "            print(\"跳出本次循环\")\n",
    "            break\n",
    "        temp_typhoon=body.iloc[i] \n",
    "        print(f\"当前i:{i}\")\n",
    "        print(f\"当前index:{start_index+1+i}\")\n",
    "        print(f\"当前body:\\n{body.iloc[i+1]}\")\n",
    "        typhoon_list.append(convert2Typhoon(body.iloc[i+1],typhoon_name))\n",
    "    print('--------')"
   ]
  },
  {
   "cell_type": "code",
   "execution_count": 23,
   "metadata": {},
   "outputs": [
    {
     "name": "stdout",
     "output_type": "stream",
     "text": [
      "1写入成功\n",
      "2写入成功\n",
      "3写入成功\n",
      "4写入成功\n",
      "5写入成功\n",
      "6写入成功\n",
      "7写入成功\n",
      "8写入成功\n",
      "9写入成功\n",
      "10写入成功\n",
      "11写入成功\n",
      "12写入成功\n",
      "13写入成功\n",
      "14写入成功\n",
      "15写入成功\n",
      "16写入成功\n",
      "17写入成功\n",
      "18写入成功\n",
      "19写入成功\n",
      "20写入成功\n",
      "21写入成功\n",
      "22写入成功\n",
      "23写入成功\n",
      "24写入成功\n",
      "25写入成功\n",
      "26写入成功\n",
      "27写入成功\n",
      "28写入成功\n",
      "29写入成功\n",
      "30写入成功\n",
      "31写入成功\n",
      "32写入成功\n",
      "33写入成功\n",
      "34写入成功\n",
      "35写入成功\n",
      "36写入成功\n",
      "37写入成功\n",
      "38写入成功\n",
      "39写入成功\n",
      "40写入成功\n",
      "41写入成功\n",
      "42写入成功\n",
      "43写入成功\n",
      "44写入成功\n",
      "45写入成功\n",
      "46写入成功\n",
      "47写入成功\n",
      "48写入成功\n",
      "49写入成功\n",
      "50写入成功\n",
      "51写入成功\n",
      "52写入成功\n",
      "53写入成功\n",
      "54写入成功\n",
      "55写入成功\n",
      "56写入成功\n",
      "57写入成功\n",
      "58写入成功\n",
      "59写入成功\n",
      "60写入成功\n",
      "61写入成功\n",
      "62写入成功\n",
      "63写入成功\n",
      "64写入成功\n",
      "65写入成功\n",
      "66写入成功\n",
      "67写入成功\n",
      "68写入成功\n",
      "69写入成功\n",
      "70写入成功\n",
      "71写入成功\n",
      "72写入成功\n",
      "73写入成功\n",
      "74写入成功\n",
      "75写入成功\n",
      "76写入成功\n",
      "77写入成功\n",
      "78写入成功\n",
      "79写入成功\n",
      "80写入成功\n",
      "81写入成功\n",
      "82写入成功\n",
      "83写入成功\n",
      "84写入成功\n",
      "85写入成功\n",
      "86写入成功\n",
      "87写入成功\n",
      "88写入成功\n",
      "89写入成功\n",
      "90写入成功\n",
      "91写入成功\n",
      "92写入成功\n",
      "93写入成功\n",
      "94写入成功\n",
      "95写入成功\n",
      "96写入成功\n",
      "97写入成功\n",
      "98写入成功\n",
      "99写入成功\n",
      "100写入成功\n",
      "101写入成功\n",
      "102写入成功\n",
      "103写入成功\n",
      "104写入成功\n",
      "105写入成功\n",
      "106写入成功\n",
      "107写入成功\n",
      "108写入成功\n",
      "109写入成功\n",
      "110写入成功\n",
      "111写入成功\n",
      "112写入成功\n",
      "113写入成功\n",
      "114写入成功\n",
      "115写入成功\n",
      "116写入成功\n",
      "117写入成功\n",
      "118写入成功\n",
      "119写入成功\n",
      "120写入成功\n",
      "121写入成功\n",
      "122写入成功\n",
      "123写入成功\n",
      "124写入成功\n",
      "125写入成功\n",
      "126写入成功\n",
      "127写入成功\n",
      "128写入成功\n",
      "129写入成功\n",
      "130写入成功\n",
      "131写入成功\n",
      "132写入成功\n",
      "133写入成功\n",
      "134写入成功\n",
      "135写入成功\n",
      "136写入成功\n",
      "137写入成功\n",
      "138写入成功\n",
      "139写入成功\n",
      "140写入成功\n",
      "141写入成功\n",
      "142写入成功\n",
      "143写入成功\n",
      "144写入成功\n",
      "145写入成功\n",
      "146写入成功\n",
      "147写入成功\n",
      "148写入成功\n",
      "149写入成功\n",
      "150写入成功\n",
      "151写入成功\n",
      "152写入成功\n",
      "153写入成功\n",
      "154写入成功\n",
      "155写入成功\n",
      "156写入成功\n",
      "157写入成功\n",
      "158写入成功\n",
      "159写入成功\n",
      "160写入成功\n",
      "161写入成功\n",
      "162写入成功\n",
      "163写入成功\n",
      "164写入成功\n",
      "165写入成功\n",
      "166写入成功\n",
      "167写入成功\n",
      "168写入成功\n",
      "169写入成功\n",
      "170写入成功\n",
      "171写入成功\n",
      "172写入成功\n",
      "173写入成功\n",
      "174写入成功\n",
      "175写入成功\n",
      "176写入成功\n",
      "177写入成功\n",
      "178写入成功\n",
      "179写入成功\n",
      "180写入成功\n",
      "181写入成功\n",
      "182写入成功\n",
      "183写入成功\n",
      "184写入成功\n",
      "185写入成功\n",
      "186写入成功\n",
      "187写入成功\n",
      "188写入成功\n",
      "189写入成功\n",
      "190写入成功\n",
      "191写入成功\n",
      "192写入成功\n",
      "193写入成功\n",
      "194写入成功\n",
      "195写入成功\n",
      "196写入成功\n",
      "197写入成功\n",
      "出现错误的位置197\n",
      "出现错误的位置197\n",
      "出现错误的位置197\n",
      "198写入成功\n",
      "199写入成功\n",
      "200写入成功\n",
      "201写入成功\n",
      "202写入成功\n",
      "203写入成功\n",
      "204写入成功\n",
      "205写入成功\n",
      "206写入成功\n",
      "207写入成功\n",
      "208写入成功\n",
      "209写入成功\n",
      "210写入成功\n",
      "211写入成功\n",
      "212写入成功\n",
      "213写入成功\n",
      "214写入成功\n",
      "215写入成功\n",
      "216写入成功\n",
      "217写入成功\n",
      "218写入成功\n",
      "219写入成功\n",
      "220写入成功\n",
      "221写入成功\n",
      "222写入成功\n",
      "223写入成功\n",
      "224写入成功\n",
      "225写入成功\n",
      "226写入成功\n",
      "227写入成功\n",
      "228写入成功\n",
      "229写入成功\n",
      "230写入成功\n",
      "231写入成功\n",
      "232写入成功\n",
      "233写入成功\n",
      "234写入成功\n",
      "235写入成功\n",
      "236写入成功\n",
      "237写入成功\n",
      "238写入成功\n",
      "239写入成功\n",
      "240写入成功\n",
      "241写入成功\n",
      "242写入成功\n",
      "243写入成功\n",
      "244写入成功\n",
      "245写入成功\n",
      "246写入成功\n",
      "247写入成功\n",
      "248写入成功\n",
      "249写入成功\n",
      "250写入成功\n",
      "251写入成功\n",
      "252写入成功\n",
      "253写入成功\n",
      "254写入成功\n",
      "255写入成功\n",
      "256写入成功\n",
      "257写入成功\n",
      "258写入成功\n",
      "259写入成功\n",
      "260写入成功\n",
      "261写入成功\n",
      "262写入成功\n",
      "263写入成功\n",
      "264写入成功\n",
      "265写入成功\n",
      "266写入成功\n",
      "267写入成功\n",
      "268写入成功\n",
      "269写入成功\n",
      "270写入成功\n",
      "271写入成功\n",
      "272写入成功\n",
      "273写入成功\n",
      "274写入成功\n",
      "275写入成功\n",
      "276写入成功\n",
      "277写入成功\n",
      "278写入成功\n",
      "279写入成功\n",
      "280写入成功\n",
      "281写入成功\n",
      "282写入成功\n",
      "283写入成功\n",
      "284写入成功\n",
      "285写入成功\n",
      "286写入成功\n",
      "287写入成功\n",
      "288写入成功\n",
      "289写入成功\n",
      "290写入成功\n",
      "291写入成功\n",
      "292写入成功\n",
      "293写入成功\n",
      "294写入成功\n",
      "295写入成功\n",
      "296写入成功\n",
      "297写入成功\n",
      "298写入成功\n",
      "299写入成功\n",
      "300写入成功\n",
      "301写入成功\n",
      "302写入成功\n",
      "303写入成功\n",
      "304写入成功\n",
      "305写入成功\n",
      "306写入成功\n",
      "307写入成功\n",
      "308写入成功\n",
      "309写入成功\n",
      "310写入成功\n",
      "311写入成功\n",
      "312写入成功\n",
      "313写入成功\n",
      "314写入成功\n",
      "315写入成功\n",
      "316写入成功\n",
      "317写入成功\n",
      "318写入成功\n",
      "319写入成功\n",
      "320写入成功\n",
      "321写入成功\n",
      "322写入成功\n",
      "323写入成功\n",
      "324写入成功\n",
      "325写入成功\n",
      "326写入成功\n",
      "327写入成功\n",
      "328写入成功\n",
      "329写入成功\n",
      "330写入成功\n",
      "331写入成功\n",
      "332写入成功\n",
      "333写入成功\n",
      "334写入成功\n",
      "335写入成功\n",
      "336写入成功\n",
      "337写入成功\n",
      "338写入成功\n",
      "339写入成功\n",
      "340写入成功\n",
      "341写入成功\n",
      "342写入成功\n",
      "343写入成功\n",
      "344写入成功\n",
      "345写入成功\n",
      "346写入成功\n",
      "347写入成功\n",
      "348写入成功\n",
      "349写入成功\n",
      "350写入成功\n",
      "351写入成功\n",
      "352写入成功\n",
      "353写入成功\n",
      "354写入成功\n",
      "355写入成功\n",
      "356写入成功\n",
      "357写入成功\n",
      "358写入成功\n",
      "359写入成功\n",
      "360写入成功\n",
      "361写入成功\n",
      "362写入成功\n",
      "363写入成功\n",
      "364写入成功\n",
      "365写入成功\n",
      "366写入成功\n",
      "367写入成功\n",
      "368写入成功\n",
      "369写入成功\n",
      "370写入成功\n",
      "371写入成功\n",
      "372写入成功\n",
      "373写入成功\n",
      "374写入成功\n",
      "375写入成功\n",
      "376写入成功\n",
      "377写入成功\n",
      "378写入成功\n",
      "379写入成功\n",
      "380写入成功\n",
      "381写入成功\n",
      "382写入成功\n",
      "383写入成功\n",
      "384写入成功\n",
      "385写入成功\n",
      "386写入成功\n",
      "387写入成功\n",
      "388写入成功\n",
      "389写入成功\n",
      "390写入成功\n",
      "391写入成功\n",
      "392写入成功\n",
      "393写入成功\n",
      "394写入成功\n",
      "395写入成功\n",
      "396写入成功\n",
      "397写入成功\n",
      "398写入成功\n",
      "399写入成功\n",
      "400写入成功\n",
      "401写入成功\n",
      "402写入成功\n",
      "403写入成功\n",
      "404写入成功\n",
      "405写入成功\n",
      "406写入成功\n",
      "407写入成功\n",
      "408写入成功\n",
      "409写入成功\n",
      "410写入成功\n",
      "411写入成功\n",
      "412写入成功\n",
      "413写入成功\n",
      "414写入成功\n",
      "415写入成功\n",
      "416写入成功\n",
      "417写入成功\n",
      "418写入成功\n",
      "419写入成功\n",
      "420写入成功\n",
      "421写入成功\n",
      "422写入成功\n",
      "423写入成功\n",
      "424写入成功\n",
      "425写入成功\n",
      "426写入成功\n",
      "427写入成功\n",
      "428写入成功\n",
      "429写入成功\n",
      "430写入成功\n",
      "431写入成功\n",
      "432写入成功\n",
      "433写入成功\n",
      "434写入成功\n",
      "435写入成功\n",
      "436写入成功\n",
      "437写入成功\n",
      "438写入成功\n",
      "439写入成功\n",
      "440写入成功\n",
      "441写入成功\n",
      "442写入成功\n",
      "443写入成功\n",
      "444写入成功\n",
      "445写入成功\n",
      "446写入成功\n",
      "447写入成功\n",
      "448写入成功\n",
      "449写入成功\n",
      "450写入成功\n",
      "451写入成功\n",
      "452写入成功\n",
      "453写入成功\n",
      "454写入成功\n",
      "455写入成功\n",
      "456写入成功\n",
      "457写入成功\n",
      "458写入成功\n",
      "459写入成功\n",
      "460写入成功\n",
      "461写入成功\n",
      "462写入成功\n",
      "463写入成功\n",
      "464写入成功\n",
      "465写入成功\n",
      "466写入成功\n",
      "467写入成功\n",
      "468写入成功\n",
      "469写入成功\n",
      "470写入成功\n",
      "471写入成功\n",
      "472写入成功\n",
      "473写入成功\n",
      "474写入成功\n",
      "475写入成功\n",
      "476写入成功\n",
      "477写入成功\n",
      "478写入成功\n",
      "479写入成功\n",
      "480写入成功\n",
      "481写入成功\n",
      "482写入成功\n",
      "483写入成功\n",
      "484写入成功\n",
      "485写入成功\n",
      "486写入成功\n",
      "487写入成功\n",
      "488写入成功\n",
      "489写入成功\n",
      "490写入成功\n",
      "491写入成功\n",
      "492写入成功\n",
      "493写入成功\n",
      "494写入成功\n",
      "495写入成功\n",
      "496写入成功\n",
      "497写入成功\n",
      "498写入成功\n",
      "499写入成功\n",
      "500写入成功\n",
      "501写入成功\n",
      "502写入成功\n",
      "503写入成功\n",
      "504写入成功\n",
      "505写入成功\n",
      "506写入成功\n",
      "507写入成功\n",
      "508写入成功\n",
      "509写入成功\n",
      "510写入成功\n",
      "511写入成功\n",
      "512写入成功\n",
      "513写入成功\n",
      "514写入成功\n",
      "515写入成功\n",
      "516写入成功\n",
      "517写入成功\n",
      "518写入成功\n",
      "519写入成功\n",
      "520写入成功\n",
      "521写入成功\n",
      "522写入成功\n",
      "523写入成功\n",
      "524写入成功\n",
      "525写入成功\n",
      "526写入成功\n",
      "527写入成功\n",
      "528写入成功\n",
      "529写入成功\n",
      "530写入成功\n",
      "531写入成功\n",
      "532写入成功\n",
      "533写入成功\n",
      "534写入成功\n",
      "535写入成功\n",
      "536写入成功\n",
      "537写入成功\n",
      "538写入成功\n",
      "539写入成功\n",
      "540写入成功\n",
      "541写入成功\n",
      "542写入成功\n",
      "543写入成功\n",
      "544写入成功\n",
      "545写入成功\n",
      "546写入成功\n",
      "547写入成功\n",
      "548写入成功\n",
      "549写入成功\n",
      "550写入成功\n",
      "551写入成功\n",
      "552写入成功\n",
      "553写入成功\n",
      "554写入成功\n",
      "555写入成功\n",
      "556写入成功\n",
      "557写入成功\n",
      "558写入成功\n",
      "559写入成功\n",
      "560写入成功\n",
      "561写入成功\n",
      "562写入成功\n",
      "563写入成功\n",
      "564写入成功\n",
      "565写入成功\n",
      "566写入成功\n",
      "567写入成功\n",
      "568写入成功\n",
      "569写入成功\n",
      "570写入成功\n",
      "571写入成功\n",
      "572写入成功\n",
      "573写入成功\n",
      "574写入成功\n",
      "575写入成功\n",
      "576写入成功\n",
      "577写入成功\n",
      "578写入成功\n",
      "579写入成功\n",
      "580写入成功\n",
      "581写入成功\n",
      "582写入成功\n",
      "583写入成功\n",
      "584写入成功\n",
      "585写入成功\n",
      "586写入成功\n",
      "587写入成功\n",
      "588写入成功\n",
      "589写入成功\n",
      "590写入成功\n",
      "591写入成功\n",
      "592写入成功\n",
      "593写入成功\n",
      "594写入成功\n",
      "595写入成功\n",
      "596写入成功\n",
      "597写入成功\n",
      "598写入成功\n",
      "599写入成功\n",
      "600写入成功\n",
      "601写入成功\n",
      "602写入成功\n",
      "603写入成功\n",
      "604写入成功\n",
      "605写入成功\n",
      "606写入成功\n",
      "607写入成功\n",
      "608写入成功\n",
      "609写入成功\n",
      "610写入成功\n",
      "611写入成功\n",
      "612写入成功\n",
      "613写入成功\n",
      "614写入成功\n",
      "615写入成功\n",
      "616写入成功\n",
      "617写入成功\n",
      "618写入成功\n",
      "619写入成功\n",
      "620写入成功\n",
      "621写入成功\n",
      "622写入成功\n",
      "623写入成功\n",
      "624写入成功\n",
      "625写入成功\n",
      "626写入成功\n",
      "627写入成功\n",
      "628写入成功\n",
      "629写入成功\n",
      "630写入成功\n",
      "631写入成功\n",
      "632写入成功\n",
      "633写入成功\n",
      "634写入成功\n",
      "635写入成功\n",
      "636写入成功\n",
      "637写入成功\n",
      "638写入成功\n",
      "639写入成功\n",
      "640写入成功\n",
      "641写入成功\n",
      "642写入成功\n",
      "643写入成功\n",
      "644写入成功\n",
      "645写入成功\n",
      "646写入成功\n",
      "647写入成功\n",
      "648写入成功\n",
      "649写入成功\n",
      "650写入成功\n",
      "651写入成功\n",
      "652写入成功\n",
      "653写入成功\n",
      "654写入成功\n",
      "655写入成功\n",
      "656写入成功\n",
      "657写入成功\n",
      "658写入成功\n",
      "659写入成功\n",
      "660写入成功\n",
      "661写入成功\n",
      "662写入成功\n",
      "663写入成功\n",
      "664写入成功\n",
      "665写入成功\n",
      "666写入成功\n",
      "667写入成功\n",
      "668写入成功\n",
      "669写入成功\n",
      "670写入成功\n",
      "671写入成功\n",
      "672写入成功\n",
      "673写入成功\n",
      "674写入成功\n",
      "675写入成功\n",
      "676写入成功\n",
      "677写入成功\n",
      "678写入成功\n",
      "出现错误的位置678\n",
      "出现错误的位置678\n",
      "出现错误的位置678\n",
      "出现错误的位置678\n",
      "出现错误的位置678\n",
      "出现错误的位置678\n",
      "出现错误的位置678\n",
      "出现错误的位置678\n",
      "出现错误的位置678\n",
      "出现错误的位置678\n",
      "出现错误的位置678\n",
      "出现错误的位置678\n",
      "出现错误的位置678\n",
      "出现错误的位置678\n",
      "出现错误的位置678\n",
      "出现错误的位置678\n",
      "出现错误的位置678\n",
      "出现错误的位置678\n",
      "出现错误的位置678\n",
      "出现错误的位置678\n",
      "出现错误的位置678\n",
      "出现错误的位置678\n",
      "出现错误的位置678\n",
      "出现错误的位置678\n",
      "出现错误的位置678\n",
      "出现错误的位置678\n",
      "出现错误的位置678\n",
      "出现错误的位置678\n",
      "出现错误的位置678\n",
      "出现错误的位置678\n",
      "出现错误的位置678\n",
      "出现错误的位置678\n",
      "出现错误的位置678\n",
      "出现错误的位置678\n",
      "出现错误的位置678\n",
      "出现错误的位置678\n",
      "出现错误的位置678\n",
      "出现错误的位置678\n",
      "出现错误的位置678\n",
      "出现错误的位置678\n",
      "出现错误的位置678\n",
      "出现错误的位置678\n",
      "出现错误的位置678\n",
      "出现错误的位置678\n",
      "出现错误的位置678\n",
      "出现错误的位置678\n",
      "出现错误的位置678\n",
      "出现错误的位置678\n",
      "出现错误的位置678\n",
      "出现错误的位置678\n",
      "出现错误的位置678\n",
      "出现错误的位置678\n",
      "出现错误的位置678\n",
      "出现错误的位置678\n",
      "出现错误的位置678\n",
      "出现错误的位置678\n",
      "出现错误的位置678\n",
      "679写入成功\n",
      "680写入成功\n",
      "681写入成功\n",
      "682写入成功\n",
      "683写入成功\n",
      "684写入成功\n",
      "685写入成功\n",
      "686写入成功\n",
      "687写入成功\n",
      "688写入成功\n",
      "689写入成功\n",
      "690写入成功\n",
      "691写入成功\n",
      "692写入成功\n",
      "693写入成功\n",
      "694写入成功\n",
      "695写入成功\n",
      "696写入成功\n",
      "697写入成功\n",
      "698写入成功\n",
      "699写入成功\n",
      "700写入成功\n",
      "701写入成功\n",
      "702写入成功\n",
      "703写入成功\n",
      "704写入成功\n",
      "705写入成功\n",
      "706写入成功\n",
      "707写入成功\n",
      "708写入成功\n",
      "709写入成功\n",
      "710写入成功\n",
      "711写入成功\n",
      "712写入成功\n",
      "713写入成功\n",
      "714写入成功\n",
      "715写入成功\n",
      "716写入成功\n",
      "717写入成功\n",
      "718写入成功\n",
      "719写入成功\n",
      "720写入成功\n",
      "721写入成功\n",
      "722写入成功\n",
      "723写入成功\n",
      "724写入成功\n",
      "725写入成功\n",
      "726写入成功\n",
      "727写入成功\n",
      "728写入成功\n",
      "729写入成功\n",
      "730写入成功\n",
      "731写入成功\n",
      "732写入成功\n",
      "733写入成功\n",
      "734写入成功\n",
      "735写入成功\n",
      "736写入成功\n",
      "737写入成功\n",
      "738写入成功\n",
      "739写入成功\n",
      "740写入成功\n",
      "741写入成功\n",
      "742写入成功\n",
      "743写入成功\n",
      "744写入成功\n",
      "745写入成功\n",
      "746写入成功\n",
      "747写入成功\n",
      "748写入成功\n",
      "749写入成功\n",
      "750写入成功\n",
      "751写入成功\n",
      "752写入成功\n",
      "753写入成功\n",
      "754写入成功\n",
      "755写入成功\n"
     ]
    }
   ],
   "source": [
    "# 写入mongodb\n",
    "index_save=0\n",
    "for temp in typhoon_list:\n",
    "    try:\n",
    "        temp.save()\n",
    "        index_save=index_save+1\n",
    "        print(f'{index_save}写入成功')\n",
    "    except ValidationError:\n",
    "        print(f'出现错误的位置{index_save}')"
   ]
  },
  {
   "cell_type": "code",
   "execution_count": 21,
   "metadata": {},
   "outputs": [
    {
     "data": {
      "text/plain": [
       "'(nameless)'"
      ]
     },
     "execution_count": 21,
     "metadata": {},
     "output_type": "execute_result"
    }
   ],
   "source": [
    "typhoon_list[1].code"
   ]
  },
  {
   "cell_type": "code",
   "execution_count": 24,
   "metadata": {},
   "outputs": [
    {
     "data": {
      "text/plain": [
       "'(nameless)(-)1'"
      ]
     },
     "execution_count": 24,
     "metadata": {},
     "output_type": "execute_result"
    }
   ],
   "source": [
    "typhoon_list[197].code"
   ]
  },
  {
   "cell_type": "code",
   "execution_count": 25,
   "metadata": {},
   "outputs": [
    {
     "data": {
      "text/plain": [
       "'Jean'"
      ]
     },
     "execution_count": 25,
     "metadata": {},
     "output_type": "execute_result"
    }
   ],
   "source": [
    "typhoon_list[678].code"
   ]
  },
  {
   "cell_type": "code",
   "execution_count": null,
   "metadata": {
    "collapsed": true
   },
   "outputs": [],
   "source": []
  }
 ],
 "metadata": {
  "kernelspec": {
   "display_name": "Python 3",
   "language": "python",
   "name": "python3"
  },
  "language_info": {
   "codemirror_mode": {
    "name": "ipython",
    "version": 3
   },
   "file_extension": ".py",
   "mimetype": "text/x-python",
   "name": "python",
   "nbconvert_exporter": "python",
   "pygments_lexer": "ipython3",
   "version": "3.6.3"
  }
 },
 "nbformat": 4,
 "nbformat_minor": 2
}
