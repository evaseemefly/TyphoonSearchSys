{
 "cells": [
  {
   "cell_type": "code",
   "execution_count": 1,
   "metadata": {
    "collapsed": true
   },
   "outputs": [],
   "source": [
    "from mongoengine import *\n",
    "import os\n",
    "import pandas as pd\n",
    "from pandas import Series,DataFrame\n",
    "import datetime"
   ]
  },
  {
   "cell_type": "markdown",
   "metadata": {},
   "source": [
    "## 1 读取文件"
   ]
  },
  {
   "cell_type": "markdown",
   "metadata": {},
   "source": [
    "### 读取方式1：使用pandas"
   ]
  },
  {
   "cell_type": "code",
   "execution_count": 2,
   "metadata": {
    "collapsed": true
   },
   "outputs": [],
   "source": [
    "targetfilename=r\"5622.txt\"\n",
    "# 家中mac\n",
    "# targetpath=r\"/Users/casablanca/03project/typhoonSearchSys/demo_data\"\n",
    "# 单位mac\n",
    "targetpath=r\"/Users/liusihan/Documents/01project/TyphoonSearchSys/demo_data\"\n",
    "fullname=os.path.join(targetpath,targetfilename)"
   ]
  },
  {
   "cell_type": "code",
   "execution_count": 3,
   "metadata": {},
   "outputs": [
    {
     "data": {
      "text/plain": [
       "'/Users/liusihan/Documents/01project/TyphoonSearchSys/demo_data/5622.txt'"
      ]
     },
     "execution_count": 3,
     "metadata": {},
     "output_type": "execute_result"
    }
   ],
   "source": [
    "fullname"
   ]
  },
  {
   "cell_type": "markdown",
   "metadata": {},
   "source": [
    "不使用pandas的read_table"
   ]
  },
  {
   "cell_type": "code",
   "execution_count": 4,
   "metadata": {},
   "outputs": [
    {
     "name": "stdout",
     "output_type": "stream",
     "text": [
      "读取成功\n"
     ]
    }
   ],
   "source": [
    "with open(fullname,'rb') as f:\n",
    "    data=pd.read_table(f,sep='\\n',encoding='utf-8',header=None,infer_datetime_format=False)\n",
    "    print('读取成功')"
   ]
  },
  {
   "cell_type": "code",
   "execution_count": 5,
   "metadata": {},
   "outputs": [
    {
     "data": {
      "text/html": [
       "<div>\n",
       "<style>\n",
       "    .dataframe thead tr:only-child th {\n",
       "        text-align: right;\n",
       "    }\n",
       "\n",
       "    .dataframe thead th {\n",
       "        text-align: left;\n",
       "    }\n",
       "\n",
       "    .dataframe tbody tr th {\n",
       "        vertical-align: top;\n",
       "    }\n",
       "</style>\n",
       "<table border=\"1\" class=\"dataframe\">\n",
       "  <thead>\n",
       "    <tr style=\"text-align: right;\">\n",
       "      <th></th>\n",
       "      <th>0</th>\n",
       "    </tr>\n",
       "  </thead>\n",
       "  <tbody>\n",
       "    <tr>\n",
       "      <th>0</th>\n",
       "      <td>1</td>\n",
       "    </tr>\n",
       "    <tr>\n",
       "      <th>1</th>\n",
       "      <td>S.N.   122      5622      9   4     QI...</td>\n",
       "    </tr>\n",
       "    <tr>\n",
       "      <th>2</th>\n",
       "      <td>0   1   2   3   4   5   6   7   8   9 ...</td>\n",
       "    </tr>\n",
       "    <tr>\n",
       "      <th>3</th>\n",
       "      <td>+                                             ...</td>\n",
       "    </tr>\n",
       "    <tr>\n",
       "      <th>4</th>\n",
       "      <td>9   159 156 135 107  90  93 110 123 145 141 ...</td>\n",
       "    </tr>\n",
       "    <tr>\n",
       "      <th>5</th>\n",
       "      <td>4   121 109  90  71  58  53  59  73  87  96 ...</td>\n",
       "    </tr>\n",
       "    <tr>\n",
       "      <th>6</th>\n",
       "      <td>30    38  47  45  36  32  40  51  50  58  45 ...</td>\n",
       "    </tr>\n",
       "    <tr>\n",
       "      <th>7</th>\n",
       "      <td>9   156 159 142 126 106 100  98  --  --  -- ...</td>\n",
       "    </tr>\n",
       "  </tbody>\n",
       "</table>\n",
       "</div>"
      ],
      "text/plain": [
       "                                                   0\n",
       "0                                                  1\n",
       "1          S.N.   122      5622      9   4     QI...\n",
       "2          0   1   2   3   4   5   6   7   8   9 ...\n",
       "3  +                                             ...\n",
       "4    9   159 156 135 107  90  93 110 123 145 141 ...\n",
       "5    4   121 109  90  71  58  53  59  73  87  96 ...\n",
       "6   30    38  47  45  36  32  40  51  50  58  45 ...\n",
       "7    9   156 159 142 126 106 100  98  --  --  -- ..."
      ]
     },
     "execution_count": 5,
     "metadata": {},
     "output_type": "execute_result"
    }
   ],
   "source": [
    "data.head(8)"
   ]
  },
  {
   "cell_type": "markdown",
   "metadata": {},
   "source": [
    "## 2 按行进行切分"
   ]
  },
  {
   "cell_type": "code",
   "execution_count": 6,
   "metadata": {},
   "outputs": [
    {
     "data": {
      "text/plain": [
       "329"
      ]
     },
     "execution_count": 6,
     "metadata": {},
     "output_type": "execute_result"
    }
   ],
   "source": [
    "len(data)"
   ]
  },
  {
   "cell_type": "code",
   "execution_count": 7,
   "metadata": {
    "collapsed": true
   },
   "outputs": [],
   "source": [
    "mark_list=[]\n",
    "mark_list=[3,\n",
    " 21,\n",
    " 37,\n",
    " 54,\n",
    " 72,\n",
    " 89,\n",
    " 107,\n",
    " 124,\n",
    " 142,\n",
    " 159,\n",
    " 176,\n",
    " 193,\n",
    " 210,\n",
    " 227,\n",
    " 244,\n",
    " 262,\n",
    " 279,\n",
    " 297,\n",
    " 314]"
   ]
  },
  {
   "cell_type": "code",
   "execution_count": 129,
   "metadata": {},
   "outputs": [
    {
     "data": {
      "text/plain": [
       "37"
      ]
     },
     "execution_count": 129,
     "metadata": {},
     "output_type": "execute_result"
    }
   ],
   "source": [
    "mark_list[2]"
   ]
  },
  {
   "cell_type": "code",
   "execution_count": 132,
   "metadata": {},
   "outputs": [
    {
     "data": {
      "text/html": [
       "<div>\n",
       "<style>\n",
       "    .dataframe thead tr:only-child th {\n",
       "        text-align: right;\n",
       "    }\n",
       "\n",
       "    .dataframe thead th {\n",
       "        text-align: left;\n",
       "    }\n",
       "\n",
       "    .dataframe tbody tr th {\n",
       "        vertical-align: top;\n",
       "    }\n",
       "</style>\n",
       "<table border=\"1\" class=\"dataframe\">\n",
       "  <thead>\n",
       "    <tr style=\"text-align: right;\">\n",
       "      <th></th>\n",
       "      <th>0</th>\n",
       "    </tr>\n",
       "  </thead>\n",
       "  <tbody>\n",
       "    <tr>\n",
       "      <th>34</th>\n",
       "      <td>MAX                                 ...</td>\n",
       "    </tr>\n",
       "    <tr>\n",
       "      <th>35</th>\n",
       "      <td>S.N. 37950      5622      9   4     Y...</td>\n",
       "    </tr>\n",
       "    <tr>\n",
       "      <th>36</th>\n",
       "      <td>0   1   2   3   4   5   6   7   8   9 ...</td>\n",
       "    </tr>\n",
       "    <tr>\n",
       "      <th>37</th>\n",
       "      <td>+                                             ...</td>\n",
       "    </tr>\n",
       "    <tr>\n",
       "      <th>38</th>\n",
       "      <td>9   422 407 386 364 336 313 293 282 317 337 ...</td>\n",
       "    </tr>\n",
       "    <tr>\n",
       "      <th>39</th>\n",
       "      <td>4   399 376 351 329 308 289 282 294 315 332 ...</td>\n",
       "    </tr>\n",
       "  </tbody>\n",
       "</table>\n",
       "</div>"
      ],
      "text/plain": [
       "                                                    0\n",
       "34            MAX                                 ...\n",
       "35           S.N. 37950      5622      9   4     Y...\n",
       "36          0   1   2   3   4   5   6   7   8   9 ...\n",
       "37  +                                             ...\n",
       "38    9   422 407 386 364 336 313 293 282 317 337 ...\n",
       "39    4   399 376 351 329 308 289 282 294 315 332 ..."
      ]
     },
     "execution_count": 132,
     "metadata": {},
     "output_type": "execute_result"
    }
   ],
   "source": [
    "data.iloc[37-3:40]"
   ]
  },
  {
   "cell_type": "code",
   "execution_count": 11,
   "metadata": {},
   "outputs": [
    {
     "ename": "SyntaxError",
     "evalue": "invalid syntax (<ipython-input-11-81ea31d0963b>, line 1)",
     "output_type": "error",
     "traceback": [
      "\u001b[0;36m  File \u001b[0;32m\"<ipython-input-11-81ea31d0963b>\"\u001b[0;36m, line \u001b[0;32m1\u001b[0m\n\u001b[0;31m    step_interval=\u001b[0m\n\u001b[0m                  ^\u001b[0m\n\u001b[0;31mSyntaxError\u001b[0m\u001b[0;31m:\u001b[0m invalid syntax\n"
     ]
    }
   ],
   "source": [
    "step_interval="
   ]
  },
  {
   "cell_type": "code",
   "execution_count": 13,
   "metadata": {},
   "outputs": [
    {
     "data": {
      "text/plain": [
       "'1'"
      ]
     },
     "execution_count": 13,
     "metadata": {},
     "output_type": "execute_result"
    }
   ],
   "source": [
    "data.iloc[21-3][0]"
   ]
  },
  {
   "cell_type": "code",
   "execution_count": 14,
   "metadata": {},
   "outputs": [
    {
     "data": {
      "text/plain": [
       "pandas.core.series.Series"
      ]
     },
     "execution_count": 14,
     "metadata": {},
     "output_type": "execute_result"
    }
   ],
   "source": [
    "type(data[:37][0])"
   ]
  },
  {
   "cell_type": "code",
   "execution_count": 15,
   "metadata": {},
   "outputs": [
    {
     "data": {
      "text/plain": [
       "pandas.core.frame.DataFrame"
      ]
     },
     "execution_count": 15,
     "metadata": {},
     "output_type": "execute_result"
    }
   ],
   "source": [
    "type(data[:37])"
   ]
  },
  {
   "cell_type": "markdown",
   "metadata": {},
   "source": [
    "- 注意data[:37]本身是一个dataframe，是一个columns只有一列的df"
   ]
  },
  {
   "cell_type": "code",
   "execution_count": 16,
   "metadata": {},
   "outputs": [
    {
     "data": {
      "text/html": [
       "<div>\n",
       "<style>\n",
       "    .dataframe thead tr:only-child th {\n",
       "        text-align: right;\n",
       "    }\n",
       "\n",
       "    .dataframe thead th {\n",
       "        text-align: left;\n",
       "    }\n",
       "\n",
       "    .dataframe tbody tr th {\n",
       "        vertical-align: top;\n",
       "    }\n",
       "</style>\n",
       "<table border=\"1\" class=\"dataframe\">\n",
       "  <thead>\n",
       "    <tr style=\"text-align: right;\">\n",
       "      <th></th>\n",
       "      <th>0</th>\n",
       "    </tr>\n",
       "  </thead>\n",
       "  <tbody>\n",
       "    <tr>\n",
       "      <th>0</th>\n",
       "      <td>1</td>\n",
       "    </tr>\n",
       "    <tr>\n",
       "      <th>1</th>\n",
       "      <td>S.N.   122      5622      9   4     QI...</td>\n",
       "    </tr>\n",
       "    <tr>\n",
       "      <th>2</th>\n",
       "      <td>0   1   2   3   4   5   6   7   8   9 ...</td>\n",
       "    </tr>\n",
       "    <tr>\n",
       "      <th>3</th>\n",
       "      <td>+                                             ...</td>\n",
       "    </tr>\n",
       "    <tr>\n",
       "      <th>4</th>\n",
       "      <td>9   159 156 135 107  90  93 110 123 145 141 ...</td>\n",
       "    </tr>\n",
       "  </tbody>\n",
       "</table>\n",
       "</div>"
      ],
      "text/plain": [
       "                                                   0\n",
       "0                                                  1\n",
       "1          S.N.   122      5622      9   4     QI...\n",
       "2          0   1   2   3   4   5   6   7   8   9 ...\n",
       "3  +                                             ...\n",
       "4    9   159 156 135 107  90  93 110 123 145 141 ..."
      ]
     },
     "execution_count": 16,
     "metadata": {},
     "output_type": "execute_result"
    }
   ],
   "source": [
    "data[:37].head()"
   ]
  },
  {
   "cell_type": "code",
   "execution_count": 8,
   "metadata": {},
   "outputs": [
    {
     "data": {
      "text/plain": [
       "0                                                     1\n",
       "1             S.N.   122      5622      9   4     QI...\n",
       "2             0   1   2   3   4   5   6   7   8   9 ...\n",
       "3     +                                             ...\n",
       "4       9   159 156 135 107  90  93 110 123 145 141 ...\n",
       "5       4   121 109  90  71  58  53  59  73  87  96 ...\n",
       "6      30    38  47  45  36  32  40  51  50  58  45 ...\n",
       "7       9   156 159 142 126 106 100  98  --  --  -- ...\n",
       "8       5   130 129 115  95  77  67  65  74  89 101 ...\n",
       "9      HM    26  30  27  31  29  33  33  --  --  -- ...\n",
       "10                                                  ...\n",
       "11      9   188 193 187 165 139 122 111 110 115 111 ...\n",
       "12      6   131 137 135 119  99  84  78  81  93 108 ...\n",
       "13     02    57  56  52  46  40  38  33  29  22   3 ...\n",
       "14                                                  ...\n",
       "15      9    --  --  --  --  --  --  --  --  --  -- ...\n",
       "16      7   127 132 140 135 118 100  92  91  98 112 ...\n",
       "17     03    --  --  --  --  --  --  --  --  --  -- ...\n",
       "18                                                    1\n",
       "19            S.N.     0      5622      9   2     LI...\n",
       "20            0   1   2   3   4   5   6   7   8   9 ...\n",
       "21    +                                             ...\n",
       "22      9   379 346 366 254 201 151 109  97 117 173 ...\n",
       "23      2   395 370 329 281 231 183 146 133 150 199 ...\n",
       "24     28   -16 -24  37 -27 -30 -32 -37 -36 -33 -26 ...\n",
       "25      9   403 405 384 342 289 226 172 121 103 117 ...\n",
       "26      3   398 406 387 346 294 238 181 134 110 122 ...\n",
       "27     29     5  -1  -3  -4  -5 -12  -9 -13  -7  -5 ...\n",
       "28      9   373 419 425 429 393 334 264 196 135 107 ...\n",
       "29      4   360 405 421 401 355 298 234 171 118  92 ...\n",
       "30     30    13  14   4  28  38  36  30  25  17  15 ...\n",
       "31      9   352 433 465 460 429 381 322 253 196 145 ...\n",
       "32      5   295 370 422 437 411 359 296 227 162 110 ...\n",
       "33     HM    57  63  43  23  18  22  26  26  34  35 ...\n",
       "34              MAX                                 ...\n",
       "35             S.N. 37950      5622      9   4     Y...\n",
       "36            0   1   2   3   4   5   6   7   8   9 ...\n",
       "37    +                                             ...\n",
       "38      9   422 407 386 364 336 313 293 282 317 337 ...\n",
       "39      4   399 376 351 329 308 289 282 294 315 332 ...\n",
       "40     29    23  31  35  35  28  24  11 -12   2   5 ...\n",
       "41      9   448 456 452 444 438 422 405 386 376 393 ...\n",
       "42      5   404 389 365 343 323 300 280 278 299 328 ...\n",
       "43     30    44  67  87 101 115 122 125 108  77  65 ...\n",
       "44                                  MAX             ...\n",
       "Name: 0, dtype: object"
      ]
     },
     "execution_count": 8,
     "metadata": {},
     "output_type": "execute_result"
    }
   ],
   "source": [
    "data[:45][0]"
   ]
  },
  {
   "cell_type": "code",
   "execution_count": 23,
   "metadata": {},
   "outputs": [
    {
     "data": {
      "text/plain": [
       "35             S.N. 37950      5622      9   4     Y...\n",
       "36            0   1   2   3   4   5   6   7   8   9 ...\n",
       "37    +                                             ...\n",
       "38      9   422 407 386 364 336 313 293 282 317 337 ...\n",
       "39      4   399 376 351 329 308 289 282 294 315 332 ...\n",
       "40     29    23  31  35  35  28  24  11 -12   2   5 ...\n",
       "41      9   448 456 452 444 438 422 405 386 376 393 ...\n",
       "42      5   404 389 365 343 323 300 280 278 299 328 ...\n",
       "43     30    44  67  87 101 115 122 125 108  77  65 ...\n",
       "44                                  MAX             ...\n",
       "45      9   443 445 435 423 404 380 357 336 322 318 ...\n",
       "46      6   395 392 373 350 331 312 288 273 282 312 ...\n",
       "47     HM    48  53  62  73  73  68  69  63  40   6 ...\n",
       "48                                                  ...\n",
       "49      9   351 375 373 343 318 304 291 278 268 262 ...\n",
       "50      7   379 385 375 354 333 317 297 275 270 292 ...\n",
       "51     02   -28 -10  -2 -11 -15 -13  -6   3  -2 -30 ...\n",
       "52             S.N.     0      5622      9   4     Q...\n",
       "53            0   1   2   3   4   5   6   7   8   9 ...\n",
       "54    +                                             ...\n",
       "55      9   143 249 361 444 473 437 370 308 250 182 ...\n",
       "56      4   133 234 340 419 447 420 364 305 243 176 ...\n",
       "57     29    10  15  21  25  26  17   6   3   7   6 ...\n",
       "58      9    89 190 316 426 489 481 441 372 314 256 ...\n",
       "59      5    64 152 265 373 444 450 401 334 272 206 ...\n",
       "60     30    25  38  51  53  45  31  40  38  42  50 ...\n",
       "61      9    63 106 232 369 474 533 517 442 353 262 ...\n",
       "62      6    27  85 188 305 405 455 434 368 298 236 ...\n",
       "63     HM    36  21  44  64  69  78  83  74  55  26 ...\n",
       "64                                  MAX             ...\n",
       "Name: 0, dtype: object"
      ]
     },
     "execution_count": 23,
     "metadata": {},
     "output_type": "execute_result"
    }
   ],
   "source": [
    "data[35:65][0]"
   ]
  },
  {
   "cell_type": "code",
   "execution_count": 21,
   "metadata": {},
   "outputs": [
    {
     "data": {
      "text/plain": [
       "pandas.core.series.Series"
      ]
     },
     "execution_count": 21,
     "metadata": {},
     "output_type": "execute_result"
    }
   ],
   "source": [
    "type(data[54:55][0])"
   ]
  },
  {
   "cell_type": "code",
   "execution_count": 22,
   "metadata": {},
   "outputs": [
    {
     "data": {
      "text/plain": [
       "['+                                                                                                        H        H        L        L']"
      ]
     },
     "execution_count": 22,
     "metadata": {},
     "output_type": "execute_result"
    }
   ],
   "source": [
    "list(data[54:55][0])"
   ]
  },
  {
   "cell_type": "code",
   "execution_count": null,
   "metadata": {
    "collapsed": true
   },
   "outputs": [],
   "source": []
  }
 ],
 "metadata": {
  "kernelspec": {
   "display_name": "Python 3",
   "language": "python",
   "name": "python3"
  },
  "language_info": {
   "codemirror_mode": {
    "name": "ipython",
    "version": 3
   },
   "file_extension": ".py",
   "mimetype": "text/x-python",
   "name": "python",
   "nbconvert_exporter": "python",
   "pygments_lexer": "ipython3",
   "version": "3.6.3"
  }
 },
 "nbformat": 4,
 "nbformat_minor": 2
}
