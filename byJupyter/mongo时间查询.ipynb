{
 "cells": [
  {
   "cell_type": "code",
   "execution_count": 1,
   "metadata": {},
   "outputs": [],
   "source": [
    "from mongoengine import *\n",
    "import os\n",
    "import pandas as pd\n",
    "import numpy as np\n",
    "import re\n",
    "from datetime import datetime"
   ]
  },
  {
   "cell_type": "markdown",
   "metadata": {},
   "source": [
    "使用** mongoengine **  \n",
    "[connect](http://docs.mongoengine.org/guide/connecting.html#guide-connecting)进行数据库连接"
   ]
  },
  {
   "cell_type": "code",
   "execution_count": 2,
   "metadata": {},
   "outputs": [
    {
     "data": {
      "text/plain": [
       "MongoClient(host=['localhost:27017'], document_class=dict, tz_aware=False, connect=True, read_preference=Primary())"
      ]
     },
     "execution_count": 2,
     "metadata": {},
     "output_type": "execute_result"
    }
   ],
   "source": [
    "connect('typhoon')"
   ]
  },
  {
   "cell_type": "code",
   "execution_count": 3,
   "metadata": {},
   "outputs": [],
   "source": [
    "class GeoTyphoonRealData(Document):\n",
    "    '''\n",
    "        支持geojson的存储至mongodb的model\n",
    "    '''\n",
    "    code=StringField(max_length=10)\n",
    "    num=StringField()\n",
    "    date=DateTimeField()\n",
    "    bp=FloatField()\n",
    "    wsm=FloatField()\n",
    "    # 注意此处与django中的类型不同，django的类型为IntegerField，mongoengine为IntField！\n",
    "    level=IntField()\n",
    "    # latlon=models.ForeignKey(Point,on_delete=models.CASCADE)\n",
    "    latlon=PointField()\n",
    "    meta = {'collection': 'geotyphoonrealdata'}\n",
    "    \n",
    "    def __str__(self):\n",
    "        return f'code:{self.code}|num:{self.num}|date:{self.date}|bp:{self.bp}|wsm:{self.wsm}|level:{self.level}|latlon:{self.latlon}'"
   ]
  },
  {
   "cell_type": "code",
   "execution_count": 10,
   "metadata": {},
   "outputs": [],
   "source": [
    "import dateutil"
   ]
  },
  {
   "cell_type": "code",
   "execution_count": 11,
   "metadata": {},
   "outputs": [
    {
     "data": {
      "text/plain": [
       "datetime.datetime(1956, 11, 29, 0, 0, tzinfo=tzutc())"
      ]
     },
     "execution_count": 11,
     "metadata": {},
     "output_type": "execute_result"
    }
   ],
   "source": [
    "date_str='1956-11-29T00:00:00.000Z'\n",
    "targetdate = dateutil.parser.parse(date_str)\n",
    "targetdate"
   ]
  },
  {
   "cell_type": "code",
   "execution_count": 16,
   "metadata": {},
   "outputs": [
    {
     "data": {
      "text/plain": [
       "datetime.datetime(1956, 7, 5, 6, 0)"
      ]
     },
     "execution_count": 16,
     "metadata": {},
     "output_type": "execute_result"
    }
   ],
   "source": [
    "date_str_local='1956-07-05 06:00:00'\n",
    "targetdatelocal = dateutil.parser.parse(date_str_local)\n",
    "targetdatelocal"
   ]
  },
  {
   "cell_type": "code",
   "execution_count": 17,
   "metadata": {},
   "outputs": [
    {
     "data": {
      "text/plain": [
       "[]"
      ]
     },
     "execution_count": 17,
     "metadata": {},
     "output_type": "execute_result"
    }
   ],
   "source": [
    "GeoTyphoonRealData.objects(code='Vera',date=targetdate)"
   ]
  },
  {
   "cell_type": "code",
   "execution_count": 18,
   "metadata": {},
   "outputs": [
    {
     "data": {
      "text/plain": [
       "[<GeoTyphoonRealData: code:Vera|num:9|date:1956-07-05 06:00:00|bp:998.0|wsm:20.0|level:2|latlon:{'type': 'Point', 'coordinates': [125.1, 12.2]}>]"
      ]
     },
     "execution_count": 18,
     "metadata": {},
     "output_type": "execute_result"
    }
   ],
   "source": [
    "GeoTyphoonRealData.objects(code='Vera',date=targetdatelocal)"
   ]
  },
  {
   "cell_type": "code",
   "execution_count": 15,
   "metadata": {},
   "outputs": [
    {
     "data": {
      "text/plain": [
       "[<GeoTyphoonRealData: code:Vera|num:9|date:1956-07-05 06:00:00|bp:998.0|wsm:20.0|level:2|latlon:{'type': 'Point', 'coordinates': [125.1, 12.2]}>, <GeoTyphoonRealData: code:Vera|num:9|date:1956-07-05 12:00:00|bp:998.0|wsm:20.0|level:2|latlon:{'type': 'Point', 'coordinates': [124.1, 12.3]}>, <GeoTyphoonRealData: code:Vera|num:9|date:1956-07-05 18:00:00|bp:998.0|wsm:20.0|level:2|latlon:{'type': 'Point', 'coordinates': [123.1, 12.4]}>, <GeoTyphoonRealData: code:Vera|num:9|date:1956-07-06 00:00:00|bp:998.0|wsm:20.0|level:2|latlon:{'type': 'Point', 'coordinates': [122.0, 12.8]}>, <GeoTyphoonRealData: code:Vera|num:9|date:1956-07-06 06:00:00|bp:996.0|wsm:25.0|level:3|latlon:{'type': 'Point', 'coordinates': [120.8, 13.7]}>, <GeoTyphoonRealData: code:Vera|num:9|date:1956-07-06 12:00:00|bp:996.0|wsm:25.0|level:3|latlon:{'type': 'Point', 'coordinates': [118.7, 14.9]}>, <GeoTyphoonRealData: code:Vera|num:9|date:1956-07-06 18:00:00|bp:992.0|wsm:30.0|level:3|latlon:{'type': 'Point', 'coordinates': [116.9, 15.8]}>, <GeoTyphoonRealData: code:Vera|num:9|date:1956-07-07 00:00:00|bp:988.0|wsm:30.0|level:3|latlon:{'type': 'Point', 'coordinates': [115.5, 16.6]}>, <GeoTyphoonRealData: code:Vera|num:9|date:1956-07-07 06:00:00|bp:980.0|wsm:35.0|level:4|latlon:{'type': 'Point', 'coordinates': [113.8, 17.5]}>, <GeoTyphoonRealData: code:Vera|num:9|date:1956-07-07 12:00:00|bp:975.0|wsm:35.0|level:4|latlon:{'type': 'Point', 'coordinates': [112.4, 18.3]}>, <GeoTyphoonRealData: code:Vera|num:9|date:1956-07-07 18:00:00|bp:975.0|wsm:35.0|level:4|latlon:{'type': 'Point', 'coordinates': [111.0, 19.0]}>, <GeoTyphoonRealData: code:Vera|num:9|date:1956-07-08 00:00:00|bp:982.0|wsm:25.0|level:3|latlon:{'type': 'Point', 'coordinates': [109.1, 19.5]}>, <GeoTyphoonRealData: code:Vera|num:9|date:1956-07-08 06:00:00|bp:990.0|wsm:20.0|level:2|latlon:{'type': 'Point', 'coordinates': [107.5, 20.0]}>, <GeoTyphoonRealData: code:Vera|num:9|date:1956-07-08 12:00:00|bp:995.0|wsm:20.0|level:2|latlon:{'type': 'Point', 'coordinates': [106.4, 20.4]}>, <GeoTyphoonRealData: code:Vera|num:9|date:1956-07-08 18:00:00|bp:997.0|wsm:12.0|level:1|latlon:{'type': 'Point', 'coordinates': [105.0, 21.0]}>, <GeoTyphoonRealData: code:Vera|num:9|date:1956-07-09 00:00:00|bp:1000.0|wsm:0.0|level:0|latlon:{'type': 'Point', 'coordinates': [103.0, 21.5]}>]"
      ]
     },
     "execution_count": 15,
     "metadata": {},
     "output_type": "execute_result"
    }
   ],
   "source": [
    "GeoTyphoonRealData.objects(code='Vera')"
   ]
  },
  {
   "cell_type": "code",
   "execution_count": null,
   "metadata": {},
   "outputs": [],
   "source": []
  }
 ],
 "metadata": {
  "kernelspec": {
   "display_name": "Python 3",
   "language": "python",
   "name": "python3"
  },
  "language_info": {
   "codemirror_mode": {
    "name": "ipython",
    "version": 3
   },
   "file_extension": ".py",
   "mimetype": "text/x-python",
   "name": "python",
   "nbconvert_exporter": "python",
   "pygments_lexer": "ipython3",
   "version": "3.7.1"
  }
 },
 "nbformat": 4,
 "nbformat_minor": 2
}
