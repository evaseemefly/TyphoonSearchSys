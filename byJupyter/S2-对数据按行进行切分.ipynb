{
 "cells": [
  {
   "cell_type": "code",
   "execution_count": 2,
   "metadata": {
    "collapsed": true
   },
   "outputs": [],
   "source": [
    "from mongoengine import *\n",
    "import os\n",
    "import pandas as pd\n",
    "from pandas import Series,DataFrame\n",
    "import datetime"
   ]
  },
  {
   "cell_type": "markdown",
   "metadata": {},
   "source": [
    "## 1 读取文件"
   ]
  },
  {
   "cell_type": "markdown",
   "metadata": {},
   "source": [
    "### 读取方式1：使用pandas"
   ]
  },
  {
   "cell_type": "code",
   "execution_count": 7,
   "metadata": {
    "collapsed": true
   },
   "outputs": [],
   "source": [
    "targetfilename=r\"5622.txt\"\n",
    "# 家中mac\n",
    "# targetpath=r\"/Users/casablanca/03project/typhoonSearchSys/demo_data\"\n",
    "# 单位mac\n",
    "targetpath=r\"/Users/liusihan/Documents/01project/TyphoonSearchSys/demo_data\"\n",
    "fullname=os.path.join(targetpath,targetfilename)"
   ]
  },
  {
   "cell_type": "code",
   "execution_count": 8,
   "metadata": {},
   "outputs": [
    {
     "data": {
      "text/plain": [
       "'/Users/liusihan/Documents/01project/TyphoonSearchSys/demo_data/5622.txt'"
      ]
     },
     "execution_count": 8,
     "metadata": {},
     "output_type": "execute_result"
    }
   ],
   "source": [
    "fullname"
   ]
  },
  {
   "cell_type": "markdown",
   "metadata": {},
   "source": [
    "不使用pandas的read_table"
   ]
  },
  {
   "cell_type": "code",
   "execution_count": 9,
   "metadata": {},
   "outputs": [
    {
     "name": "stdout",
     "output_type": "stream",
     "text": [
      "读取成功\n"
     ]
    }
   ],
   "source": [
    "with open(fullname,'rb') as f:\n",
    "    data=pd.read_table(f,sep='\\n',encoding='utf-8',header=None,infer_datetime_format=False)\n",
    "    print('读取成功')"
   ]
  },
  {
   "cell_type": "code",
   "execution_count": 10,
   "metadata": {},
   "outputs": [
    {
     "data": {
      "text/html": [
       "<div>\n",
       "<style>\n",
       "    .dataframe thead tr:only-child th {\n",
       "        text-align: right;\n",
       "    }\n",
       "\n",
       "    .dataframe thead th {\n",
       "        text-align: left;\n",
       "    }\n",
       "\n",
       "    .dataframe tbody tr th {\n",
       "        vertical-align: top;\n",
       "    }\n",
       "</style>\n",
       "<table border=\"1\" class=\"dataframe\">\n",
       "  <thead>\n",
       "    <tr style=\"text-align: right;\">\n",
       "      <th></th>\n",
       "      <th>0</th>\n",
       "    </tr>\n",
       "  </thead>\n",
       "  <tbody>\n",
       "    <tr>\n",
       "      <th>0</th>\n",
       "      <td>1</td>\n",
       "    </tr>\n",
       "    <tr>\n",
       "      <th>1</th>\n",
       "      <td>S.N.   122      5622      9   4     QI...</td>\n",
       "    </tr>\n",
       "    <tr>\n",
       "      <th>2</th>\n",
       "      <td>0   1   2   3   4   5   6   7   8   9 ...</td>\n",
       "    </tr>\n",
       "    <tr>\n",
       "      <th>3</th>\n",
       "      <td>+                                             ...</td>\n",
       "    </tr>\n",
       "    <tr>\n",
       "      <th>4</th>\n",
       "      <td>9   159 156 135 107  90  93 110 123 145 141 ...</td>\n",
       "    </tr>\n",
       "    <tr>\n",
       "      <th>5</th>\n",
       "      <td>4   121 109  90  71  58  53  59  73  87  96 ...</td>\n",
       "    </tr>\n",
       "    <tr>\n",
       "      <th>6</th>\n",
       "      <td>30    38  47  45  36  32  40  51  50  58  45 ...</td>\n",
       "    </tr>\n",
       "    <tr>\n",
       "      <th>7</th>\n",
       "      <td>9   156 159 142 126 106 100  98  --  --  -- ...</td>\n",
       "    </tr>\n",
       "  </tbody>\n",
       "</table>\n",
       "</div>"
      ],
      "text/plain": [
       "                                                   0\n",
       "0                                                  1\n",
       "1          S.N.   122      5622      9   4     QI...\n",
       "2          0   1   2   3   4   5   6   7   8   9 ...\n",
       "3  +                                             ...\n",
       "4    9   159 156 135 107  90  93 110 123 145 141 ...\n",
       "5    4   121 109  90  71  58  53  59  73  87  96 ...\n",
       "6   30    38  47  45  36  32  40  51  50  58  45 ...\n",
       "7    9   156 159 142 126 106 100  98  --  --  -- ..."
      ]
     },
     "execution_count": 10,
     "metadata": {},
     "output_type": "execute_result"
    }
   ],
   "source": [
    "data.head(8)"
   ]
  },
  {
   "cell_type": "markdown",
   "metadata": {},
   "source": [
    "## 2 按行进行切分"
   ]
  },
  {
   "cell_type": "code",
   "execution_count": 11,
   "metadata": {},
   "outputs": [
    {
     "data": {
      "text/plain": [
       "329"
      ]
     },
     "execution_count": 11,
     "metadata": {},
     "output_type": "execute_result"
    }
   ],
   "source": [
    "len(data)"
   ]
  },
  {
   "cell_type": "code",
   "execution_count": 12,
   "metadata": {
    "collapsed": true
   },
   "outputs": [],
   "source": [
    "mark_list=[]\n",
    "mark_list=[3,\n",
    " 21,\n",
    " 37,\n",
    " 54,\n",
    " 72,\n",
    " 89,\n",
    " 107,\n",
    " 124,\n",
    " 142,\n",
    " 159,\n",
    " 176,\n",
    " 193,\n",
    " 210,\n",
    " 227,\n",
    " 244,\n",
    " 262,\n",
    " 279,\n",
    " 297,\n",
    " 314]"
   ]
  },
  {
   "cell_type": "code",
   "execution_count": 129,
   "metadata": {},
   "outputs": [
    {
     "data": {
      "text/plain": [
       "37"
      ]
     },
     "execution_count": 129,
     "metadata": {},
     "output_type": "execute_result"
    }
   ],
   "source": [
    "mark_list[2]"
   ]
  },
  {
   "cell_type": "code",
   "execution_count": 132,
   "metadata": {},
   "outputs": [
    {
     "data": {
      "text/html": [
       "<div>\n",
       "<style>\n",
       "    .dataframe thead tr:only-child th {\n",
       "        text-align: right;\n",
       "    }\n",
       "\n",
       "    .dataframe thead th {\n",
       "        text-align: left;\n",
       "    }\n",
       "\n",
       "    .dataframe tbody tr th {\n",
       "        vertical-align: top;\n",
       "    }\n",
       "</style>\n",
       "<table border=\"1\" class=\"dataframe\">\n",
       "  <thead>\n",
       "    <tr style=\"text-align: right;\">\n",
       "      <th></th>\n",
       "      <th>0</th>\n",
       "    </tr>\n",
       "  </thead>\n",
       "  <tbody>\n",
       "    <tr>\n",
       "      <th>34</th>\n",
       "      <td>MAX                                 ...</td>\n",
       "    </tr>\n",
       "    <tr>\n",
       "      <th>35</th>\n",
       "      <td>S.N. 37950      5622      9   4     Y...</td>\n",
       "    </tr>\n",
       "    <tr>\n",
       "      <th>36</th>\n",
       "      <td>0   1   2   3   4   5   6   7   8   9 ...</td>\n",
       "    </tr>\n",
       "    <tr>\n",
       "      <th>37</th>\n",
       "      <td>+                                             ...</td>\n",
       "    </tr>\n",
       "    <tr>\n",
       "      <th>38</th>\n",
       "      <td>9   422 407 386 364 336 313 293 282 317 337 ...</td>\n",
       "    </tr>\n",
       "    <tr>\n",
       "      <th>39</th>\n",
       "      <td>4   399 376 351 329 308 289 282 294 315 332 ...</td>\n",
       "    </tr>\n",
       "  </tbody>\n",
       "</table>\n",
       "</div>"
      ],
      "text/plain": [
       "                                                    0\n",
       "34            MAX                                 ...\n",
       "35           S.N. 37950      5622      9   4     Y...\n",
       "36          0   1   2   3   4   5   6   7   8   9 ...\n",
       "37  +                                             ...\n",
       "38    9   422 407 386 364 336 313 293 282 317 337 ...\n",
       "39    4   399 376 351 329 308 289 282 294 315 332 ..."
      ]
     },
     "execution_count": 132,
     "metadata": {},
     "output_type": "execute_result"
    }
   ],
   "source": [
    "data.iloc[37-3:40]"
   ]
  },
  {
   "cell_type": "code",
   "execution_count": 11,
   "metadata": {},
   "outputs": [
    {
     "ename": "SyntaxError",
     "evalue": "invalid syntax (<ipython-input-11-81ea31d0963b>, line 1)",
     "output_type": "error",
     "traceback": [
      "\u001b[0;36m  File \u001b[0;32m\"<ipython-input-11-81ea31d0963b>\"\u001b[0;36m, line \u001b[0;32m1\u001b[0m\n\u001b[0;31m    step_interval=\u001b[0m\n\u001b[0m                  ^\u001b[0m\n\u001b[0;31mSyntaxError\u001b[0m\u001b[0;31m:\u001b[0m invalid syntax\n"
     ]
    }
   ],
   "source": [
    "step_interval="
   ]
  },
  {
   "cell_type": "code",
   "execution_count": 13,
   "metadata": {},
   "outputs": [
    {
     "data": {
      "text/plain": [
       "'1'"
      ]
     },
     "execution_count": 13,
     "metadata": {},
     "output_type": "execute_result"
    }
   ],
   "source": [
    "data.iloc[21-3][0]"
   ]
  },
  {
   "cell_type": "code",
   "execution_count": 14,
   "metadata": {},
   "outputs": [
    {
     "data": {
      "text/plain": [
       "pandas.core.series.Series"
      ]
     },
     "execution_count": 14,
     "metadata": {},
     "output_type": "execute_result"
    }
   ],
   "source": [
    "type(data[:37][0])"
   ]
  },
  {
   "cell_type": "code",
   "execution_count": 15,
   "metadata": {},
   "outputs": [
    {
     "data": {
      "text/plain": [
       "pandas.core.frame.DataFrame"
      ]
     },
     "execution_count": 15,
     "metadata": {},
     "output_type": "execute_result"
    }
   ],
   "source": [
    "type(data[:37])"
   ]
  },
  {
   "cell_type": "markdown",
   "metadata": {},
   "source": [
    "- 注意data[:37]本身是一个dataframe，是一个columns只有一列的df"
   ]
  },
  {
   "cell_type": "code",
   "execution_count": 16,
   "metadata": {},
   "outputs": [
    {
     "data": {
      "text/html": [
       "<div>\n",
       "<style>\n",
       "    .dataframe thead tr:only-child th {\n",
       "        text-align: right;\n",
       "    }\n",
       "\n",
       "    .dataframe thead th {\n",
       "        text-align: left;\n",
       "    }\n",
       "\n",
       "    .dataframe tbody tr th {\n",
       "        vertical-align: top;\n",
       "    }\n",
       "</style>\n",
       "<table border=\"1\" class=\"dataframe\">\n",
       "  <thead>\n",
       "    <tr style=\"text-align: right;\">\n",
       "      <th></th>\n",
       "      <th>0</th>\n",
       "    </tr>\n",
       "  </thead>\n",
       "  <tbody>\n",
       "    <tr>\n",
       "      <th>0</th>\n",
       "      <td>1</td>\n",
       "    </tr>\n",
       "    <tr>\n",
       "      <th>1</th>\n",
       "      <td>S.N.   122      5622      9   4     QI...</td>\n",
       "    </tr>\n",
       "    <tr>\n",
       "      <th>2</th>\n",
       "      <td>0   1   2   3   4   5   6   7   8   9 ...</td>\n",
       "    </tr>\n",
       "    <tr>\n",
       "      <th>3</th>\n",
       "      <td>+                                             ...</td>\n",
       "    </tr>\n",
       "    <tr>\n",
       "      <th>4</th>\n",
       "      <td>9   159 156 135 107  90  93 110 123 145 141 ...</td>\n",
       "    </tr>\n",
       "  </tbody>\n",
       "</table>\n",
       "</div>"
      ],
      "text/plain": [
       "                                                   0\n",
       "0                                                  1\n",
       "1          S.N.   122      5622      9   4     QI...\n",
       "2          0   1   2   3   4   5   6   7   8   9 ...\n",
       "3  +                                             ...\n",
       "4    9   159 156 135 107  90  93 110 123 145 141 ..."
      ]
     },
     "execution_count": 16,
     "metadata": {},
     "output_type": "execute_result"
    }
   ],
   "source": [
    "data[:37].head()"
   ]
  },
  {
   "cell_type": "code",
   "execution_count": 135,
   "metadata": {},
   "outputs": [
    {
     "data": {
      "text/plain": [
       "0                                                     1\n",
       "1             S.N.   122      5622      9   4     QI...\n",
       "2             0   1   2   3   4   5   6   7   8   9 ...\n",
       "3     +                                             ...\n",
       "4       9   159 156 135 107  90  93 110 123 145 141 ...\n",
       "5       4   121 109  90  71  58  53  59  73  87  96 ...\n",
       "6      30    38  47  45  36  32  40  51  50  58  45 ...\n",
       "7       9   156 159 142 126 106 100  98  --  --  -- ...\n",
       "8       5   130 129 115  95  77  67  65  74  89 101 ...\n",
       "9      HM    26  30  27  31  29  33  33  --  --  -- ...\n",
       "10                                                  ...\n",
       "11      9   188 193 187 165 139 122 111 110 115 111 ...\n",
       "12      6   131 137 135 119  99  84  78  81  93 108 ...\n",
       "13     02    57  56  52  46  40  38  33  29  22   3 ...\n",
       "14                                                  ...\n",
       "15      9    --  --  --  --  --  --  --  --  --  -- ...\n",
       "16      7   127 132 140 135 118 100  92  91  98 112 ...\n",
       "17     03    --  --  --  --  --  --  --  --  --  -- ...\n",
       "18                                                    1\n",
       "19            S.N.     0      5622      9   2     LI...\n",
       "20            0   1   2   3   4   5   6   7   8   9 ...\n",
       "21    +                                             ...\n",
       "22      9   379 346 366 254 201 151 109  97 117 173 ...\n",
       "23      2   395 370 329 281 231 183 146 133 150 199 ...\n",
       "24     28   -16 -24  37 -27 -30 -32 -37 -36 -33 -26 ...\n",
       "25      9   403 405 384 342 289 226 172 121 103 117 ...\n",
       "26      3   398 406 387 346 294 238 181 134 110 122 ...\n",
       "27     29     5  -1  -3  -4  -5 -12  -9 -13  -7  -5 ...\n",
       "28      9   373 419 425 429 393 334 264 196 135 107 ...\n",
       "29      4   360 405 421 401 355 298 234 171 118  92 ...\n",
       "30     30    13  14   4  28  38  36  30  25  17  15 ...\n",
       "31      9   352 433 465 460 429 381 322 253 196 145 ...\n",
       "32      5   295 370 422 437 411 359 296 227 162 110 ...\n",
       "33     HM    57  63  43  23  18  22  26  26  34  35 ...\n",
       "34              MAX                                 ...\n",
       "35             S.N. 37950      5622      9   4     Y...\n",
       "36            0   1   2   3   4   5   6   7   8   9 ...\n",
       "37    +                                             ...\n",
       "38      9   422 407 386 364 336 313 293 282 317 337 ...\n",
       "39      4   399 376 351 329 308 289 282 294 315 332 ...\n",
       "40     29    23  31  35  35  28  24  11 -12   2   5 ...\n",
       "41      9   448 456 452 444 438 422 405 386 376 393 ...\n",
       "42      5   404 389 365 343 323 300 280 278 299 328 ...\n",
       "43     30    44  67  87 101 115 122 125 108  77  65 ...\n",
       "44                                  MAX             ...\n",
       "Name: 0, dtype: object"
      ]
     },
     "execution_count": 135,
     "metadata": {},
     "output_type": "execute_result"
    }
   ],
   "source": [
    "data[:45][0]"
   ]
  },
  {
   "cell_type": "code",
   "execution_count": null,
   "metadata": {
    "collapsed": true
   },
   "outputs": [],
   "source": []
  },
  {
   "cell_type": "markdown",
   "metadata": {},
   "source": [
    "找到截取的数据  \n",
    "- 本次标记位到 下次标记位_index-2 为 **一个测站的该台风过程中的观测数据**"
   ]
  },
  {
   "cell_type": "code",
   "execution_count": 18,
   "metadata": {},
   "outputs": [
    {
     "data": {
      "text/plain": [
       "18                                                    1\n",
       "19            S.N.     0      5622      9   2     LI...\n",
       "20            0   1   2   3   4   5   6   7   8   9 ...\n",
       "21    +                                             ...\n",
       "22      9   379 346 366 254 201 151 109  97 117 173 ...\n",
       "23      2   395 370 329 281 231 183 146 133 150 199 ...\n",
       "24     28   -16 -24  37 -27 -30 -32 -37 -36 -33 -26 ...\n",
       "25      9   403 405 384 342 289 226 172 121 103 117 ...\n",
       "26      3   398 406 387 346 294 238 181 134 110 122 ...\n",
       "27     29     5  -1  -3  -4  -5 -12  -9 -13  -7  -5 ...\n",
       "28      9   373 419 425 429 393 334 264 196 135 107 ...\n",
       "29      4   360 405 421 401 355 298 234 171 118  92 ...\n",
       "30     30    13  14   4  28  38  36  30  25  17  15 ...\n",
       "31      9   352 433 465 460 429 381 322 253 196 145 ...\n",
       "32      5   295 370 422 437 411 359 296 227 162 110 ...\n",
       "33     HM    57  63  43  23  18  22  26  26  34  35 ...\n",
       "34              MAX                                 ...\n",
       "Name: 0, dtype: object"
      ]
     },
     "execution_count": 18,
     "metadata": {},
     "output_type": "execute_result"
    }
   ],
   "source": [
    "data[21-3:37-2][0]"
   ]
  },
  {
   "cell_type": "markdown",
   "metadata": {
    "collapsed": true
   },
   "source": [
    "具体切分步骤：  \n",
    "1. 找到当前标记位  \n",
    "2. 计算当前标记位距离下一个标记位-2的长度  \n",
    "3. 一行一行读取  \n",
    "4. 以3为步长读取（注意需要加入一个是否含max的判断），并叠加当前时间"
   ]
  },
  {
   "cell_type": "markdown",
   "metadata": {},
   "source": [
    "### S1 引入的model"
   ]
  },
  {
   "cell_type": "code",
   "execution_count": 19,
   "metadata": {
    "collapsed": true
   },
   "outputs": [],
   "source": [
    "class Extremum(EmbeddedDocument):\n",
    "    '''\n",
    "        极值\n",
    "    '''\n",
    "    occurredTime = DateTimeField()\n",
    "    val = IntField()\n",
    "\n",
    "\n",
    "class TideData(EmbeddedDocument):\n",
    "    '''\n",
    "        测站数据\n",
    "    '''\n",
    "    # 极大值的24小时观测数组\n",
    "    forecast_arr = ListField(IntField())\n",
    "    # 极小值得24小时观测数组\n",
    "    realdata_arr = ListField(IntField())\n",
    "    # 目标日期（年-月-日）\n",
    "    #     targetdate=DateTimeField()\n",
    "    targetdate = DateField()\n",
    "    heigh_heigh_tide = EmbeddedDocumentField(Extremum)\n",
    "    heigh_low_tide = EmbeddedDocumentField(Extremum)\n",
    "    low_heigh_tide = EmbeddedDocumentField(Extremum)\n",
    "    low_low_tide = EmbeddedDocumentField(Extremum)\n",
    "\n",
    "\n",
    "class StationTideData(Document):\n",
    "    '''\n",
    "        测站潮位数据\n",
    "    '''\n",
    "    # 测站代码\n",
    "    code = StringField(max_length=10)\n",
    "    #     起始时间\n",
    "    startdate = DateTimeField()\n",
    "    #     测站名称\n",
    "    stationname = StringField(max_length=10)\n",
    "    #     gesjon数据\n",
    "    point = PointField()\n",
    "    #     平均海平面\n",
    "    lev = IntField()\n",
    "    #     警戒潮位\n",
    "    jw = IntField()\n",
    "    #     潮汐调和常数\n",
    "    harmonicconstant = StringField()\n",
    "    #     潮位数据\n",
    "    realtidedata = ListField(EmbeddedDocumentField(TideData))"
   ]
  },
  {
   "cell_type": "markdown",
   "metadata": {},
   "source": [
    "### S2 引入的之前定义好的方法"
   ]
  },
  {
   "cell_type": "code",
   "execution_count": 54,
   "metadata": {
    "collapsed": true
   },
   "outputs": [],
   "source": [
    "    def convert2StationBaseModel(ser: Series = None, **kwargs):\n",
    "        '''\n",
    "            根据传入的series，根据指定位置进行截取\n",
    "        '''\n",
    "        # 获取年份\n",
    "        year = int(kwargs.get('year'))\n",
    "        print(f'{ser[9][:-2]}.{ser[9][-2:]}|{ser[7][:-2]}.{ser[7][-2:]}')\n",
    "        latlon = [float(f\"{ser[9][:-2]}.{ser[9][-2:]}\"), float(f\"{ser[7][:-2]}.{ser[7][-2:]}\")]\n",
    "        code = ser[2]\n",
    "        # 起始时间\n",
    "        startdate = datetime.date(year, int(ser[3]), int(ser[4]))\n",
    "        stationname = ser[5]\n",
    "        # if stationname == 'SHACHENG':\n",
    "        #     print(kwargs.get('index'))\n",
    "        # 平均海平面\n",
    "        lev = int(ser[11])\n",
    "        # 警戒潮位\n",
    "        jw = int(ser[13])\n",
    "        # 潮汐调和常数\n",
    "        harmonicconstant = ser[14]\n",
    "        point = [latlon[1], latlon[0]]\n",
    "        stationtidedata = StationTideData(code=code,\n",
    "                                          startdate=startdate,\n",
    "                                          stationname=stationname,\n",
    "                                          lev=lev,\n",
    "                                          jw=jw,\n",
    "                                          harmonicconstant=harmonicconstant,\n",
    "                                          point=point)\n",
    "        return stationtidedata"
   ]
  },
  {
   "cell_type": "code",
   "execution_count": 55,
   "metadata": {
    "collapsed": true
   },
   "outputs": [],
   "source": [
    "    # 判断是否为下一个时间时间的起始位置\n",
    "    def checkIsNextDateDataPoint(ser:Series):\n",
    "        '''\n",
    "            判断是否为日期的标志点\n",
    "            传入一行进来\n",
    "        '''\n",
    "\n",
    "        if len(ser.split()) == 1:\n",
    "            if ser.split()[0] in [\"MAX\", \"MIN\"]:\n",
    "                return True\n",
    "        else:\n",
    "            return False"
   ]
  },
  {
   "cell_type": "code",
   "execution_count": 56,
   "metadata": {},
   "outputs": [
    {
     "data": {
      "text/plain": [
       "3"
      ]
     },
     "execution_count": 56,
     "metadata": {},
     "output_type": "execute_result"
    }
   ],
   "source": [
    "mark_list[:2][0]"
   ]
  },
  {
   "cell_type": "code",
   "execution_count": 57,
   "metadata": {},
   "outputs": [
    {
     "name": "stdout",
     "output_type": "stream",
     "text": [
      "index:0|valu:0\n",
      "index:1|valu:1\n",
      "index:2|valu:2\n",
      "index:3|valu:3\n",
      "index:4|valu:4\n",
      "index:5|valu:5\n",
      "index:6|valu:6\n",
      "index:7|valu:7\n",
      "index:8|valu:8\n",
      "index:9|valu:9\n",
      "index:10|valu:10\n",
      "index:11|valu:11\n",
      "index:12|valu:12\n",
      "index:13|valu:13\n",
      "index:14|valu:14\n",
      "index:15|valu:15\n",
      "index:16|valu:16\n",
      "index:17|valu:17\n",
      "index:18|valu:18\n",
      "index:19|valu:19\n"
     ]
    }
   ],
   "source": [
    "checkpoint_arr=mark_list[:2]\n",
    "checkpoint_arr[0+1]-1\n",
    "for index,val in enumerate(range(0,20)):\n",
    "    print(f'index:{index}|valu:{val}')\n",
    "# for index,val in range(0,checkpoint_arr[0+1]-1):\n",
    "#     print(f'index:{index}|valu:{val}')"
   ]
  },
  {
   "cell_type": "code",
   "execution_count": 111,
   "metadata": {
    "collapsed": true
   },
   "outputs": [],
   "source": [
    "    def splitData(**kwargs):\n",
    "        '''\n",
    "            TODO [*] 根据df按行进行拆分\n",
    "        :param df:\n",
    "        :return:\n",
    "        '''\n",
    "\n",
    "        # 1 获取截取的数组\n",
    "        checkpoint_arr=mark_list[:2]\n",
    "        index_columns=0\n",
    "        year=kwargs.get('year')\n",
    "        # 2 循环进行数据截取\n",
    "        for index_checkpoint,val_checkpoint in enumerate(mark_list):\n",
    "            print(f'index:{index_checkpoint}|val:{val_checkpoint}')\n",
    "            # S 基本信息所在的行\n",
    "            baseinfo_ser=Series(data.iloc[val_checkpoint-2][0].split())\n",
    "            print(baseinfo_ser)\n",
    "            # 从当前标志位开始到下一个标志位按行进行检索，并读取实时数据\n",
    "            for index,val in enumerate(range(0,checkpoint_arr[index_checkpoint+1]-val_checkpoint)):\n",
    "                print(f'val_checkpoint-2={val_checkpoint-2}')\n",
    "                \n",
    "                # 2.1 先读取基本信息\n",
    "                base_model=convert2StationBaseModel(baseinfo_ser,year=year)\n",
    "                # 获取当前时间\n",
    "                temp_date=base_model.startdate\n",
    "\n",
    "                temp_ser = data.iloc[val_checkpoint + index][0]\n",
    "\n",
    "                # 判断是否为下一个时间节点标记位\n",
    "                if index_columns<3:\n",
    "                    index_columns = index_columns + 1\n",
    "                    # 当前日期加1\n",
    "                    temp_date=temp_date+datetime.timedelta(days=1)\n",
    "                    print(temp_date)\n",
    "                    if checkIsNextDateDataPoint(temp_ser) == False:\n",
    "                        print(f'找到max或min，此处位置:{index}')\n",
    "    #                     print(self.convert2RealData(data[val_checkpoint]))\n",
    "                    else:\n",
    "                        index_columns = 0\n",
    "        \n",
    "#         for index_checkpoint,val_checkpoint in enumerate(checkpoint_arr):\n",
    "\n",
    "#             # 从当前标志位开始到下一个标志位按行进行检索，并读取实时数据\n",
    "#             for index,val in range(0,checkpoint_arr[index_checkpoint+1]-val_checkpoint):\n",
    "#                 # S 基本信息所在的行\n",
    "#                 baseinfo_ser=data.iloc[index_checkpoint-2][0]\n",
    "#                 # 2.1 先读取基本信息\n",
    "#                 base_model=self.convert2StationBaseModel(baseinfo_ser)\n",
    "#                 # 获取当前时间\n",
    "#                 temp_date=base_model.startdate\n",
    "\n",
    "#                 temp_ser = data.iloc[val_checkpoint + index][0]\n",
    "\n",
    "#                 # 判断是否为下一个时间节点标记位\n",
    "#                 if index_columns<3:\n",
    "#                     index_columns = index_columns + 1\n",
    "#                     # 当前日期加1\n",
    "#                     temp_date=temp_date+datetime.timedelta(days=1)\n",
    "#                     print(temp_date)\n",
    "#                     if self.checkIsNextDateDataPoint(temp_ser) == False:\n",
    "#     #                     print(self.convert2RealData(data[val_checkpoint]))\n",
    "#                     else:\n",
    "#                         index_columns = 0\n",
    "# #                         break\n",
    "            # for index in range(3):\n",
    "\n",
    "\n",
    "        pass"
   ]
  },
  {
   "cell_type": "code",
   "execution_count": 112,
   "metadata": {},
   "outputs": [
    {
     "name": "stdout",
     "output_type": "stream",
     "text": [
      "index:0|val:3\n",
      "0           S.N.\n",
      "1            122\n",
      "2           5622\n",
      "3              9\n",
      "4              4\n",
      "5       QINHUANG\n",
      "6            Lon\n",
      "7          11937\n",
      "8            Lat\n",
      "9           3955\n",
      "10           Lev\n",
      "11            89\n",
      "12            JW\n",
      "13           220\n",
      "14    H.G.Y.1975\n",
      "dtype: object\n",
      "val_checkpoint-2=1\n",
      "39.55|119.37\n",
      "1958-09-05\n",
      "找到max或min，此处位置:0\n",
      "val_checkpoint-2=1\n",
      "39.55|119.37\n",
      "1958-09-05\n",
      "找到max或min，此处位置:1\n",
      "val_checkpoint-2=1\n",
      "39.55|119.37\n",
      "1958-09-05\n",
      "找到max或min，此处位置:2\n",
      "val_checkpoint-2=1\n",
      "39.55|119.37\n",
      "val_checkpoint-2=1\n",
      "39.55|119.37\n",
      "val_checkpoint-2=1\n",
      "39.55|119.37\n",
      "val_checkpoint-2=1\n",
      "39.55|119.37\n",
      "val_checkpoint-2=1\n",
      "39.55|119.37\n",
      "val_checkpoint-2=1\n",
      "39.55|119.37\n",
      "val_checkpoint-2=1\n",
      "39.55|119.37\n",
      "val_checkpoint-2=1\n",
      "39.55|119.37\n",
      "val_checkpoint-2=1\n",
      "39.55|119.37\n",
      "val_checkpoint-2=1\n",
      "39.55|119.37\n",
      "val_checkpoint-2=1\n",
      "39.55|119.37\n",
      "val_checkpoint-2=1\n",
      "39.55|119.37\n",
      "val_checkpoint-2=1\n",
      "39.55|119.37\n",
      "val_checkpoint-2=1\n",
      "39.55|119.37\n",
      "val_checkpoint-2=1\n",
      "39.55|119.37\n",
      "index:1|val:21\n",
      "0           S.N.\n",
      "1              0\n",
      "2           5622\n",
      "3              9\n",
      "4              2\n",
      "5          LIUMI\n",
      "6            Lon\n",
      "7          11744\n",
      "8            Lat\n",
      "9           3859\n",
      "10           Lev\n",
      "11           257\n",
      "12            JW\n",
      "13           470\n",
      "14    H.G.Y.1955\n",
      "dtype: object\n"
     ]
    },
    {
     "ename": "IndexError",
     "evalue": "list index out of range",
     "output_type": "error",
     "traceback": [
      "\u001b[0;31m---------------------------------------------------------------------------\u001b[0m",
      "\u001b[0;31mIndexError\u001b[0m                                Traceback (most recent call last)",
      "\u001b[0;32m<ipython-input-112-f94fb6bfda9a>\u001b[0m in \u001b[0;36m<module>\u001b[0;34m()\u001b[0m\n\u001b[0;32m----> 1\u001b[0;31m \u001b[0msplitData\u001b[0m\u001b[0;34m(\u001b[0m\u001b[0myear\u001b[0m\u001b[0;34m=\u001b[0m\u001b[0;36m1958\u001b[0m\u001b[0;34m)\u001b[0m\u001b[0;34m\u001b[0m\u001b[0m\n\u001b[0m",
      "\u001b[0;32m<ipython-input-111-e91a9cb77bb1>\u001b[0m in \u001b[0;36msplitData\u001b[0;34m(**kwargs)\u001b[0m\n\u001b[1;32m     17\u001b[0m         \u001b[0mprint\u001b[0m\u001b[0;34m(\u001b[0m\u001b[0mbaseinfo_ser\u001b[0m\u001b[0;34m)\u001b[0m\u001b[0;34m\u001b[0m\u001b[0m\n\u001b[1;32m     18\u001b[0m         \u001b[0;31m# 从当前标志位开始到下一个标志位按行进行检索，并读取实时数据\u001b[0m\u001b[0;34m\u001b[0m\u001b[0;34m\u001b[0m\u001b[0m\n\u001b[0;32m---> 19\u001b[0;31m         \u001b[0;32mfor\u001b[0m \u001b[0mindex\u001b[0m\u001b[0;34m,\u001b[0m\u001b[0mval\u001b[0m \u001b[0;32min\u001b[0m \u001b[0menumerate\u001b[0m\u001b[0;34m(\u001b[0m\u001b[0mrange\u001b[0m\u001b[0;34m(\u001b[0m\u001b[0;36m0\u001b[0m\u001b[0;34m,\u001b[0m\u001b[0mcheckpoint_arr\u001b[0m\u001b[0;34m[\u001b[0m\u001b[0mindex_checkpoint\u001b[0m\u001b[0;34m+\u001b[0m\u001b[0;36m1\u001b[0m\u001b[0;34m]\u001b[0m\u001b[0;34m-\u001b[0m\u001b[0mval_checkpoint\u001b[0m\u001b[0;34m)\u001b[0m\u001b[0;34m)\u001b[0m\u001b[0;34m:\u001b[0m\u001b[0;34m\u001b[0m\u001b[0m\n\u001b[0m\u001b[1;32m     20\u001b[0m             \u001b[0mprint\u001b[0m\u001b[0;34m(\u001b[0m\u001b[0;34mf'val_checkpoint-2={val_checkpoint-2}'\u001b[0m\u001b[0;34m)\u001b[0m\u001b[0;34m\u001b[0m\u001b[0m\n\u001b[1;32m     21\u001b[0m \u001b[0;34m\u001b[0m\u001b[0m\n",
      "\u001b[0;31mIndexError\u001b[0m: list index out of range"
     ]
    }
   ],
   "source": [
    "splitData(year=1958)"
   ]
  },
  {
   "cell_type": "code",
   "execution_count": 86,
   "metadata": {},
   "outputs": [
    {
     "data": {
      "text/plain": [
       "0           S.N.\n",
       "1            122\n",
       "2           5622\n",
       "3              9\n",
       "4              4\n",
       "5       QINHUANG\n",
       "6            Lon\n",
       "7          11937\n",
       "8            Lat\n",
       "9           3955\n",
       "10           Lev\n",
       "11            89\n",
       "12            JW\n",
       "13           220\n",
       "14    H.G.Y.1975\n",
       "dtype: object"
      ]
     },
     "execution_count": 86,
     "metadata": {},
     "output_type": "execute_result"
    }
   ],
   "source": [
    "# ser=Series(list(map(int,data.iloc[-2][0].split())))\n",
    "ser=Series(data.iloc[1][0].split())\n",
    "ser"
   ]
  },
  {
   "cell_type": "code",
   "execution_count": 90,
   "metadata": {},
   "outputs": [
    {
     "data": {
      "text/plain": [
       "'39'"
      ]
     },
     "execution_count": 90,
     "metadata": {},
     "output_type": "execute_result"
    }
   ],
   "source": [
    "ser[9][:-2]"
   ]
  },
  {
   "cell_type": "code",
   "execution_count": 89,
   "metadata": {},
   "outputs": [
    {
     "data": {
      "text/plain": [
       "'3955'"
      ]
     },
     "execution_count": 89,
     "metadata": {},
     "output_type": "execute_result"
    }
   ],
   "source": [
    "ser[9]"
   ]
  },
  {
   "cell_type": "code",
   "execution_count": 101,
   "metadata": {},
   "outputs": [
    {
     "data": {
      "text/plain": [
       "0           S.N.\n",
       "1            122\n",
       "2           5622\n",
       "3              9\n",
       "4              4\n",
       "5       QINHUANG\n",
       "6            Lon\n",
       "7          11937\n",
       "8            Lat\n",
       "9           3955\n",
       "10           Lev\n",
       "11            89\n",
       "12            JW\n",
       "13           220\n",
       "14    H.G.Y.1975\n",
       "dtype: object"
      ]
     },
     "execution_count": 101,
     "metadata": {},
     "output_type": "execute_result"
    }
   ],
   "source": [
    "# S 基本信息所在的行\n",
    "baseinfo_ser=Series(data.iloc[1][0].split())\n",
    "baseinfo_ser"
   ]
  },
  {
   "cell_type": "code",
   "execution_count": 102,
   "metadata": {},
   "outputs": [
    {
     "data": {
      "text/plain": [
       "[39.55, 119.37]"
      ]
     },
     "execution_count": 102,
     "metadata": {},
     "output_type": "execute_result"
    }
   ],
   "source": [
    "[float(f\"{baseinfo_ser[9][:-2]}.{baseinfo_ser[9][-2:]}\"), float(f\"{baseinfo_ser[7][:-2]}.{baseinfo_ser[7][-2:]}\")]"
   ]
  },
  {
   "cell_type": "code",
   "execution_count": 98,
   "metadata": {},
   "outputs": [
    {
     "data": {
      "text/plain": [
       "''"
      ]
     },
     "execution_count": 98,
     "metadata": {},
     "output_type": "execute_result"
    }
   ],
   "source": [
    "baseinfo_ser[9][:-2]"
   ]
  },
  {
   "cell_type": "code",
   "execution_count": 103,
   "metadata": {},
   "outputs": [
    {
     "name": "stdout",
     "output_type": "stream",
     "text": [
      "39.55|119.37\n"
     ]
    }
   ],
   "source": [
    "# 2.1 先读取基本信息\n",
    "base_model=convert2StationBaseModel(baseinfo_ser,year=1958)"
   ]
  },
  {
   "cell_type": "code",
   "execution_count": 104,
   "metadata": {},
   "outputs": [
    {
     "data": {
      "text/plain": [
       "<StationTideData: StationTideData object>"
      ]
     },
     "execution_count": 104,
     "metadata": {},
     "output_type": "execute_result"
    }
   ],
   "source": [
    "base_model"
   ]
  },
  {
   "cell_type": "code",
   "execution_count": 115,
   "metadata": {},
   "outputs": [],
   "source": [
    "# data"
   ]
  },
  {
   "cell_type": "code",
   "execution_count": 118,
   "metadata": {},
   "outputs": [
    {
     "name": "stdout",
     "output_type": "stream",
     "text": [
      "1\n",
      "2\n"
     ]
    }
   ],
   "source": [
    "for i in range(1,3):\n",
    "    print(i)"
   ]
  },
  {
   "cell_type": "code",
   "execution_count": 120,
   "metadata": {},
   "outputs": [
    {
     "data": {
      "text/plain": [
       "1"
      ]
     },
     "execution_count": 120,
     "metadata": {},
     "output_type": "execute_result"
    }
   ],
   "source": [
    "len(data.iloc[34])"
   ]
  },
  {
   "cell_type": "code",
   "execution_count": 121,
   "metadata": {},
   "outputs": [
    {
     "data": {
      "text/plain": [
       "'          MAX                                                                                                                                 '"
      ]
     },
     "execution_count": 121,
     "metadata": {},
     "output_type": "execute_result"
    }
   ],
   "source": [
    "data.iloc[34][0]"
   ]
  },
  {
   "cell_type": "code",
   "execution_count": 124,
   "metadata": {},
   "outputs": [],
   "source": [
    "ser_temp=data.iloc[34][0].split()"
   ]
  },
  {
   "cell_type": "code",
   "execution_count": 128,
   "metadata": {},
   "outputs": [
    {
     "data": {
      "text/plain": [
       "'MAX'"
      ]
     },
     "execution_count": 128,
     "metadata": {},
     "output_type": "execute_result"
    }
   ],
   "source": [
    "ser_temp[0]"
   ]
  },
  {
   "cell_type": "code",
   "execution_count": 125,
   "metadata": {},
   "outputs": [
    {
     "data": {
      "text/plain": [
       "1"
      ]
     },
     "execution_count": 125,
     "metadata": {},
     "output_type": "execute_result"
    }
   ],
   "source": [
    "len(ser_temp)"
   ]
  },
  {
   "cell_type": "code",
   "execution_count": 126,
   "metadata": {},
   "outputs": [
    {
     "data": {
      "text/plain": [
       "False"
      ]
     },
     "execution_count": 126,
     "metadata": {},
     "output_type": "execute_result"
    }
   ],
   "source": [
    "ser_temp in [\"MAX\", \"MIN\"]"
   ]
  },
  {
   "cell_type": "code",
   "execution_count": 133,
   "metadata": {
    "collapsed": true
   },
   "outputs": [],
   "source": [
    "# 向数组中加入空值\n",
    "list=[]\n",
    "list.append(None)"
   ]
  },
  {
   "cell_type": "code",
   "execution_count": 134,
   "metadata": {},
   "outputs": [
    {
     "data": {
      "text/plain": [
       "[None]"
      ]
     },
     "execution_count": 134,
     "metadata": {},
     "output_type": "execute_result"
    }
   ],
   "source": [
    "list"
   ]
  },
  {
   "cell_type": "code",
   "execution_count": null,
   "metadata": {
    "collapsed": true
   },
   "outputs": [],
   "source": []
  }
 ],
 "metadata": {
  "kernelspec": {
   "display_name": "Python 3",
   "language": "python",
   "name": "python3"
  },
  "language_info": {
   "codemirror_mode": {
    "name": "ipython",
    "version": 3
   },
   "file_extension": ".py",
   "mimetype": "text/x-python",
   "name": "python",
   "nbconvert_exporter": "python",
   "pygments_lexer": "ipython3",
   "version": "3.6.3"
  }
 },
 "nbformat": 4,
 "nbformat_minor": 2
}
