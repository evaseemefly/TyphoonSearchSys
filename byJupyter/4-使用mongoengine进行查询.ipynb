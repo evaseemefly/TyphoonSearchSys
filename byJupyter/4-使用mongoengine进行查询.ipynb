{
 "cells": [
  {
   "cell_type": "code",
   "execution_count": 1,
   "metadata": {
    "collapsed": true
   },
   "outputs": [],
   "source": [
    "from mongoengine import *\n",
    "import os\n",
    "import pandas as pd\n",
    "import numpy as np\n",
    "import re\n",
    "from datetime import datetime"
   ]
  },
  {
   "cell_type": "code",
   "execution_count": 2,
   "metadata": {},
   "outputs": [
    {
     "data": {
      "text/plain": [
       "MongoClient(host=['localhost:27017'], document_class=dict, tz_aware=False, connect=True, read_preference=Primary())"
      ]
     },
     "execution_count": 2,
     "metadata": {},
     "output_type": "execute_result"
    }
   ],
   "source": [
    "connect('typhoon')"
   ]
  },
  {
   "cell_type": "code",
   "execution_count": 3,
   "metadata": {
    "collapsed": true
   },
   "outputs": [],
   "source": [
    "class Point(EmbeddedDocument):\n",
    "    '''\n",
    "        点（经纬度）\n",
    "    '''\n",
    "    lat=FloatField()\n",
    "    lon=FloatField()\n",
    "#     class my_metaclass:\n",
    "#         allow_inheritance=True\n",
    "\n",
    "class GeoTyphoonRealData(Document):\n",
    "    '''\n",
    "        支持geojson的存储至mongodb的model\n",
    "    '''\n",
    "\n",
    "    code=StringField(max_length=10)\n",
    "    date=DateTimeField()\n",
    "    bp=FloatField()\n",
    "    wsm=FloatField()\n",
    "    # 注意此处与django中的类型不同，django的类型为IntegerField，mongoengine为IntField！\n",
    "    level=IntField()\n",
    "    # latlon=models.ForeignKey(Point,on_delete=models.CASCADE)\n",
    "    latlon=EmbeddedDocumentField('Point')\n",
    "#     meta = {'db_alias': 'Typhoon_geotyphoonrealdata'}\n",
    "#     meta = {'collection': 'geotyphoonrealdata'}\n",
    "    meta = {'collection': 'Typhoon_geotyphoonrealdata'}\n",
    "    # object=MongoDBManager()"
   ]
  },
  {
   "cell_type": "code",
   "execution_count": 5,
   "metadata": {},
   "outputs": [
    {
     "data": {
      "text/plain": [
       "<GeoTyphoonRealData: GeoTyphoonRealData object>"
      ]
     },
     "execution_count": 5,
     "metadata": {},
     "output_type": "execute_result"
    }
   ],
   "source": [
    "GeoTyphoonRealData.objects(code=\"KULAP\").first()"
   ]
  },
  {
   "cell_type": "code",
   "execution_count": 6,
   "metadata": {},
   "outputs": [
    {
     "data": {
      "text/plain": [
       "datetime.datetime(2019, 3, 19, 18, 3, 20, 651745)"
      ]
     },
     "execution_count": 6,
     "metadata": {},
     "output_type": "execute_result"
    }
   ],
   "source": [
    "datetime.now()"
   ]
  },
  {
   "cell_type": "code",
   "execution_count": 7,
   "metadata": {},
   "outputs": [
    {
     "data": {
      "text/plain": [
       "[<GeoTyphoonRealData: GeoTyphoonRealData object>, <GeoTyphoonRealData: GeoTyphoonRealData object>, <GeoTyphoonRealData: GeoTyphoonRealData object>, <GeoTyphoonRealData: GeoTyphoonRealData object>, <GeoTyphoonRealData: GeoTyphoonRealData object>, <GeoTyphoonRealData: GeoTyphoonRealData object>, <GeoTyphoonRealData: GeoTyphoonRealData object>, <GeoTyphoonRealData: GeoTyphoonRealData object>, <GeoTyphoonRealData: GeoTyphoonRealData object>, <GeoTyphoonRealData: GeoTyphoonRealData object>, <GeoTyphoonRealData: GeoTyphoonRealData object>, <GeoTyphoonRealData: GeoTyphoonRealData object>, <GeoTyphoonRealData: GeoTyphoonRealData object>, <GeoTyphoonRealData: GeoTyphoonRealData object>, <GeoTyphoonRealData: GeoTyphoonRealData object>, <GeoTyphoonRealData: GeoTyphoonRealData object>, <GeoTyphoonRealData: GeoTyphoonRealData object>, <GeoTyphoonRealData: GeoTyphoonRealData object>, <GeoTyphoonRealData: GeoTyphoonRealData object>, <GeoTyphoonRealData: GeoTyphoonRealData object>, '...(remaining elements truncated)...']"
      ]
     },
     "execution_count": 7,
     "metadata": {},
     "output_type": "execute_result"
    }
   ],
   "source": [
    "GeoTyphoonRealData.objects(code=\"KULAP\",date__lte=datetime.now())"
   ]
  },
  {
   "cell_type": "code",
   "execution_count": 8,
   "metadata": {
    "collapsed": true
   },
   "outputs": [],
   "source": [
    "year=2017"
   ]
  },
  {
   "cell_type": "code",
   "execution_count": 9,
   "metadata": {},
   "outputs": [
    {
     "data": {
      "text/plain": [
       "datetime.datetime(2017, 12, 31, 23, 59)"
      ]
     },
     "execution_count": 9,
     "metadata": {},
     "output_type": "execute_result"
    }
   ],
   "source": [
    "end=datetime.strptime(f\"{year}/12/31 23:59\",'%Y/%m/%d %H:%M')\n",
    "end"
   ]
  },
  {
   "cell_type": "code",
   "execution_count": 10,
   "metadata": {},
   "outputs": [
    {
     "data": {
      "text/plain": [
       "[<GeoTyphoonRealData: GeoTyphoonRealData object>, <GeoTyphoonRealData: GeoTyphoonRealData object>, <GeoTyphoonRealData: GeoTyphoonRealData object>, <GeoTyphoonRealData: GeoTyphoonRealData object>, <GeoTyphoonRealData: GeoTyphoonRealData object>, <GeoTyphoonRealData: GeoTyphoonRealData object>, <GeoTyphoonRealData: GeoTyphoonRealData object>, <GeoTyphoonRealData: GeoTyphoonRealData object>, <GeoTyphoonRealData: GeoTyphoonRealData object>, <GeoTyphoonRealData: GeoTyphoonRealData object>, <GeoTyphoonRealData: GeoTyphoonRealData object>, <GeoTyphoonRealData: GeoTyphoonRealData object>, <GeoTyphoonRealData: GeoTyphoonRealData object>, <GeoTyphoonRealData: GeoTyphoonRealData object>, <GeoTyphoonRealData: GeoTyphoonRealData object>, <GeoTyphoonRealData: GeoTyphoonRealData object>, <GeoTyphoonRealData: GeoTyphoonRealData object>, <GeoTyphoonRealData: GeoTyphoonRealData object>, <GeoTyphoonRealData: GeoTyphoonRealData object>, <GeoTyphoonRealData: GeoTyphoonRealData object>, '...(remaining elements truncated)...']"
      ]
     },
     "execution_count": 10,
     "metadata": {},
     "output_type": "execute_result"
    }
   ],
   "source": [
    "GeoTyphoonRealData.objects(code=\"KULAP\",date__lte=end)"
   ]
  },
  {
   "cell_type": "code",
   "execution_count": null,
   "metadata": {
    "collapsed": true
   },
   "outputs": [],
   "source": []
  }
 ],
 "metadata": {
  "kernelspec": {
   "display_name": "Python 3",
   "language": "python",
   "name": "python3"
  },
  "language_info": {
   "codemirror_mode": {
    "name": "ipython",
    "version": 3
   },
   "file_extension": ".py",
   "mimetype": "text/x-python",
   "name": "python",
   "nbconvert_exporter": "python",
   "pygments_lexer": "ipython3",
   "version": "3.6.3"
  }
 },
 "nbformat": 4,
 "nbformat_minor": 2
}
