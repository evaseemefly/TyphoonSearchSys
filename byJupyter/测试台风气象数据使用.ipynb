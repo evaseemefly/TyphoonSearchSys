{
 "cells": [
  {
   "cell_type": "code",
   "execution_count": 1,
   "metadata": {},
   "outputs": [],
   "source": [
    "from mongoengine import *\n",
    "import os\n",
    "import pandas as pd\n",
    "import numpy as np\n",
    "import re\n",
    "from datetime import datetime"
   ]
  },
  {
   "cell_type": "markdown",
   "metadata": {},
   "source": [
    "使用** mongoengine **  \n",
    "[connect](http://docs.mongoengine.org/guide/connecting.html#guide-connecting)进行数据库连接"
   ]
  },
  {
   "cell_type": "code",
   "execution_count": 2,
   "metadata": {},
   "outputs": [
    {
     "data": {
      "text/plain": [
       "MongoClient(host=['localhost:27017'], document_class=dict, tz_aware=False, connect=True, read_preference=Primary())"
      ]
     },
     "execution_count": 2,
     "metadata": {},
     "output_type": "execute_result"
    }
   ],
   "source": [
    "connect('typhoon')"
   ]
  },
  {
   "cell_type": "markdown",
   "metadata": {},
   "source": [
    "## 1 读取文件"
   ]
  },
  {
   "cell_type": "markdown",
   "metadata": {},
   "source": [
    "### 读取方式1：使用pandas"
   ]
  },
  {
   "cell_type": "code",
   "execution_count": 3,
   "metadata": {},
   "outputs": [],
   "source": [
    "targetfilename=r\"CH1956BST.txt\"\n",
    "# mac 16\n",
    "# targetpath=r\"/Users/casablanca/03project/typhoonSearchSys/demo_data\"\n",
    "# mac 15\n",
    "# targetpath=r\"/Users/liusihan/Documents/01project/TyphoonSearchSys/demo_data\"\n",
    "# aw15\n",
    "targetpath=r\"D:\\01proj\\typhoon\\TyphoonSearchSys\\demo_data\"\n",
    "fullname=os.path.join(targetpath,targetfilename)"
   ]
  },
  {
   "cell_type": "code",
   "execution_count": 4,
   "metadata": {},
   "outputs": [
    {
     "data": {
      "text/plain": [
       "'D:\\\\01proj\\\\typhoon\\\\TyphoonSearchSys\\\\demo_data\\\\CH1956BST.txt'"
      ]
     },
     "execution_count": 4,
     "metadata": {},
     "output_type": "execute_result"
    }
   ],
   "source": [
    "fullname"
   ]
  },
  {
   "cell_type": "markdown",
   "metadata": {},
   "source": [
    "不使用pandas的read_table"
   ]
  },
  {
   "cell_type": "code",
   "execution_count": 5,
   "metadata": {},
   "outputs": [
    {
     "name": "stdout",
     "output_type": "stream",
     "text": [
      "读取成功\n"
     ]
    }
   ],
   "source": [
    "with open(fullname,'rb') as f:\n",
    "    data=pd.read_table(f,sep='\\s+',encoding='utf-8',header=None,infer_datetime_format=False)\n",
    "    print('读取成功')"
   ]
  },
  {
   "cell_type": "code",
   "execution_count": 8,
   "metadata": {},
   "outputs": [
    {
     "data": {
      "text/plain": [
       "0          66666\n",
       "1              0\n",
       "2             17\n",
       "3              9\n",
       "4              0\n",
       "5              1\n",
       "6              6\n",
       "7           Vera\n",
       "8    2.01107e+07\n",
       "Name: 169, dtype: object"
      ]
     },
     "execution_count": 8,
     "metadata": {},
     "output_type": "execute_result"
    }
   ],
   "source": [
    "data.iloc[169]"
   ]
  },
  {
   "cell_type": "code",
   "execution_count": 9,
   "metadata": {},
   "outputs": [
    {
     "data": {
      "text/plain": [
       "20110729.0"
      ]
     },
     "execution_count": 9,
     "metadata": {},
     "output_type": "execute_result"
    }
   ],
   "source": [
    "data.iloc[169][8]"
   ]
  },
  {
   "cell_type": "code",
   "execution_count": 10,
   "metadata": {},
   "outputs": [
    {
     "data": {
      "text/plain": [
       "0    1956070500\n",
       "1             2\n",
       "2           120\n",
       "3          1260\n",
       "4          1000\n",
       "5            20\n",
       "6           NaN\n",
       "7           NaN\n",
       "8           NaN\n",
       "Name: 170, dtype: object"
      ]
     },
     "execution_count": 10,
     "metadata": {},
     "output_type": "execute_result"
    }
   ],
   "source": [
    "data.iloc[170]"
   ]
  },
  {
   "cell_type": "code",
   "execution_count": 19,
   "metadata": {},
   "outputs": [
    {
     "data": {
      "text/plain": [
       "1956070500"
      ]
     },
     "execution_count": 19,
     "metadata": {},
     "output_type": "execute_result"
    }
   ],
   "source": [
    "data.iloc[170][0]"
   ]
  },
  {
   "cell_type": "code",
   "execution_count": 22,
   "metadata": {},
   "outputs": [
    {
     "data": {
      "text/plain": [
       "'56'"
      ]
     },
     "execution_count": 22,
     "metadata": {},
     "output_type": "execute_result"
    }
   ],
   "source": [
    "str(data.iloc[170][0])[2:4]"
   ]
  },
  {
   "cell_type": "code",
   "execution_count": 25,
   "metadata": {},
   "outputs": [
    {
     "data": {
      "text/plain": [
       "'05'"
      ]
     },
     "execution_count": 25,
     "metadata": {},
     "output_type": "execute_result"
    }
   ],
   "source": [
    "#数字补齐\n",
    "num=5\n",
    "n='%02d'%num\n",
    "n"
   ]
  },
  {
   "cell_type": "markdown",
   "metadata": {
    "collapsed": true
   },
   "source": [
    "----"
   ]
  },
  {
   "cell_type": "code",
   "execution_count": 11,
   "metadata": {},
   "outputs": [],
   "source": [
    "class GeoTyphoonRealData(Document):\n",
    "    '''\n",
    "        支持geojson的存储至mongodb的model\n",
    "    '''\n",
    "    code=StringField(max_length=10)\n",
    "    num=StringField()\n",
    "    date=DateTimeField()\n",
    "    bp=FloatField()\n",
    "    wsm=FloatField()\n",
    "    # 注意此处与django中的类型不同，django的类型为IntegerField，mongoengine为IntField！\n",
    "    level=IntField()\n",
    "    # latlon=models.ForeignKey(Point,on_delete=models.CASCADE)\n",
    "    latlon=PointField()\n",
    "    meta = {'collection': 'geotyphoonrealdata'}\n",
    "    \n",
    "    def __str__(self):\n",
    "        return f'code:{self.code}|num:{self.num}|date:{self.date}|bp:{self.bp}|wsm:{self.wsm}|level:{self.level}|latlon:{self.latlon}'"
   ]
  },
  {
   "cell_type": "code",
   "execution_count": 14,
   "metadata": {},
   "outputs": [],
   "source": [
    "def convert2Typhoon(obj,code,num):\n",
    "    '''\n",
    "        根据传入的series将其转为typhoob Model\n",
    "    '''\n",
    "    lat=float(f\"{str(obj[2])[:-1]}.{str(obj[2])[-1:]}\")\n",
    "    lon=float(f\"{str(obj[3])[:-1]}.{str(obj[3])[-1:]}\")\n",
    "    stamp_str=obj[0]\n",
    "    stamp=datetime.strptime(str(stamp_str),'%Y%m%d%H')\n",
    "    typhoon_temp=GeoTyphoonRealData(code=code,\n",
    "                                date=stamp,\n",
    "                                num=num,\n",
    "                                bp=obj[4],\n",
    "                                wsm=obj[5],\n",
    "                                level=obj[1],\n",
    "                                latlon=[lon,lat])\n",
    "    return typhoon_temp"
   ]
  },
  {
   "cell_type": "code",
   "execution_count": 15,
   "metadata": {},
   "outputs": [
    {
     "data": {
      "text/plain": [
       "<GeoTyphoonRealData: code:Vera|num:17|date:1956-07-05 00:00:00|bp:1000.0|wsm:20.0|level:2|latlon:[126.0, 12.0]>"
      ]
     },
     "execution_count": 15,
     "metadata": {},
     "output_type": "execute_result"
    }
   ],
   "source": [
    "convert2Typhoon(data.iloc[170],'Vera','17')"
   ]
  },
  {
   "cell_type": "code",
   "execution_count": null,
   "metadata": {},
   "outputs": [],
   "source": []
  }
 ],
 "metadata": {
  "kernelspec": {
   "display_name": "Python 3",
   "language": "python",
   "name": "python3"
  },
  "language_info": {
   "codemirror_mode": {
    "name": "ipython",
    "version": 3
   },
   "file_extension": ".py",
   "mimetype": "text/x-python",
   "name": "python",
   "nbconvert_exporter": "python",
   "pygments_lexer": "ipython3",
   "version": "3.7.1"
  }
 },
 "nbformat": 4,
 "nbformat_minor": 2
}
