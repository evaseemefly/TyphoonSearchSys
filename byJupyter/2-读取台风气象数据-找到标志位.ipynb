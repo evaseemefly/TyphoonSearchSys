{
 "cells": [
  {
   "cell_type": "code",
   "execution_count": 1,
   "metadata": {
    "collapsed": true
   },
   "outputs": [],
   "source": [
    "from mongoengine import *\n",
    "import os\n",
    "import pandas as pd\n",
    "import numpy as np\n",
    "import re"
   ]
  },
  {
   "cell_type": "markdown",
   "metadata": {},
   "source": [
    "使用** mongoengine **  \n",
    "[connect](http://docs.mongoengine.org/guide/connecting.html#guide-connecting)进行数据库连接"
   ]
  },
  {
   "cell_type": "code",
   "execution_count": 2,
   "metadata": {},
   "outputs": [
    {
     "data": {
      "text/plain": [
       "MongoClient(host=['localhost:27017'], document_class=dict, tz_aware=False, connect=True, read_preference=Primary())"
      ]
     },
     "execution_count": 2,
     "metadata": {},
     "output_type": "execute_result"
    }
   ],
   "source": [
    "connect('typhoon')"
   ]
  },
  {
   "cell_type": "markdown",
   "metadata": {},
   "source": [
    "## 1 读取文件"
   ]
  },
  {
   "cell_type": "markdown",
   "metadata": {},
   "source": [
    "### 读取方式1：使用pandas"
   ]
  },
  {
   "cell_type": "code",
   "execution_count": 3,
   "metadata": {
    "collapsed": true
   },
   "outputs": [],
   "source": [
    "targetfilename=r\"CH2017BST.txt\"\n",
    "targetpath=r\"/Users/casablanca/03project/typhoonSearchSys/demo_data\"\n",
    "fullname=os.path.join(targetpath,targetfilename)"
   ]
  },
  {
   "cell_type": "code",
   "execution_count": 4,
   "metadata": {},
   "outputs": [
    {
     "data": {
      "text/plain": [
       "'/Users/casablanca/03project/typhoonSearchSys/demo_data/CH2017BST.txt'"
      ]
     },
     "execution_count": 4,
     "metadata": {},
     "output_type": "execute_result"
    }
   ],
   "source": [
    "fullname"
   ]
  },
  {
   "cell_type": "markdown",
   "metadata": {},
   "source": [
    "不使用pandas的read_table"
   ]
  },
  {
   "cell_type": "code",
   "execution_count": 5,
   "metadata": {},
   "outputs": [
    {
     "name": "stdout",
     "output_type": "stream",
     "text": [
      "读取成功\n"
     ]
    }
   ],
   "source": [
    "with open(fullname,'rb') as f:\n",
    "    data=pd.read_table(f,sep='\\s+',encoding='utf-8',header=None,infer_datetime_format=False)\n",
    "    print('读取成功')"
   ]
  },
  {
   "cell_type": "code",
   "execution_count": 6,
   "metadata": {},
   "outputs": [
    {
     "data": {
      "text/html": [
       "<div>\n",
       "<style>\n",
       "    .dataframe thead tr:only-child th {\n",
       "        text-align: right;\n",
       "    }\n",
       "\n",
       "    .dataframe thead th {\n",
       "        text-align: left;\n",
       "    }\n",
       "\n",
       "    .dataframe tbody tr th {\n",
       "        vertical-align: top;\n",
       "    }\n",
       "</style>\n",
       "<table border=\"1\" class=\"dataframe\">\n",
       "  <thead>\n",
       "    <tr style=\"text-align: right;\">\n",
       "      <th></th>\n",
       "      <th>0</th>\n",
       "      <th>1</th>\n",
       "      <th>2</th>\n",
       "      <th>3</th>\n",
       "      <th>4</th>\n",
       "      <th>5</th>\n",
       "      <th>6</th>\n",
       "      <th>7</th>\n",
       "      <th>8</th>\n",
       "    </tr>\n",
       "  </thead>\n",
       "  <tbody>\n",
       "    <tr>\n",
       "      <th>0</th>\n",
       "      <td>66666</td>\n",
       "      <td>0</td>\n",
       "      <td>25</td>\n",
       "      <td>0</td>\n",
       "      <td>1</td>\n",
       "      <td>0</td>\n",
       "      <td>6.0</td>\n",
       "      <td>(nameless)</td>\n",
       "      <td>20180501.0</td>\n",
       "    </tr>\n",
       "    <tr>\n",
       "      <th>1</th>\n",
       "      <td>2017041406</td>\n",
       "      <td>0</td>\n",
       "      <td>109</td>\n",
       "      <td>1302</td>\n",
       "      <td>1010</td>\n",
       "      <td>10</td>\n",
       "      <td>NaN</td>\n",
       "      <td>NaN</td>\n",
       "      <td>NaN</td>\n",
       "    </tr>\n",
       "    <tr>\n",
       "      <th>2</th>\n",
       "      <td>2017041412</td>\n",
       "      <td>0</td>\n",
       "      <td>107</td>\n",
       "      <td>1290</td>\n",
       "      <td>1010</td>\n",
       "      <td>10</td>\n",
       "      <td>NaN</td>\n",
       "      <td>NaN</td>\n",
       "      <td>NaN</td>\n",
       "    </tr>\n",
       "  </tbody>\n",
       "</table>\n",
       "</div>"
      ],
      "text/plain": [
       "            0  1    2     3     4   5    6           7           8\n",
       "0       66666  0   25     0     1   0  6.0  (nameless)  20180501.0\n",
       "1  2017041406  0  109  1302  1010  10  NaN         NaN         NaN\n",
       "2  2017041412  0  107  1290  1010  10  NaN         NaN         NaN"
      ]
     },
     "execution_count": 6,
     "metadata": {},
     "output_type": "execute_result"
    }
   ],
   "source": [
    "data.head(3)"
   ]
  },
  {
   "cell_type": "code",
   "execution_count": 7,
   "metadata": {},
   "outputs": [
    {
     "data": {
      "text/plain": [
       "857"
      ]
     },
     "execution_count": 7,
     "metadata": {},
     "output_type": "execute_result"
    }
   ],
   "source": [
    "len(data)"
   ]
  },
  {
   "cell_type": "code",
   "execution_count": 8,
   "metadata": {},
   "outputs": [
    {
     "data": {
      "text/plain": [
       "0          66666\n",
       "1              0\n",
       "2             25\n",
       "3              0\n",
       "4              1\n",
       "5              0\n",
       "6              6\n",
       "7     (nameless)\n",
       "8    2.01805e+07\n",
       "Name: 0, dtype: object"
      ]
     },
     "execution_count": 8,
     "metadata": {},
     "output_type": "execute_result"
    }
   ],
   "source": [
    "data.iloc[0]"
   ]
  },
  {
   "cell_type": "markdown",
   "metadata": {},
   "source": [
    "--------"
   ]
  },
  {
   "cell_type": "markdown",
   "metadata": {},
   "source": [
    "## 2 判断标志位的方式（必须同时满足），并获取标志位所在位置的数组（mark_indexs）"
   ]
  },
  {
   "cell_type": "markdown",
   "metadata": {},
   "source": [
    "1-第一位是否为66666"
   ]
  },
  {
   "cell_type": "code",
   "execution_count": 9,
   "metadata": {},
   "outputs": [
    {
     "data": {
      "text/plain": [
       "True"
      ]
     },
     "execution_count": 9,
     "metadata": {},
     "output_type": "execute_result"
    }
   ],
   "source": [
    "data.iloc[0][0]==66666"
   ]
  },
  {
   "cell_type": "markdown",
   "metadata": {},
   "source": [
    "2- 第7位是否不为Nan"
   ]
  },
  {
   "cell_type": "code",
   "execution_count": 10,
   "metadata": {},
   "outputs": [
    {
     "data": {
      "text/plain": [
       "True"
      ]
     },
     "execution_count": 10,
     "metadata": {},
     "output_type": "execute_result"
    }
   ],
   "source": [
    "data.iloc[0][7]!=np.nan"
   ]
  },
  {
   "cell_type": "code",
   "execution_count": 11,
   "metadata": {},
   "outputs": [
    {
     "data": {
      "text/plain": [
       "True"
      ]
     },
     "execution_count": 11,
     "metadata": {},
     "output_type": "execute_result"
    }
   ],
   "source": [
    "data.iloc[0][0]==66666 and data.iloc[0][7]!=np.nan"
   ]
  },
  {
   "cell_type": "markdown",
   "metadata": {},
   "source": [
    "### 写成方法："
   ]
  },
  {
   "cell_type": "code",
   "execution_count": 12,
   "metadata": {
    "collapsed": true
   },
   "outputs": [],
   "source": [
    "def checkMark(index):\n",
    "    '''\n",
    "        判断是否为标志位\n",
    "    '''\n",
    "    return data.iloc[index][0]==66666 and data.iloc[index][7]!=np.nan"
   ]
  },
  {
   "cell_type": "markdown",
   "metadata": {},
   "source": [
    "找到标志位所在的位置"
   ]
  },
  {
   "cell_type": "code",
   "execution_count": 13,
   "metadata": {
    "collapsed": true
   },
   "outputs": [],
   "source": [
    "mark_indexs=[]\n",
    "for i in range(len(data)):\n",
    "#     print(i)\n",
    "    if checkMark(i):\n",
    "        mark_indexs.append(i)"
   ]
  },
  {
   "cell_type": "code",
   "execution_count": 31,
   "metadata": {},
   "outputs": [],
   "source": [
    "# mark_indexs"
   ]
  },
  {
   "cell_type": "code",
   "execution_count": 14,
   "metadata": {},
   "outputs": [
    {
     "data": {
      "text/plain": [
       "[0, 26, 54, 76, 98]"
      ]
     },
     "execution_count": 14,
     "metadata": {},
     "output_type": "execute_result"
    }
   ],
   "source": [
    "mark_indexs[:5]"
   ]
  },
  {
   "cell_type": "markdown",
   "metadata": {},
   "source": [
    "--------"
   ]
  },
  {
   "cell_type": "markdown",
   "metadata": {},
   "source": [
    "## 3 获取观测值并写入mongoDB（暂时先写在list中）"
   ]
  },
  {
   "cell_type": "code",
   "execution_count": 15,
   "metadata": {},
   "outputs": [
    {
     "data": {
      "text/plain": [
       "[0, 26, 54]"
      ]
     },
     "execution_count": 15,
     "metadata": {},
     "output_type": "execute_result"
    }
   ],
   "source": [
    "mark_indexs[:3]"
   ]
  },
  {
   "cell_type": "code",
   "execution_count": 16,
   "metadata": {},
   "outputs": [
    {
     "data": {
      "text/plain": [
       "[26, 54]"
      ]
     },
     "execution_count": 16,
     "metadata": {},
     "output_type": "execute_result"
    }
   ],
   "source": [
    "mark_indexs[1:3]"
   ]
  },
  {
   "cell_type": "code",
   "execution_count": 32,
   "metadata": {
    "collapsed": true
   },
   "outputs": [],
   "source": [
    "# 保存起止数组的数组\n",
    "list_startend=[]\n",
    "index=0\n",
    "for val in mark_indexs:\n",
    "#     list_startend.append(mark_indexs[index:2])\n",
    "#     print(mark_indexs[index:index+2])\n",
    "    list_startend.append(mark_indexs[index:index+2])\n",
    "    index=index+1\n",
    "#     print(index)"
   ]
  },
  {
   "cell_type": "code",
   "execution_count": 36,
   "metadata": {},
   "outputs": [
    {
     "data": {
      "text/plain": [
       "[[789, 830], [830]]"
      ]
     },
     "execution_count": 36,
     "metadata": {},
     "output_type": "execute_result"
    }
   ],
   "source": [
    "list_startend[-2:]"
   ]
  },
  {
   "cell_type": "markdown",
   "metadata": {},
   "source": [
    "[[789, 830], [830]]  \n",
    "注意最后的数组是长度为1的数组，因为最后一次出现标志位后出现的都是观测数据，便结束了"
   ]
  },
  {
   "cell_type": "code",
   "execution_count": 18,
   "metadata": {},
   "outputs": [
    {
     "data": {
      "text/plain": [
       "[[0, 26], [26, 54], [54, 76]]"
      ]
     },
     "execution_count": 18,
     "metadata": {},
     "output_type": "execute_result"
    }
   ],
   "source": [
    "list_startend[0:3]"
   ]
  },
  {
   "cell_type": "code",
   "execution_count": 19,
   "metadata": {
    "collapsed": true
   },
   "outputs": [],
   "source": [
    "list_realdata=[]"
   ]
  },
  {
   "cell_type": "markdown",
   "metadata": {},
   "source": [
    "** 获取第1行-25行，0-6列的数据 **"
   ]
  },
  {
   "cell_type": "code",
   "execution_count": 20,
   "metadata": {},
   "outputs": [
    {
     "data": {
      "text/html": [
       "<div>\n",
       "<style>\n",
       "    .dataframe thead tr:only-child th {\n",
       "        text-align: right;\n",
       "    }\n",
       "\n",
       "    .dataframe thead th {\n",
       "        text-align: left;\n",
       "    }\n",
       "\n",
       "    .dataframe tbody tr th {\n",
       "        vertical-align: top;\n",
       "    }\n",
       "</style>\n",
       "<table border=\"1\" class=\"dataframe\">\n",
       "  <thead>\n",
       "    <tr style=\"text-align: right;\">\n",
       "      <th></th>\n",
       "      <th>0</th>\n",
       "      <th>1</th>\n",
       "      <th>2</th>\n",
       "      <th>3</th>\n",
       "      <th>4</th>\n",
       "      <th>5</th>\n",
       "    </tr>\n",
       "  </thead>\n",
       "  <tbody>\n",
       "    <tr>\n",
       "      <th>1</th>\n",
       "      <td>2017041406</td>\n",
       "      <td>0</td>\n",
       "      <td>109</td>\n",
       "      <td>1302</td>\n",
       "      <td>1010</td>\n",
       "      <td>10</td>\n",
       "    </tr>\n",
       "    <tr>\n",
       "      <th>2</th>\n",
       "      <td>2017041412</td>\n",
       "      <td>0</td>\n",
       "      <td>107</td>\n",
       "      <td>1290</td>\n",
       "      <td>1010</td>\n",
       "      <td>10</td>\n",
       "    </tr>\n",
       "    <tr>\n",
       "      <th>3</th>\n",
       "      <td>2017041418</td>\n",
       "      <td>0</td>\n",
       "      <td>107</td>\n",
       "      <td>1280</td>\n",
       "      <td>1010</td>\n",
       "      <td>10</td>\n",
       "    </tr>\n",
       "    <tr>\n",
       "      <th>4</th>\n",
       "      <td>2017041500</td>\n",
       "      <td>1</td>\n",
       "      <td>109</td>\n",
       "      <td>1272</td>\n",
       "      <td>1008</td>\n",
       "      <td>13</td>\n",
       "    </tr>\n",
       "    <tr>\n",
       "      <th>5</th>\n",
       "      <td>2017041506</td>\n",
       "      <td>1</td>\n",
       "      <td>111</td>\n",
       "      <td>1263</td>\n",
       "      <td>1008</td>\n",
       "      <td>13</td>\n",
       "    </tr>\n",
       "  </tbody>\n",
       "</table>\n",
       "</div>"
      ],
      "text/plain": [
       "            0  1    2     3     4   5\n",
       "1  2017041406  0  109  1302  1010  10\n",
       "2  2017041412  0  107  1290  1010  10\n",
       "3  2017041418  0  107  1280  1010  10\n",
       "4  2017041500  1  109  1272  1008  13\n",
       "5  2017041506  1  111  1263  1008  13"
      ]
     },
     "execution_count": 20,
     "metadata": {},
     "output_type": "execute_result"
    }
   ],
   "source": [
    "data.iloc[1:25,0:6].head()"
   ]
  },
  {
   "cell_type": "code",
   "execution_count": 39,
   "metadata": {},
   "outputs": [
    {
     "data": {
      "text/plain": [
       "0    2017041412\n",
       "1             0\n",
       "2           107\n",
       "3          1290\n",
       "4          1010\n",
       "5            10\n",
       "Name: 2, dtype: int64"
      ]
     },
     "execution_count": 39,
     "metadata": {},
     "output_type": "execute_result"
    }
   ],
   "source": [
    "data.iloc[1:25,0:6].iloc[1]"
   ]
  },
  {
   "cell_type": "code",
   "execution_count": null,
   "metadata": {
    "collapsed": true
   },
   "outputs": [],
   "source": []
  },
  {
   "cell_type": "code",
   "execution_count": 21,
   "metadata": {
    "collapsed": true
   },
   "outputs": [],
   "source": [
    "list_realdata.append(data.iloc[1:25,0:6])"
   ]
  },
  {
   "cell_type": "code",
   "execution_count": 22,
   "metadata": {
    "collapsed": true
   },
   "outputs": [],
   "source": [
    "# list_realdata"
   ]
  },
  {
   "cell_type": "markdown",
   "metadata": {},
   "source": [
    "----"
   ]
  },
  {
   "cell_type": "markdown",
   "metadata": {},
   "source": [
    "## 4 使用mongoEngine"
   ]
  },
  {
   "cell_type": "code",
   "execution_count": 23,
   "metadata": {
    "collapsed": true
   },
   "outputs": [],
   "source": [
    "from mongoengine import *"
   ]
  },
  {
   "cell_type": "code",
   "execution_count": 24,
   "metadata": {},
   "outputs": [
    {
     "data": {
      "text/plain": [
       "MongoClient(host=['localhost:27017'], document_class=dict, tz_aware=False, connect=True, read_preference=Primary())"
      ]
     },
     "execution_count": 24,
     "metadata": {},
     "output_type": "execute_result"
    }
   ],
   "source": [
    "connect('typhoon')"
   ]
  },
  {
   "cell_type": "code",
   "execution_count": 25,
   "metadata": {},
   "outputs": [
    {
     "ename": "SyntaxError",
     "evalue": "invalid syntax (<ipython-input-25-b6475c2f6feb>, line 1)",
     "output_type": "error",
     "traceback": [
      "\u001b[0;36m  File \u001b[0;32m\"<ipython-input-25-b6475c2f6feb>\"\u001b[0;36m, line \u001b[0;32m1\u001b[0m\n\u001b[0;31m    class typh\u001b[0m\n\u001b[0m              ^\u001b[0m\n\u001b[0;31mSyntaxError\u001b[0m\u001b[0;31m:\u001b[0m invalid syntax\n"
     ]
    }
   ],
   "source": [
    "# class typh"
   ]
  },
  {
   "cell_type": "markdown",
   "metadata": {},
   "source": [
    "定义 mongodb中的存储对象（ORM）"
   ]
  },
  {
   "cell_type": "code",
   "execution_count": 26,
   "metadata": {
    "collapsed": true
   },
   "outputs": [],
   "source": [
    "class Point(EmbeddedDocument):\n",
    "    '''\n",
    "        点（经纬度）\n",
    "    '''\n",
    "    lat=FloatField()\n",
    "    lon=FloatField()\n",
    "#     class my_metaclass:\n",
    "#         allow_inheritance=True\n",
    "\n",
    "class GeoTyphoonRealData(Document):\n",
    "    '''\n",
    "        支持geojson的存储至mongodb的model\n",
    "    '''\n",
    "\n",
    "    code=StringField(max_length=10)\n",
    "    date=DateTimeField()\n",
    "    bp=FloatField()\n",
    "    wsm=FloatField()\n",
    "    # latlon=models.ForeignKey(Point,on_delete=models.CASCADE)\n",
    "    latlon=EmbeddedDocumentField('Point')\n",
    "#     meta = {'db_alias': 'Typhoon_geotyphoonrealdata'}\n",
    "#     meta = {'collection': 'geotyphoonrealdata'}\n",
    "    meta = {'collection': 'Typhoon_geotyphoonrealdata'}\n",
    "    # object=MongoDBManager()"
   ]
  },
  {
   "cell_type": "code",
   "execution_count": 27,
   "metadata": {
    "collapsed": true
   },
   "outputs": [],
   "source": [
    "import datetime"
   ]
  },
  {
   "cell_type": "code",
   "execution_count": 28,
   "metadata": {
    "collapsed": true
   },
   "outputs": [],
   "source": [
    "typhoon_temp=GeoTyphoonRealData(code=\"\",\n",
    "                                date=datetime.datetime.now(),\n",
    "                                bp=1010.9,\n",
    "                                wsm=5.4,\n",
    "                                latlon=Point(lat=18.2,lon=97.9))"
   ]
  },
  {
   "cell_type": "code",
   "execution_count": 29,
   "metadata": {},
   "outputs": [
    {
     "data": {
      "text/plain": [
       "<GeoTyphoonRealData: GeoTyphoonRealData object>"
      ]
     },
     "execution_count": 29,
     "metadata": {},
     "output_type": "execute_result"
    }
   ],
   "source": [
    "typhoon_temp.save()"
   ]
  },
  {
   "cell_type": "markdown",
   "metadata": {},
   "source": [
    "** 提示错误如下 **:  \n",
    "NotUniqueError: Tried to save duplicate unique keys (E11000 duplicate key error collection: typhoon.Typhoon_geotyphoonrealdata index: __primary_key__ dup key: { : null })  \n",
    "是mongodb中的对应document中可能设置了__primary_key__，我的解决办法是 ** 删除掉 ** "
   ]
  },
  {
   "cell_type": "markdown",
   "metadata": {
    "collapsed": true
   },
   "source": [
    "### S1 根据标志位遍历df"
   ]
  },
  {
   "cell_type": "markdown",
   "metadata": {},
   "source": [
    "循环遍历list_startend"
   ]
  },
  {
   "cell_type": "code",
   "execution_count": 49,
   "metadata": {},
   "outputs": [
    {
     "name": "stdout",
     "output_type": "stream",
     "text": [
      "起始0——终止25\n",
      "起始26——终止53\n",
      "起始54——终止75\n",
      "起始76——终止97\n",
      "起始98——终止113\n",
      "起始114——终止196\n",
      "起始197——终止230\n",
      "起始231——终止245\n",
      "起始246——终止280\n",
      "起始281——终止312\n",
      "起始313——终止346\n",
      "起始347——终止377\n",
      "起始378——终止405\n",
      "起始406——终止432\n",
      "起始433——终止454\n",
      "起始455——终止495\n",
      "起始496——终止518\n",
      "起始519——终止535\n",
      "起始536——终止589\n",
      "起始590——终止612\n",
      "起始613——终止626\n",
      "起始627——终止636\n",
      "起始637——终止662\n",
      "起始663——终止698\n",
      "起始699——终止729\n",
      "起始730——终止751\n",
      "起始752——终止775\n",
      "起始776——终止788\n",
      "起始789——终止829\n",
      "起始830\n"
     ]
    }
   ],
   "source": [
    "for val in list_startend:\n",
    "    if len(val)>1:        \n",
    "        print(f\"起始{val[0]}——终止{val[1]-1}\")\n",
    "    elif len(val)==1:\n",
    "        print(f\"起始{val[0]}\")"
   ]
  },
  {
   "cell_type": "code",
   "execution_count": 45,
   "metadata": {},
   "outputs": [
    {
     "data": {
      "text/plain": [
       "[0, 26]"
      ]
     },
     "execution_count": 45,
     "metadata": {},
     "output_type": "execute_result"
    }
   ],
   "source": [
    "list_startend[0]"
   ]
  },
  {
   "cell_type": "code",
   "execution_count": 46,
   "metadata": {},
   "outputs": [
    {
     "data": {
      "text/plain": [
       "2"
      ]
     },
     "execution_count": 46,
     "metadata": {},
     "output_type": "execute_result"
    }
   ],
   "source": [
    "len(list_startend[0])"
   ]
  },
  {
   "cell_type": "code",
   "execution_count": 61,
   "metadata": {
    "collapsed": true
   },
   "outputs": [],
   "source": [
    "def getHeaderBody(start,end):\n",
    "    '''\n",
    "        根据df的起止位置截取其中的头部（66666\t0\t25\t0\t1\t0\t6.0\t(nameless)\t20180501.0），\n",
    "        以及数据内容body（2017041406\t0\t109\t1302\t1010\t10）\n",
    "    '''\n",
    "    header=data.iloc[start-1]\n",
    "    body=data.iloc[start:end,0:6]\n",
    "    return header,body"
   ]
  },
  {
   "cell_type": "code",
   "execution_count": 62,
   "metadata": {},
   "outputs": [],
   "source": [
    "header,body=getHeaderBody(1,25)"
   ]
  },
  {
   "cell_type": "code",
   "execution_count": 63,
   "metadata": {},
   "outputs": [
    {
     "data": {
      "text/plain": [
       "0          66666\n",
       "1              0\n",
       "2             25\n",
       "3              0\n",
       "4              1\n",
       "5              0\n",
       "6              6\n",
       "7     (nameless)\n",
       "8    2.01805e+07\n",
       "Name: 0, dtype: object"
      ]
     },
     "execution_count": 63,
     "metadata": {},
     "output_type": "execute_result"
    }
   ],
   "source": [
    "header"
   ]
  },
  {
   "cell_type": "code",
   "execution_count": 64,
   "metadata": {},
   "outputs": [
    {
     "data": {
      "text/html": [
       "<div>\n",
       "<style>\n",
       "    .dataframe thead tr:only-child th {\n",
       "        text-align: right;\n",
       "    }\n",
       "\n",
       "    .dataframe thead th {\n",
       "        text-align: left;\n",
       "    }\n",
       "\n",
       "    .dataframe tbody tr th {\n",
       "        vertical-align: top;\n",
       "    }\n",
       "</style>\n",
       "<table border=\"1\" class=\"dataframe\">\n",
       "  <thead>\n",
       "    <tr style=\"text-align: right;\">\n",
       "      <th></th>\n",
       "      <th>0</th>\n",
       "      <th>1</th>\n",
       "      <th>2</th>\n",
       "      <th>3</th>\n",
       "      <th>4</th>\n",
       "      <th>5</th>\n",
       "    </tr>\n",
       "  </thead>\n",
       "  <tbody>\n",
       "    <tr>\n",
       "      <th>1</th>\n",
       "      <td>2017041406</td>\n",
       "      <td>0</td>\n",
       "      <td>109</td>\n",
       "      <td>1302</td>\n",
       "      <td>1010</td>\n",
       "      <td>10</td>\n",
       "    </tr>\n",
       "    <tr>\n",
       "      <th>2</th>\n",
       "      <td>2017041412</td>\n",
       "      <td>0</td>\n",
       "      <td>107</td>\n",
       "      <td>1290</td>\n",
       "      <td>1010</td>\n",
       "      <td>10</td>\n",
       "    </tr>\n",
       "    <tr>\n",
       "      <th>3</th>\n",
       "      <td>2017041418</td>\n",
       "      <td>0</td>\n",
       "      <td>107</td>\n",
       "      <td>1280</td>\n",
       "      <td>1010</td>\n",
       "      <td>10</td>\n",
       "    </tr>\n",
       "  </tbody>\n",
       "</table>\n",
       "</div>"
      ],
      "text/plain": [
       "            0  1    2     3     4   5\n",
       "1  2017041406  0  109  1302  1010  10\n",
       "2  2017041412  0  107  1290  1010  10\n",
       "3  2017041418  0  107  1280  1010  10"
      ]
     },
     "execution_count": 64,
     "metadata": {},
     "output_type": "execute_result"
    }
   ],
   "source": [
    "body.head(3)"
   ]
  },
  {
   "cell_type": "code",
   "execution_count": 65,
   "metadata": {},
   "outputs": [
    {
     "data": {
      "text/plain": [
       "24"
      ]
     },
     "execution_count": 65,
     "metadata": {},
     "output_type": "execute_result"
    }
   ],
   "source": [
    "len(body)"
   ]
  },
  {
   "cell_type": "code",
   "execution_count": null,
   "metadata": {
    "collapsed": true
   },
   "outputs": [],
   "source": [
    "def convert2Typhoon(obj,code):\n",
    "    '''\n",
    "        根据传入的series将其转为typhoob Model\n",
    "    '''\n",
    "    lat=float(f\"{str(obj[2])[:-1]}.{str(body.iloc[1][2])[-1:]}\")\n",
    "    lon=\n",
    "    typhoon_temp=GeoTyphoonRealData(code=code,\n",
    "                                date=datetime.datetime.now(),\n",
    "                                bp=obj[4],\n",
    "                                wsm=obj[5],\n",
    "                                latlon=Point(lat=18.2,lon=97.9))"
   ]
  },
  {
   "cell_type": "code",
   "execution_count": 89,
   "metadata": {},
   "outputs": [
    {
     "ename": "SyntaxError",
     "evalue": "unexpected EOF while parsing (<ipython-input-89-07416a4a1c49>, line 2)",
     "output_type": "error",
     "traceback": [
      "\u001b[0;36m  File \u001b[0;32m\"<ipython-input-89-07416a4a1c49>\"\u001b[0;36m, line \u001b[0;32m2\u001b[0m\n\u001b[0;31m    #     print(body.iloc[i])\u001b[0m\n\u001b[0m                             ^\u001b[0m\n\u001b[0;31mSyntaxError\u001b[0m\u001b[0;31m:\u001b[0m unexpected EOF while parsing\n"
     ]
    }
   ],
   "source": [
    "for i in range(len(body)):\n",
    "#     print(body.iloc[i])"
   ]
  },
  {
   "cell_type": "code",
   "execution_count": 67,
   "metadata": {},
   "outputs": [
    {
     "data": {
      "text/plain": [
       "0    2017042000\n",
       "1             0\n",
       "2           208\n",
       "3          1208\n",
       "4          1010\n",
       "5            10\n",
       "Name: 24, dtype: int64"
      ]
     },
     "execution_count": 67,
     "metadata": {},
     "output_type": "execute_result"
    }
   ],
   "source": [
    "body.iloc[i]"
   ]
  },
  {
   "cell_type": "markdown",
   "metadata": {},
   "source": [
    "### S2 拼接经纬度\n",
    "获取经纬度：  \n",
    "    - 将字符串转成float，并且最后一位为小数点后一位"
   ]
  },
  {
   "cell_type": "code",
   "execution_count": 82,
   "metadata": {},
   "outputs": [
    {
     "data": {
      "text/plain": [
       "'10'"
      ]
     },
     "execution_count": 82,
     "metadata": {},
     "output_type": "execute_result"
    }
   ],
   "source": [
    "str(body.iloc[1][2])[:-1]"
   ]
  },
  {
   "cell_type": "code",
   "execution_count": 83,
   "metadata": {},
   "outputs": [
    {
     "data": {
      "text/plain": [
       "'7'"
      ]
     },
     "execution_count": 83,
     "metadata": {},
     "output_type": "execute_result"
    }
   ],
   "source": [
    "str(body.iloc[1][2])[-1:]"
   ]
  },
  {
   "cell_type": "code",
   "execution_count": 84,
   "metadata": {},
   "outputs": [],
   "source": [
    "lat=float(f\"{str(body.iloc[1][2])[:-1]}.{str(body.iloc[1][2])[-1:]}\")"
   ]
  },
  {
   "cell_type": "code",
   "execution_count": 85,
   "metadata": {},
   "outputs": [
    {
     "data": {
      "text/plain": [
       "'129'"
      ]
     },
     "execution_count": 85,
     "metadata": {},
     "output_type": "execute_result"
    }
   ],
   "source": [
    "str(body.iloc[1][3])[:-1]"
   ]
  },
  {
   "cell_type": "code",
   "execution_count": 86,
   "metadata": {},
   "outputs": [
    {
     "data": {
      "text/plain": [
       "'0'"
      ]
     },
     "execution_count": 86,
     "metadata": {},
     "output_type": "execute_result"
    }
   ],
   "source": [
    "str(body.iloc[1][3])[-1:]"
   ]
  },
  {
   "cell_type": "code",
   "execution_count": 87,
   "metadata": {},
   "outputs": [],
   "source": [
    "lon=float(f\"{str(body.iloc[1][3])[:-1]}.{str(body.iloc[1][3])[-1:]}\")"
   ]
  },
  {
   "cell_type": "code",
   "execution_count": 88,
   "metadata": {},
   "outputs": [
    {
     "data": {
      "text/plain": [
       "[10.7, 129.0]"
      ]
     },
     "execution_count": 88,
     "metadata": {},
     "output_type": "execute_result"
    }
   ],
   "source": [
    "[lat,lon]"
   ]
  },
  {
   "cell_type": "code",
   "execution_count": null,
   "metadata": {
    "collapsed": true
   },
   "outputs": [],
   "source": []
  }
 ],
 "metadata": {
  "kernelspec": {
   "display_name": "Python 3",
   "language": "python",
   "name": "python3"
  },
  "language_info": {
   "codemirror_mode": {
    "name": "ipython",
    "version": 3
   },
   "file_extension": ".py",
   "mimetype": "text/x-python",
   "name": "python",
   "nbconvert_exporter": "python",
   "pygments_lexer": "ipython3",
   "version": "3.6.3"
  }
 },
 "nbformat": 4,
 "nbformat_minor": 2
}
