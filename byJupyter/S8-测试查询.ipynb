{
 "cells": [
  {
   "cell_type": "code",
   "execution_count": 2,
   "metadata": {},
   "outputs": [],
   "source": [
    "from mongoengine import *\n",
    "import os\n",
    "import pandas as pd\n",
    "from pandas import Series,DataFrame\n",
    "import datetime"
   ]
  },
  {
   "cell_type": "code",
   "execution_count": 3,
   "metadata": {},
   "outputs": [
    {
     "data": {
      "text/plain": [
       "MongoClient(host=['localhost:27017'], document_class=dict, tz_aware=False, connect=True, read_preference=Primary())"
      ]
     },
     "execution_count": 3,
     "metadata": {},
     "output_type": "execute_result"
    }
   ],
   "source": [
    "connect('typhoon')"
   ]
  },
  {
   "cell_type": "code",
   "execution_count": 4,
   "metadata": {},
   "outputs": [],
   "source": [
    "\n",
    "class Extremum(EmbeddedDocument):\n",
    "    '''\n",
    "        极值\n",
    "    '''\n",
    "    occurredTime = DateTimeField(required=False, default=None)\n",
    "    val = IntField(required=False, default=None)\n",
    "\n",
    "    # def __init__(self,date:datetime,val:str):\n",
    "    #     # self.occurredTime=date\n",
    "    #     # self.val=val\n",
    "    #     self._toModel(date,val)\n",
    "    #\n",
    "    # def _toModel(self,date:datetime,val:str):\n",
    "    #     '''\n",
    "    #         加入一个数据验证\n",
    "    #     :param date:\n",
    "    #     :param val:\n",
    "    #     :return:\n",
    "    #     '''\n",
    "    #     occurredTime= None if (date is '--' or date is None) else date\n",
    "    #     val=None if (val is '--' or val is None) else val\n",
    "\n",
    "\n",
    "class ForecastData(EmbeddedDocument):\n",
    "    # 极大值的24小时观测数组\n",
    "    forecast_arr = ListField(IntField(default=None))\n",
    "    heigh_heigh_tide = EmbeddedDocumentField(Extremum)\n",
    "    heigh_low_tide = EmbeddedDocumentField(Extremum)\n",
    "    low_heigh_tide = EmbeddedDocumentField(Extremum)\n",
    "    low_low_tide = EmbeddedDocumentField(Extremum)\n",
    "\n",
    "\n",
    "class RealData(EmbeddedDocument):\n",
    "    # 极大值的24小时观测数组\n",
    "    realdata_arr = ListField(IntField(default=None), default=None)\n",
    "    heigh_heigh_tide = EmbeddedDocumentField(Extremum)\n",
    "    heigh_low_tide = EmbeddedDocumentField(Extremum)\n",
    "    low_heigh_tide = EmbeddedDocumentField(Extremum)\n",
    "    low_low_tide = EmbeddedDocumentField(Extremum)\n",
    "\n",
    "\n",
    "class TideData(EmbeddedDocument):\n",
    "    '''\n",
    "        测站数据\n",
    "    '''\n",
    "    # 极大值的24小时观测数组\n",
    "    # forecast_arr = ListField(IntField())\n",
    "    # # 极小值得24小时观测数组\n",
    "    # realdata_arr = ListField(IntField())\n",
    "    # 目标日期（年-月-日）\n",
    "    #     targetdate=DateTimeField()\n",
    "    targetdate = DateField(default=None)\n",
    "    forecastdata = EmbeddedDocumentField(ForecastData)\n",
    "    realdata = EmbeddedDocumentField(RealData)\n",
    "    # heigh_heigh_tide = EmbeddedDocumentField(Extremum)\n",
    "    # heigh_low_tide = EmbeddedDocumentField(Extremum)\n",
    "    # low_heigh_tide = EmbeddedDocumentField(Extremum)\n",
    "    # low_low_tide = EmbeddedDocumentField(Extremum)\n",
    "\n",
    "\n",
    "class StationTideData(Document):\n",
    "    '''\n",
    "        测站潮位数据\n",
    "    '''\n",
    "    # 测站代码\n",
    "    code = StringField(max_length=10)\n",
    "    #     起始时间\n",
    "    startdate = DateTimeField()\n",
    "    #     测站名称\n",
    "    stationname = StringField(max_length=10)\n",
    "    #     gesjon数据\n",
    "    point = PointField()\n",
    "    #     平均海平面\n",
    "    lev = IntField()\n",
    "    #     警戒潮位\n",
    "    jw = IntField()\n",
    "    #     潮汐调和常数\n",
    "    harmonicconstant = StringField()\n",
    "    #     潮位数据\n",
    "    realtidedata = ListField(EmbeddedDocumentField(TideData))\n",
    "    # tideDataMin = EmbeddedDocumentField(TideData)\n",
    "    meta = {'collection': 'geostationtidedata'}"
   ]
  },
  {
   "cell_type": "markdown",
   "metadata": {},
   "source": [
    "## 1 测试查询使用"
   ]
  },
  {
   "cell_type": "code",
   "execution_count": 5,
   "metadata": {},
   "outputs": [],
   "source": [
    "filter_list=StationTideData.objects(code='5622')"
   ]
  },
  {
   "cell_type": "code",
   "execution_count": 6,
   "metadata": {},
   "outputs": [
    {
     "data": {
      "text/plain": [
       "[<StationTideData: StationTideData object>, <StationTideData: StationTideData object>, <StationTideData: StationTideData object>, <StationTideData: StationTideData object>, <StationTideData: StationTideData object>, <StationTideData: StationTideData object>, <StationTideData: StationTideData object>, <StationTideData: StationTideData object>, <StationTideData: StationTideData object>, <StationTideData: StationTideData object>, <StationTideData: StationTideData object>, <StationTideData: StationTideData object>, <StationTideData: StationTideData object>, <StationTideData: StationTideData object>, <StationTideData: StationTideData object>, <StationTideData: StationTideData object>, <StationTideData: StationTideData object>, <StationTideData: StationTideData object>]"
      ]
     },
     "execution_count": 6,
     "metadata": {},
     "output_type": "execute_result"
    }
   ],
   "source": [
    "filter_list"
   ]
  },
  {
   "cell_type": "code",
   "execution_count": 21,
   "metadata": {
    "collapsed": true
   },
   "outputs": [],
   "source": [
    "t1='1956-09-04 00:00'"
   ]
  },
  {
   "cell_type": "code",
   "execution_count": 22,
   "metadata": {},
   "outputs": [],
   "source": [
    "targetdate=datetime.datetime.strptime(t1,'%Y-%m-%d %H:%M')\n",
    "filter_list=StationTideData.objects(code='5622',startdate=targetdate)"
   ]
  },
  {
   "cell_type": "code",
   "execution_count": 23,
   "metadata": {},
   "outputs": [
    {
     "data": {
      "text/plain": [
       "4"
      ]
     },
     "execution_count": 23,
     "metadata": {},
     "output_type": "execute_result"
    }
   ],
   "source": [
    "len(filter_list)"
   ]
  },
  {
   "cell_type": "code",
   "execution_count": 24,
   "metadata": {},
   "outputs": [
    {
     "name": "stdout",
     "output_type": "stream",
     "text": [
      "1956-09-04 00:00:00\n",
      "1956-09-04 00:00:00\n",
      "1956-09-04 00:00:00\n",
      "1956-09-04 00:00:00\n"
     ]
    }
   ],
   "source": [
    "for temp in filter_list:\n",
    "    print(temp.startdate)"
   ]
  },
  {
   "cell_type": "code",
   "execution_count": 17,
   "metadata": {},
   "outputs": [
    {
     "data": {
      "text/plain": [
       "datetime.datetime(1956, 9, 2, 0, 0)"
      ]
     },
     "execution_count": 17,
     "metadata": {},
     "output_type": "execute_result"
    }
   ],
   "source": [
    "filter_list[:1][0].startdate"
   ]
  },
  {
   "cell_type": "code",
   "execution_count": 25,
   "metadata": {},
   "outputs": [
    {
     "data": {
      "text/plain": [
       "[<TideData: TideData object>,\n",
       " <TideData: TideData object>,\n",
       " <TideData: TideData object>,\n",
       " <TideData: TideData object>]"
      ]
     },
     "execution_count": 25,
     "metadata": {},
     "output_type": "execute_result"
    }
   ],
   "source": [
    "filter_list[:1][0].realtidedata"
   ]
  },
  {
   "cell_type": "markdown",
   "metadata": {
    "collapsed": true
   },
   "source": [
    "## 2"
   ]
  },
  {
   "cell_type": "code",
   "execution_count": 22,
   "metadata": {},
   "outputs": [],
   "source": [
    "import dateutil\n",
    "from datetime import datetime,timedelta,date"
   ]
  },
  {
   "cell_type": "code",
   "execution_count": 17,
   "metadata": {},
   "outputs": [],
   "source": [
    "date_str='1956-09-03 00:00:00+00:00'\n",
    "code='5622'"
   ]
  },
  {
   "cell_type": "code",
   "execution_count": 18,
   "metadata": {},
   "outputs": [
    {
     "data": {
      "text/plain": [
       "datetime.datetime(1956, 9, 3, 0, 0, tzinfo=tzutc())"
      ]
     },
     "execution_count": 18,
     "metadata": {},
     "output_type": "execute_result"
    }
   ],
   "source": [
    "targetdate = dateutil.parser.parse(date_str)\n",
    "targetdate"
   ]
  },
  {
   "cell_type": "code",
   "execution_count": 24,
   "metadata": {},
   "outputs": [
    {
     "data": {
      "text/plain": [
       "datetime.date(1956, 9, 3)"
      ]
     },
     "execution_count": 24,
     "metadata": {},
     "output_type": "execute_result"
    }
   ],
   "source": [
    "date(1956,9,3)"
   ]
  },
  {
   "cell_type": "code",
   "execution_count": 28,
   "metadata": {},
   "outputs": [],
   "source": [
    "list=StationTideData.objects(code=code,startdate=date(1956,9,3))"
   ]
  },
  {
   "cell_type": "code",
   "execution_count": 29,
   "metadata": {},
   "outputs": [
    {
     "name": "stdout",
     "output_type": "stream",
     "text": [
      "1956-09-03 00:00:00\n",
      "1956-09-03 00:00:00\n",
      "1956-09-03 00:00:00\n",
      "1956-09-03 00:00:00\n"
     ]
    }
   ],
   "source": [
    "for temp in list:\n",
    "    print(temp.startdate)"
   ]
  },
  {
   "cell_type": "code",
   "execution_count": 31,
   "metadata": {},
   "outputs": [],
   "source": [
    "# list(list)"
   ]
  },
  {
   "cell_type": "code",
   "execution_count": null,
   "metadata": {},
   "outputs": [],
   "source": []
  }
 ],
 "metadata": {
  "kernelspec": {
   "display_name": "Python 3",
   "language": "python",
   "name": "python3"
  },
  "language_info": {
   "codemirror_mode": {
    "name": "ipython",
    "version": 3
   },
   "file_extension": ".py",
   "mimetype": "text/x-python",
   "name": "python",
   "nbconvert_exporter": "python",
   "pygments_lexer": "ipython3",
   "version": "3.7.1"
  }
 },
 "nbformat": 4,
 "nbformat_minor": 2
}
