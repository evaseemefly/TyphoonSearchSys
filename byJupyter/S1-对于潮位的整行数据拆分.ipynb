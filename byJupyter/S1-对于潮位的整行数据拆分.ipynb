{
 "cells": [
  {
   "cell_type": "code",
   "execution_count": 2,
   "metadata": {
    "collapsed": true
   },
   "outputs": [],
   "source": [
    "from mongoengine import *\n",
    "import os\n",
    "import pandas as pd\n",
    "from pandas import Series,DataFrame\n",
    "import datetime"
   ]
  },
  {
   "cell_type": "markdown",
   "metadata": {},
   "source": [
    "## 1 读取文件"
   ]
  },
  {
   "cell_type": "markdown",
   "metadata": {},
   "source": [
    "### 读取方式1：使用pandas"
   ]
  },
  {
   "cell_type": "code",
   "execution_count": 3,
   "metadata": {
    "collapsed": true
   },
   "outputs": [],
   "source": [
    "targetfilename=r\"5622.txt\"\n",
    "# 家中mac\n",
    "# targetpath=r\"/Users/casablanca/03project/typhoonSearchSys/demo_data\"\n",
    "# 单位mac\n",
    "targetpath=r\"/Users/liusihan/Documents/01project/TyphoonSearchSys/demo_data\"\n",
    "fullname=os.path.join(targetpath,targetfilename)"
   ]
  },
  {
   "cell_type": "code",
   "execution_count": 4,
   "metadata": {},
   "outputs": [
    {
     "data": {
      "text/plain": [
       "'/Users/liusihan/Documents/01project/TyphoonSearchSys/demo_data/5622.txt'"
      ]
     },
     "execution_count": 4,
     "metadata": {},
     "output_type": "execute_result"
    }
   ],
   "source": [
    "fullname"
   ]
  },
  {
   "cell_type": "markdown",
   "metadata": {},
   "source": [
    "不使用pandas的read_table"
   ]
  },
  {
   "cell_type": "code",
   "execution_count": 5,
   "metadata": {},
   "outputs": [
    {
     "name": "stdout",
     "output_type": "stream",
     "text": [
      "读取成功\n"
     ]
    }
   ],
   "source": [
    "with open(fullname,'rb') as f:\n",
    "    data=pd.read_table(f,sep='\\n',encoding='utf-8',header=None,infer_datetime_format=False)\n",
    "    print('读取成功')"
   ]
  },
  {
   "cell_type": "code",
   "execution_count": 6,
   "metadata": {},
   "outputs": [
    {
     "data": {
      "text/html": [
       "<div>\n",
       "<style>\n",
       "    .dataframe thead tr:only-child th {\n",
       "        text-align: right;\n",
       "    }\n",
       "\n",
       "    .dataframe thead th {\n",
       "        text-align: left;\n",
       "    }\n",
       "\n",
       "    .dataframe tbody tr th {\n",
       "        vertical-align: top;\n",
       "    }\n",
       "</style>\n",
       "<table border=\"1\" class=\"dataframe\">\n",
       "  <thead>\n",
       "    <tr style=\"text-align: right;\">\n",
       "      <th></th>\n",
       "      <th>0</th>\n",
       "    </tr>\n",
       "  </thead>\n",
       "  <tbody>\n",
       "    <tr>\n",
       "      <th>0</th>\n",
       "      <td>1</td>\n",
       "    </tr>\n",
       "    <tr>\n",
       "      <th>1</th>\n",
       "      <td>S.N.   122      5622      9   4     QI...</td>\n",
       "    </tr>\n",
       "    <tr>\n",
       "      <th>2</th>\n",
       "      <td>0   1   2   3   4   5   6   7   8   9 ...</td>\n",
       "    </tr>\n",
       "    <tr>\n",
       "      <th>3</th>\n",
       "      <td>+                                             ...</td>\n",
       "    </tr>\n",
       "    <tr>\n",
       "      <th>4</th>\n",
       "      <td>9   159 156 135 107  90  93 110 123 145 141 ...</td>\n",
       "    </tr>\n",
       "    <tr>\n",
       "      <th>5</th>\n",
       "      <td>4   121 109  90  71  58  53  59  73  87  96 ...</td>\n",
       "    </tr>\n",
       "    <tr>\n",
       "      <th>6</th>\n",
       "      <td>30    38  47  45  36  32  40  51  50  58  45 ...</td>\n",
       "    </tr>\n",
       "    <tr>\n",
       "      <th>7</th>\n",
       "      <td>9   156 159 142 126 106 100  98  --  --  -- ...</td>\n",
       "    </tr>\n",
       "  </tbody>\n",
       "</table>\n",
       "</div>"
      ],
      "text/plain": [
       "                                                   0\n",
       "0                                                  1\n",
       "1          S.N.   122      5622      9   4     QI...\n",
       "2          0   1   2   3   4   5   6   7   8   9 ...\n",
       "3  +                                             ...\n",
       "4    9   159 156 135 107  90  93 110 123 145 141 ...\n",
       "5    4   121 109  90  71  58  53  59  73  87  96 ...\n",
       "6   30    38  47  45  36  32  40  51  50  58  45 ...\n",
       "7    9   156 159 142 126 106 100  98  --  --  -- ..."
      ]
     },
     "execution_count": 6,
     "metadata": {},
     "output_type": "execute_result"
    }
   ],
   "source": [
    "data.head(8)"
   ]
  },
  {
   "cell_type": "markdown",
   "metadata": {},
   "source": [
    "### S1 对于部分数据由于四位会导致间隔没有空格  \n",
    "发现 210 SHACHENG 存在这个问题"
   ]
  },
  {
   "cell_type": "code",
   "execution_count": 7,
   "metadata": {},
   "outputs": [
    {
     "data": {
      "text/plain": [
       "['+', 'H', 'H', 'L', 'L']"
      ]
     },
     "execution_count": 7,
     "metadata": {},
     "output_type": "execute_result"
    }
   ],
   "source": [
    "data.iloc[210][0].split()"
   ]
  },
  {
   "cell_type": "code",
   "execution_count": 8,
   "metadata": {},
   "outputs": [
    {
     "data": {
      "text/plain": [
       "210    +                                             ...\n",
       "211      9   600 570 592 651 736 830 895 927 915 848 ...\n",
       "212      2   609 576 592 650 731 817 885 914 897 834 ...\n",
       "213     27    -9  -6   0   1   5  13  10  13  18  14 ...\n",
       "214      9   681 596 591 642 752 862 946 990 976 902 ...\n",
       "215      3   655 571 533 556 631 733 838 917 950 928 ...\n",
       "216     28    26  25  58  86 121 129 108  73  26 -26 ...\n",
       "217                              MAX                 ...\n",
       "218      9   829 680 626 555 547 644 776 913 9851035 ...\n",
       "219      4   733 614 523 494 537 635 758 874 956 983 ...\n",
       "220     29    96  66 103  61  10   9  18  39  29  52 ...\n",
       "221      9   808 668 532 432 415 507 624 760 886 971 ...\n",
       "222      5   821 689 563 478 469 538 659 796 915 9901...\n",
       "223     30   -13 -21 -31 -46 -54 -31 -35 -36 -29 -19 ...\n",
       "224                                                    1\n",
       "225            S.N. 73806      5622      9   2     BA...\n",
       "226            0   1   2   3   4   5   6   7   8   9 ...\n",
       "Name: 0, dtype: object"
      ]
     },
     "execution_count": 8,
     "metadata": {},
     "output_type": "execute_result"
    }
   ],
   "source": [
    "data.iloc[210:227][0]"
   ]
  },
  {
   "cell_type": "code",
   "execution_count": 18,
   "metadata": {},
   "outputs": [
    {
     "data": {
      "text/plain": [
       "['9',\n",
       " '829',\n",
       " '680',\n",
       " '626',\n",
       " '555',\n",
       " '547',\n",
       " '644',\n",
       " '776',\n",
       " '913',\n",
       " '9851035',\n",
       " '981',\n",
       " '879',\n",
       " '764',\n",
       " '616',\n",
       " '477',\n",
       " '407',\n",
       " '426',\n",
       " '505',\n",
       " '671',\n",
       " '824',\n",
       " '94710061003',\n",
       " '928',\n",
       " '08451035',\n",
       " '21301020',\n",
       " '0330',\n",
       " '532',\n",
       " '1515',\n",
       " '402']"
      ]
     },
     "execution_count": 18,
     "metadata": {},
     "output_type": "execute_result"
    }
   ],
   "source": [
    "data.iloc[218][0].split()"
   ]
  },
  {
   "cell_type": "code",
   "execution_count": 8,
   "metadata": {
    "collapsed": true
   },
   "outputs": [],
   "source": [
    "temp=data.iloc[218][0]"
   ]
  },
  {
   "cell_type": "code",
   "execution_count": 20,
   "metadata": {},
   "outputs": [
    {
     "data": {
      "text/plain": [
       "'  9   829 680 626 555 547 644 776 913 9851035 981 879 764 616 477 407 426 505 671 824 94710061003 928 08451035 21301020 0330 532 1515 402'"
      ]
     },
     "execution_count": 20,
     "metadata": {},
     "output_type": "execute_result"
    }
   ],
   "source": [
    "temp"
   ]
  },
  {
   "cell_type": "code",
   "execution_count": 52,
   "metadata": {},
   "outputs": [
    {
     "data": {
      "text/plain": [
       "' 829 680 626 555 547 644 776 913 9851035 981 879 764 616 477 407 426 505 671 824 94710061003 928 08451035 21301020 0330 532 1515 402'"
      ]
     },
     "execution_count": 52,
     "metadata": {},
     "output_type": "execute_result"
    }
   ],
   "source": [
    "temp[5:]"
   ]
  },
  {
   "cell_type": "code",
   "execution_count": 43,
   "metadata": {},
   "outputs": [
    {
     "data": {
      "text/plain": [
       "<enumerate at 0x115132bd0>"
      ]
     },
     "execution_count": 43,
     "metadata": {},
     "output_type": "execute_result"
    }
   ],
   "source": [
    "enumerate(range(9,len(temp),4))"
   ]
  },
  {
   "cell_type": "markdown",
   "metadata": {},
   "source": [
    "- 1 切分0-23时的数据"
   ]
  },
  {
   "cell_type": "code",
   "execution_count": 40,
   "metadata": {
    "collapsed": true
   },
   "outputs": [],
   "source": [
    "realdata_arr=[]"
   ]
  },
  {
   "cell_type": "code",
   "execution_count": 41,
   "metadata": {},
   "outputs": [
    {
     "name": "stdout",
     "output_type": "stream",
     "text": [
      "num:1\n",
      "start:5|end:9\n",
      " 829\n",
      "----\n",
      "num:2\n",
      "start:9|end:13\n",
      " 680\n",
      "----\n",
      "num:3\n",
      "start:13|end:17\n",
      " 626\n",
      "----\n",
      "num:4\n",
      "start:17|end:21\n",
      " 555\n",
      "----\n",
      "num:5\n",
      "start:21|end:25\n",
      " 547\n",
      "----\n",
      "num:6\n",
      "start:25|end:29\n",
      " 644\n",
      "----\n",
      "num:7\n",
      "start:29|end:33\n",
      " 776\n",
      "----\n",
      "num:8\n",
      "start:33|end:37\n",
      " 913\n",
      "----\n",
      "num:9\n",
      "start:37|end:41\n",
      " 985\n",
      "----\n",
      "num:10\n",
      "start:41|end:45\n",
      "1035\n",
      "----\n",
      "num:11\n",
      "start:45|end:49\n",
      " 981\n",
      "----\n",
      "num:12\n",
      "start:49|end:53\n",
      " 879\n",
      "----\n",
      "num:13\n",
      "start:53|end:57\n",
      " 764\n",
      "----\n",
      "num:14\n",
      "start:57|end:61\n",
      " 616\n",
      "----\n",
      "num:15\n",
      "start:61|end:65\n",
      " 477\n",
      "----\n",
      "num:16\n",
      "start:65|end:69\n",
      " 407\n",
      "----\n",
      "num:17\n",
      "start:69|end:73\n",
      " 426\n",
      "----\n",
      "num:18\n",
      "start:73|end:77\n",
      " 505\n",
      "----\n",
      "num:19\n",
      "start:77|end:81\n",
      " 671\n",
      "----\n",
      "num:20\n",
      "start:81|end:85\n",
      " 824\n",
      "----\n",
      "num:21\n",
      "start:85|end:89\n",
      " 947\n",
      "----\n",
      "num:22\n",
      "start:89|end:93\n",
      "1006\n",
      "----\n",
      "num:23\n",
      "start:93|end:97\n",
      "1003\n",
      "----\n",
      "num:24\n",
      "start:97|end:101\n",
      " 928\n",
      "----\n"
     ]
    }
   ],
   "source": [
    "for i,val in enumerate(range(5,len(temp),4)):\n",
    "#     print(i)\n",
    "    if i<24:\n",
    "        print(f'num:{i+1}')\n",
    "        print(f'start:{val}|end:{val+4}')\n",
    "    #     if val!=0:\n",
    "    #         print(val)\n",
    "        print(temp[val:val+4])\n",
    "        realdata_arr.append(int(temp[val:val+4]))\n",
    "        print('----')\n",
    "    "
   ]
  },
  {
   "cell_type": "markdown",
   "metadata": {},
   "source": [
    "- 2 切分后面的高低潮位数据"
   ]
  },
  {
   "cell_type": "code",
   "execution_count": 42,
   "metadata": {},
   "outputs": [
    {
     "data": {
      "text/plain": [
       "'0845'"
      ]
     },
     "execution_count": 42,
     "metadata": {},
     "output_type": "execute_result"
    }
   ],
   "source": [
    "index=102\n",
    "step=4\n",
    "temp[index:index+step]"
   ]
  },
  {
   "cell_type": "code",
   "execution_count": 43,
   "metadata": {},
   "outputs": [
    {
     "name": "stdout",
     "output_type": "stream",
     "text": [
      "num:1\n",
      "start:102|end:111\n",
      "val:0845|val2:1035\n",
      "hour:8|min:45\n",
      "----\n",
      "num:2\n",
      "start:111|end:120\n",
      "val:2130|val2:1020\n",
      "hour:21|min:30\n",
      "----\n",
      "num:3\n",
      "start:120|end:129\n",
      "val:0330|val2: 532\n",
      "hour:3|min:30\n",
      "----\n",
      "num:4\n",
      "start:129|end:138\n",
      "val:1515|val2: 402\n",
      "hour:15|min:15\n",
      "----\n"
     ]
    }
   ],
   "source": [
    "index_2=102\n",
    "step_2=9\n",
    "year=1958\n",
    "month=9\n",
    "day=4\n",
    "for i,val in enumerate(range(index_2,len(temp),step_2)):\n",
    "#     print(i)\n",
    "    if i<24:\n",
    "        print(f'num:{i+1}')\n",
    "        print(f'start:{val}|end:{val+step_2}')\n",
    "\n",
    "    #     if val!=0:\n",
    "    #         print(val)\n",
    "        print(f'val:{temp[val:val+step]}|val2:{temp[val+step:val+step*2]}')\n",
    "        print(f'hour:{int(temp[val:val+step][:2])}|min:{int(temp[val:val+step][2:])}')\n",
    "        # 时间\n",
    "        temp_datetime=datetime.datetime(year,month,day,int(temp[val:val+step][:2]),int(temp[val:val+step][2:]))\n",
    "        realdata_arr.append(temp_datetime)\n",
    "        # 潮位\n",
    "        realdata_arr.append(int(temp[val+step:val+step*2]))\n",
    "        print('----')"
   ]
  },
  {
   "cell_type": "code",
   "execution_count": 44,
   "metadata": {},
   "outputs": [
    {
     "data": {
      "text/plain": [
       "[829,\n",
       " 680,\n",
       " 626,\n",
       " 555,\n",
       " 547,\n",
       " 644,\n",
       " 776,\n",
       " 913,\n",
       " 985,\n",
       " 1035,\n",
       " 981,\n",
       " 879,\n",
       " 764,\n",
       " 616,\n",
       " 477,\n",
       " 407,\n",
       " 426,\n",
       " 505,\n",
       " 671,\n",
       " 824,\n",
       " 947,\n",
       " 1006,\n",
       " 1003,\n",
       " 928,\n",
       " datetime.datetime(1958, 9, 4, 8, 45),\n",
       " 1035,\n",
       " datetime.datetime(1958, 9, 4, 21, 30),\n",
       " 1020,\n",
       " datetime.datetime(1958, 9, 4, 3, 30),\n",
       " 532,\n",
       " datetime.datetime(1958, 9, 4, 15, 15),\n",
       " 402]"
      ]
     },
     "execution_count": 44,
     "metadata": {},
     "output_type": "execute_result"
    }
   ],
   "source": [
    "realdata_arr"
   ]
  },
  {
   "cell_type": "code",
   "execution_count": null,
   "metadata": {
    "collapsed": true
   },
   "outputs": [],
   "source": []
  }
 ],
 "metadata": {
  "kernelspec": {
   "display_name": "Python 3",
   "language": "python",
   "name": "python3"
  },
  "language_info": {
   "codemirror_mode": {
    "name": "ipython",
    "version": 3
   },
   "file_extension": ".py",
   "mimetype": "text/x-python",
   "name": "python",
   "nbconvert_exporter": "python",
   "pygments_lexer": "ipython3",
   "version": "3.6.3"
  }
 },
 "nbformat": 4,
 "nbformat_minor": 2
}
