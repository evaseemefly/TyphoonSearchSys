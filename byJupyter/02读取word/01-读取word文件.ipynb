{
 "cells": [
  {
   "cell_type": "code",
   "execution_count": 4,
   "metadata": {},
   "outputs": [],
   "source": [
    "from docx import Document\n",
    "import os"
   ]
  },
  {
   "cell_type": "code",
   "execution_count": 5,
   "metadata": {},
   "outputs": [],
   "source": [
    "targetfilename=r\"5622.docx\"\n",
    "targetpath=r\"D:\\01proj\\typhoon\\TyphoonSearchSys\\demo_data\"\n",
    "fullname=os.path.join(targetpath,targetfilename)"
   ]
  },
  {
   "cell_type": "code",
   "execution_count": 8,
   "metadata": {},
   "outputs": [
    {
     "name": "stdout",
     "output_type": "stream",
     "text": [
      "14、5622风暴潮灾害（橙色）\n",
      "5622号台风（Dinah）于9月3日11时（农历七月廿九日）在台湾花莲沿海登陆，登陆时台风近中心最大风力12级，中心气压970 hPa，3日23时又在福建省长乐市沿海登陆，登陆时近中心最大风速38 m/s，中心气压976 hPa。受其影响，山东省、江苏省、浙江省和福建省沿海有8个站的最大增水超过1.0 m，其中浙江温州站增水最大，为1.92 m，其中受陆域洪水部分影响；6个站的最高潮位超过当地警戒潮位，其中福建沙埕站的最高潮位超过当地警戒潮位0.70 m。\n",
      "受影响各省因灾共死亡（失踪）216人，其中福建省52人，浙江省87人，江苏省77人；浙江省直接经济损失0.7246亿元。\n",
      "福建省3.04多万公顷农田受淹；802条船只损坏；海堤366处被冲毁；损失仓库1座；7.1万间房屋倒塌；3 095条水坝、2座水库被冲坏。\n",
      "浙江省温州、台州、宁波、丽水、金华等地区22个县受灾，90.7×103 hm2农田受淹；87人死亡，300多人受伤；3万间房屋倒塌；5 000处水利工程、14处水库受损。\n",
      "上海市崇明岛南丰沙淤堤被冲开缺口，社员以身堵缺口，保住了庄稼。\n",
      "江苏省海、河堤防数十处决口，燕尾港镇海堤被冲毁；洋桥镇堤防潮水漫溢，低洼地区水深2 m；大浦口堤防决口。连云港市沿海高潮位超过1951年以来的历史记录，市区2 907间房屋倒塌，3 221间房屋损坏，75人死亡，20人重伤。太仓市1 510 hm2农田受淹；潮水冲塌房屋9 548间，损毁渔船6条；2人死亡。\n",
      "山东省沿海有农田和村舍被淹。\n",
      "\n",
      "\n",
      "\n",
      "\n",
      "\n",
      "\n",
      "图14.1  5622号台风期间沿海潮位站风暴增水分布图\n",
      "\n",
      "\n",
      "\n",
      "\n",
      "\n",
      "\n",
      "图14.2  5622号台风期间沿海潮位站最高潮位与当地警戒潮位关系图\n",
      "\n",
      "\n",
      "\n",
      "\n",
      "图14.3  5622号台风期间海门站实测潮位、天文潮位和风暴增水随时间变化图\n",
      "（起始时间1956年9月1日0时）\n",
      "\n",
      "\n",
      "图14.4  5622号台风期间温州站实测潮位、天文潮位和风暴增水随时间变化图\n",
      "（起始时间1956年9月2日0时）\n",
      "\n",
      "\n",
      "图14.5  5622号台风期间沙埕站实测潮位、天文潮位和风暴增水随时间变化图\n",
      "（起始时间1956年9月2日0时）\n",
      "\n",
      "\n",
      "图14.6  5622号台风期间白岩潭站实测潮位、天文潮位和风暴增水随时间变化图\n",
      "（起始时间1956年9月2日0时）\n",
      "\n"
     ]
    }
   ],
   "source": [
    "def readtxt(filename):\n",
    "    doc = Document(filename)\n",
    "    fullText = []\n",
    "    for para in doc.paragraphs:\n",
    "        fullText.append(para.text)\n",
    "    return '\\n'.join(fullText)\n",
    "\n",
    "print (readtxt(fullname))"
   ]
  },
  {
   "cell_type": "code",
   "execution_count": null,
   "metadata": {},
   "outputs": [],
   "source": []
  }
 ],
 "metadata": {
  "kernelspec": {
   "display_name": "Python 3",
   "language": "python",
   "name": "python3"
  },
  "language_info": {
   "codemirror_mode": {
    "name": "ipython",
    "version": 3
   },
   "file_extension": ".py",
   "mimetype": "text/x-python",
   "name": "python",
   "nbconvert_exporter": "python",
   "pygments_lexer": "ipython3",
   "version": "3.7.1"
  }
 },
 "nbformat": 4,
 "nbformat_minor": 2
}
